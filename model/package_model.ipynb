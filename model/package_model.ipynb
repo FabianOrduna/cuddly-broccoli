{
 "cells": [
  {
   "cell_type": "code",
   "execution_count": 2,
   "id": "6002412c-266b-4e5c-bb5d-1d0ab56c6324",
   "metadata": {},
   "outputs": [],
   "source": [
    "import pandas as pd\n",
    "import sklearn\n",
    "\n",
    "model_pkg = pd.read_pickle(r'svm.pkl')"
   ]
  },
  {
   "cell_type": "code",
   "execution_count": 3,
   "id": "c6c6c58c-01ee-4613-8777-1110b7e536b5",
   "metadata": {},
   "outputs": [
    {
     "data": {
      "text/plain": [
       "GridSearchCV(cv=5,\n",
       "             estimator=Pipeline(steps=[('encoder',\n",
       "                                        ColumnTransformer(n_jobs=-1,\n",
       "                                                          transformers=[('onehot',\n",
       "                                                                         OneHotEncoder(handle_unknown='ignore'),\n",
       "                                                                         ['local',\n",
       "                                                                          'visita'])])),\n",
       "                                       ('classifier',\n",
       "                                        RandomForestClassifier())]),\n",
       "             n_jobs=-1,\n",
       "             param_grid=[{'classifier': [SVC(C=0.1, kernel='linear',\n",
       "                                             probability=True,\n",
       "                                             random_state=0)],\n",
       "                          'classifier__C': [1e-05, 0.0001, 0.001, 0.01, 0.1, 1,\n",
       "                                            10],\n",
       "                          'classifier__kernel': ['linear', 'rbf']}],\n",
       "             scoring='accuracy')"
      ]
     },
     "execution_count": 3,
     "metadata": {},
     "output_type": "execute_result"
    }
   ],
   "source": [
    "model_pkg"
   ]
  },
  {
   "cell_type": "code",
   "execution_count": 24,
   "id": "7dbd66e3-506b-468d-ab7c-5b5a4a502fd7",
   "metadata": {},
   "outputs": [],
   "source": [
    "# Update these to your own GCP project, model, and version names\n",
    "GCP_PROJECT = 'cuddly-broccoli'\n",
    "MODEL_BUCKET = 'gs://bucket_soccer'\n",
    "VERSION_NAME = 'v1'\n",
    "MODEL_NAME = 'soccer_prediction'"
   ]
  },
  {
   "cell_type": "markdown",
   "id": "3b3fbdf5-b469-48b2-9a6b-8727a10873c5",
   "metadata": {},
   "source": [
    "**CREATE BUCKET**"
   ]
  },
  {
   "cell_type": "code",
   "execution_count": 6,
   "id": "b29a675d-631e-4021-80f9-a8a1b541b48c",
   "metadata": {},
   "outputs": [
    {
     "name": "stdout",
     "output_type": "stream",
     "text": [
      "Creating gs://bucket_soccer/...\n"
     ]
    }
   ],
   "source": [
    "!gsutil mb $MODEL_BUCKET"
   ]
  },
  {
   "cell_type": "markdown",
   "id": "7447f138-fe04-44aa-8d5d-cf8e767829b8",
   "metadata": {},
   "source": [
    "**PUT THE MODEL INTO BUCKET**"
   ]
  },
  {
   "cell_type": "code",
   "execution_count": 19,
   "id": "2e683acb-bb3d-4d70-ace9-ca155a1f9b2d",
   "metadata": {},
   "outputs": [
    {
     "name": "stdout",
     "output_type": "stream",
     "text": [
      "Copying file://./svm.pkl [Content-Type=application/octet-stream]...\n",
      "/ [1 files][ 86.6 KiB/ 86.6 KiB]                                                \n",
      "Operation completed over 1 objects/86.6 KiB.                                     \n"
     ]
    }
   ],
   "source": [
    "!gsutil cp ./svm.pkl $MODEL_BUCKET/model.pkl"
   ]
  },
  {
   "cell_type": "markdown",
   "id": "c516a965-72bf-448f-89c9-b07dd878527c",
   "metadata": {},
   "source": [
    "# Create model"
   ]
  },
  {
   "cell_type": "code",
   "execution_count": 21,
   "id": "5546fd5d-8bec-4210-b247-d6f5f0d7819e",
   "metadata": {
    "tags": []
   },
   "outputs": [
    {
     "name": "stdout",
     "output_type": "stream",
     "text": [
      "Using endpoint [https://us-central1-ml.googleapis.com/]\n",
      "Created ai platform model [projects/cuddly-broccoli/models/soccer_prediction].\n"
     ]
    }
   ],
   "source": [
    "!gcloud ai-platform models create $MODEL_NAME \\\n",
    "  --region=us-central1"
   ]
  },
  {
   "cell_type": "code",
   "execution_count": 22,
   "id": "866865e4-1a38-47f3-8413-8a2b73f35546",
   "metadata": {},
   "outputs": [],
   "source": [
    "MODEL_DIR=\"gs://bucket_soccer/\""
   ]
  },
  {
   "cell_type": "code",
   "execution_count": 25,
   "id": "799d19d1-f704-4fac-9f20-7cc134b65e70",
   "metadata": {},
   "outputs": [
    {
     "name": "stdout",
     "output_type": "stream",
     "text": [
      "Using endpoint [https://us-central1-ml.googleapis.com/]\n",
      "Creating version (this might take a few minutes)......⠧                        ^C\n",
      "Creating version (this might take a few minutes)......aborted by ctrl-c.       \n",
      "\u001b[1;31mERROR:\u001b[0m (gcloud.ai-platform.versions.create) Aborting wait for operation https://us-central1-ml.googleapis.com/v1/projects/cuddly-broccoli/operations/create_soccer_prediction_v1-1649306690484.\n",
      "\n"
     ]
    }
   ],
   "source": [
    "!gcloud ai-platform versions create $VERSION_NAME \\\n",
    "  --model=$MODEL_NAME \\\n",
    "  --origin=$MODEL_DIR \\\n",
    "  --runtime-version=2.8 \\\n",
    "  --framework='scikit-learn' \\\n",
    "  --python-version=3.7 \\\n",
    "  --region=us-central1 "
   ]
  },
  {
   "cell_type": "code",
   "execution_count": null,
   "id": "4be46382-27d3-4675-9196-37d91b1501ab",
   "metadata": {},
   "outputs": [],
   "source": [
    "!gcloud ai-platform versions describe $VERSION_NAME \\\n",
    "  --model=$MODEL_NAME --region=us-central1"
   ]
  },
  {
   "cell_type": "code",
   "execution_count": null,
   "id": "4dbd056e-6d70-4cf6-814b-d4c98954854c",
   "metadata": {},
   "outputs": [],
   "source": []
  },
  {
   "cell_type": "code",
   "execution_count": null,
   "id": "4813b018-7bc1-41cf-b467-da03fe870e8a",
   "metadata": {},
   "outputs": [],
   "source": []
  },
  {
   "cell_type": "markdown",
   "id": "9e89f021-c23b-43d0-b552-a25ede92e71e",
   "metadata": {},
   "source": [
    "# Referencias\n",
    "- https://cloud.google.com/ai-platform/prediction/docs/deploying-models#gcloud_1\n",
    "- https://codelabs.developers.google.com/codelabs/xgb-caip-e2e#6\n",
    "- Lab de la clase"
   ]
  }
 ],
 "metadata": {
  "environment": {
   "kernel": "python3",
   "name": "common-cpu.m90",
   "type": "gcloud",
   "uri": "gcr.io/deeplearning-platform-release/base-cpu:m90"
  },
  "kernelspec": {
   "display_name": "Python 3",
   "language": "python",
   "name": "python3"
  },
  "language_info": {
   "codemirror_mode": {
    "name": "ipython",
    "version": 3
   },
   "file_extension": ".py",
   "mimetype": "text/x-python",
   "name": "python",
   "nbconvert_exporter": "python",
   "pygments_lexer": "ipython3",
   "version": "3.7.12"
  }
 },
 "nbformat": 4,
 "nbformat_minor": 5
}
