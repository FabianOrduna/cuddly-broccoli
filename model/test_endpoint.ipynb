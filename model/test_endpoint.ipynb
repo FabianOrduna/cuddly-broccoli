{
 "cells": [
  {
   "cell_type": "code",
   "execution_count": 6,
   "id": "bf9bf74f-e9e9-41f4-9434-4296d2509f00",
   "metadata": {},
   "outputs": [
    {
     "name": "stdout",
     "output_type": "stream",
     "text": [
      "Overwriting default-pred.json\n"
     ]
    }
   ],
   "source": [
    "# writing a json with the input values for the model\n",
    "\n",
    "%%writefile default-pred.json\n",
    "{\n",
    "  \"instances\": [\n",
    "    {\"local_goles\":80,\n",
    "        \"local_goles_recibidos\":30,\n",
    "        \"loca_dif_goles\":50,\n",
    "        \"local_jornadas_jugadas\":\"17\",\n",
    "        \"visita_goles\":12,\n",
    "        \"visita_goles_recibidos\":62,\n",
    "        \"visita_dif_goles\":-50,\n",
    "        \"visita_jornadas_jugadas\":\"17\"}\n",
    "  ]\n",
    "}"
   ]
  },
  {
   "cell_type": "code",
   "execution_count": 7,
   "id": "3cd1058a-6298-48a7-bc7a-d6df722d45cc",
   "metadata": {},
   "outputs": [],
   "source": [
    "ENDPOINT_ID=\"5982302029240860672\"\n",
    "PROJECT_ID=\"876786234239\"\n",
    "INPUT_DATA_FILE=\"INPUT-JSON\""
   ]
  },
  {
   "cell_type": "code",
   "execution_count": 8,
   "id": "256c471d-fe91-4575-923d-4b7075d13da3",
   "metadata": {},
   "outputs": [],
   "source": [
    "REGION=\"us-central1\" # either us-central1, europe-west4, or asia-east1\n"
   ]
  },
  {
   "cell_type": "code",
   "execution_count": 9,
   "id": "93d54ccf-af1c-4043-a36c-ec5c31b32dc4",
   "metadata": {},
   "outputs": [
    {
     "name": "stdout",
     "output_type": "stream",
     "text": [
      "{\n",
      "  \"predictions\": [\n",
      "    {\n",
      "      \"classes\": [\n",
      "        \"L\",\n",
      "        \"V\",\n",
      "        \"E\"\n",
      "      ],\n",
      "      \"scores\": [\n",
      "        0.85472750663757324,\n",
      "        0.054186481982469559,\n",
      "        0.091085948050022125\n",
      "      ]\n",
      "    }\n",
      "  ],\n",
      "  \"deployedModelId\": \"5724418174015766528\",\n",
      "  \"model\": \"projects/876786234239/locations/us-central1/models/1012276375228252160\",\n",
      "  \"modelDisplayName\": \"vertex_para_endpoint\",\n",
      "  \"modelVersionId\": \"1\"\n",
      "}\n"
     ]
    }
   ],
   "source": [
    "# predicting\n",
    "\n",
    "!curl \\\n",
    "-X POST \\\n",
    "-H \"Authorization: Bearer $(gcloud auth print-access-token)\" \\\n",
    "-H \"Content-Type: application/json\" \\\n",
    "https://us-central1-prediction-aiplatform.googleapis.com/v1alpha1/projects/$PROJECT_ID/locations/$REGION/endpoints/$ENDPOINT_ID:predict \\\n",
    "-d \"@default-pred.json\""
   ]
  },
  {
   "cell_type": "code",
   "execution_count": null,
   "id": "7a72c9af-0fe4-49c6-b7d9-d3d1926adcba",
   "metadata": {},
   "outputs": [],
   "source": []
  }
 ],
 "metadata": {
  "environment": {
   "kernel": "python3",
   "name": "common-cpu.m90",
   "type": "gcloud",
   "uri": "gcr.io/deeplearning-platform-release/base-cpu:m90"
  },
  "kernelspec": {
   "display_name": "Python 3",
   "language": "python",
   "name": "python3"
  },
  "language_info": {
   "codemirror_mode": {
    "name": "ipython",
    "version": 3
   },
   "file_extension": ".py",
   "mimetype": "text/x-python",
   "name": "python",
   "nbconvert_exporter": "python",
   "pygments_lexer": "ipython3",
   "version": "3.7.12"
  }
 },
 "nbformat": 4,
 "nbformat_minor": 5
}
