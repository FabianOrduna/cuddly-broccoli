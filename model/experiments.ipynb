{
 "cells": [
  {
   "cell_type": "code",
   "execution_count": 174,
   "id": "cf3f93f0-4fec-4dfd-94de-30520e9eb223",
   "metadata": {},
   "outputs": [],
   "source": [
    "import yaml\n",
    "import requests\n",
    "import pandas as pd\n",
    "import matplotlib.pyplot as plt\n",
    "import numpy as np\n",
    "import seaborn as sns"
   ]
  },
  {
   "cell_type": "markdown",
   "id": "ea58ab39-ba3b-4122-add3-431254f8e1fb",
   "metadata": {},
   "source": [
    "# Exploratory Data Analysis (EDA)"
   ]
  },
  {
   "cell_type": "markdown",
   "id": "cc75266d-fa2d-48b7-8305-c66d344f7bd2",
   "metadata": {},
   "source": [
    "## Seasons data frame"
   ]
  },
  {
   "cell_type": "code",
   "execution_count": null,
   "id": "0292b4fa-780c-4736-9e7f-a7c27ee65168",
   "metadata": {},
   "outputs": [],
   "source": [
    "#consulta de datos de seasons (match) que se llame season_df. La consulta se hace desde GCP"
   ]
  },
  {
   "cell_type": "code",
   "execution_count": null,
   "id": "bd0fecd0-097e-45f4-80cd-cd4c98975371",
   "metadata": {},
   "outputs": [],
   "source": [
    "#consulta de datos de statistics que se llame statistics_df"
   ]
  },
  {
   "cell_type": "code",
   "execution_count": 7,
   "id": "b4a38b0f-bc70-4d4b-8f03-dbbfa9b464ca",
   "metadata": {},
   "outputs": [
    {
     "name": "stdout",
     "output_type": "stream",
     "text": [
      "<class 'pandas.core.frame.DataFrame'>\n",
      "RangeIndex: 1140 entries, 0 to 1139\n",
      "Data columns (total 10 columns):\n",
      " #   Column         Non-Null Count  Dtype  \n",
      "---  ------         --------------  -----  \n",
      " 0   Unnamed: 0     1140 non-null   int64  \n",
      " 1   season         1140 non-null   int64  \n",
      " 2   match_date     1140 non-null   object \n",
      " 3   match_id       1140 non-null   int64  \n",
      " 4   local_team     1140 non-null   object \n",
      " 5   local_team_id  1140 non-null   int64  \n",
      " 6   away_team      1140 non-null   object \n",
      " 7   away_team_id   1140 non-null   int64  \n",
      " 8   local_goals    1048 non-null   float64\n",
      " 9   away_goals     1048 non-null   float64\n",
      "dtypes: float64(2), int64(5), object(3)\n",
      "memory usage: 89.2+ KB\n"
     ]
    }
   ],
   "source": [
    "seasons_df.info()"
   ]
  },
  {
   "cell_type": "markdown",
   "id": "b1b88c04-4faa-4f6f-b8d2-ec7f827b0b60",
   "metadata": {},
   "source": [
    "Explore NA in season data frame"
   ]
  },
  {
   "cell_type": "code",
   "execution_count": 8,
   "id": "94b4c1c4-b84b-44ad-bba5-7a89e32b9ba9",
   "metadata": {},
   "outputs": [
    {
     "data": {
      "text/plain": [
       "<AxesSubplot:>"
      ]
     },
     "execution_count": 8,
     "metadata": {},
     "output_type": "execute_result"
    },
    {
     "data": {
      "image/png": "[encoded data removed]",
      "text/plain": [
       "<Figure size 432x288 with 1 Axes>"
      ]
     },
     "metadata": {
      "needs_background": "light"
     },
     "output_type": "display_data"
    }
   ],
   "source": [
    "sns.heatmap(seasons_df.isnull(), cbar=False)"
   ]
  },
  {
   "cell_type": "markdown",
   "id": "ee0685ac-af91-4089-a483-ae312ac8be1d",
   "metadata": {},
   "source": [
    "As you can see we have a few missing values on the local and away goals. So, we will count the missing values and underestand for what reason we have it."
   ]
  },
  {
   "cell_type": "code",
   "execution_count": 9,
   "id": "7d9b91ea-2f02-475a-8ca3-0e4ba816b382",
   "metadata": {},
   "outputs": [
    {
     "name": "stdout",
     "output_type": "stream",
     "text": [
      "The NA's for local goals are:92\n",
      "The NA's for local goals are:92\n"
     ]
    }
   ],
   "source": [
    "local_na = len(seasons_df[seasons_df['local_goals'].isnull()])\n",
    "away_na = len(seasons_df[seasons_df['away_goals'].isnull()])\n",
    "\n",
    "print(f\"The NA's for local goals are:{local_na}\")\n",
    "print(f\"The NA's for local goals are:{away_na}\")"
   ]
  },
  {
   "cell_type": "code",
   "execution_count": 10,
   "id": "bcea1001-b334-4747-95e5-9780228dcec6",
   "metadata": {},
   "outputs": [
    {
     "data": {
      "text/html": [
       "<div>\n",
       "<style scoped>\n",
       "    .dataframe tbody tr th:only-of-type {\n",
       "        vertical-align: middle;\n",
       "    }\n",
       "\n",
       "    .dataframe tbody tr th {\n",
       "        vertical-align: top;\n",
       "    }\n",
       "\n",
       "    .dataframe thead th {\n",
       "        text-align: right;\n",
       "    }\n",
       "</style>\n",
       "<table border=\"1\" class=\"dataframe\">\n",
       "  <thead>\n",
       "    <tr style=\"text-align: right;\">\n",
       "      <th></th>\n",
       "      <th>Unnamed: 0</th>\n",
       "      <th>season</th>\n",
       "      <th>match_date</th>\n",
       "      <th>match_id</th>\n",
       "      <th>local_team</th>\n",
       "      <th>local_team_id</th>\n",
       "      <th>away_team</th>\n",
       "      <th>away_team_id</th>\n",
       "      <th>local_goals</th>\n",
       "      <th>away_goals</th>\n",
       "    </tr>\n",
       "  </thead>\n",
       "  <tbody>\n",
       "    <tr>\n",
       "      <th>930</th>\n",
       "      <td>170</td>\n",
       "      <td>2021</td>\n",
       "      <td>2021-12-18T15:00:00+00:00</td>\n",
       "      <td>710726</td>\n",
       "      <td>Aston Villa</td>\n",
       "      <td>66</td>\n",
       "      <td>Burnley</td>\n",
       "      <td>44</td>\n",
       "      <td>NaN</td>\n",
       "      <td>NaN</td>\n",
       "    </tr>\n",
       "    <tr>\n",
       "      <th>931</th>\n",
       "      <td>171</td>\n",
       "      <td>2021</td>\n",
       "      <td>2022-04-20T18:45:00+00:00</td>\n",
       "      <td>710727</td>\n",
       "      <td>Everton</td>\n",
       "      <td>45</td>\n",
       "      <td>Leicester</td>\n",
       "      <td>46</td>\n",
       "      <td>NaN</td>\n",
       "      <td>NaN</td>\n",
       "    </tr>\n",
       "    <tr>\n",
       "      <th>942</th>\n",
       "      <td>182</td>\n",
       "      <td>2021</td>\n",
       "      <td>2022-04-06T18:30:00+00:00</td>\n",
       "      <td>710738</td>\n",
       "      <td>Burnley</td>\n",
       "      <td>44</td>\n",
       "      <td>Everton</td>\n",
       "      <td>45</td>\n",
       "      <td>NaN</td>\n",
       "      <td>NaN</td>\n",
       "    </tr>\n",
       "    <tr>\n",
       "      <th>966</th>\n",
       "      <td>206</td>\n",
       "      <td>2021</td>\n",
       "      <td>2022-01-01T15:00:00+00:00</td>\n",
       "      <td>710762</td>\n",
       "      <td>Leicester</td>\n",
       "      <td>46</td>\n",
       "      <td>Norwich</td>\n",
       "      <td>71</td>\n",
       "      <td>NaN</td>\n",
       "      <td>NaN</td>\n",
       "    </tr>\n",
       "    <tr>\n",
       "      <th>977</th>\n",
       "      <td>217</td>\n",
       "      <td>2021</td>\n",
       "      <td>2022-01-16T16:30:00+00:00</td>\n",
       "      <td>710773</td>\n",
       "      <td>Tottenham</td>\n",
       "      <td>47</td>\n",
       "      <td>Arsenal</td>\n",
       "      <td>42</td>\n",
       "      <td>NaN</td>\n",
       "      <td>NaN</td>\n",
       "    </tr>\n",
       "    <tr>\n",
       "      <th>...</th>\n",
       "      <td>...</td>\n",
       "      <td>...</td>\n",
       "      <td>...</td>\n",
       "      <td>...</td>\n",
       "      <td>...</td>\n",
       "      <td>...</td>\n",
       "      <td>...</td>\n",
       "      <td>...</td>\n",
       "      <td>...</td>\n",
       "      <td>...</td>\n",
       "    </tr>\n",
       "    <tr>\n",
       "      <th>1135</th>\n",
       "      <td>375</td>\n",
       "      <td>2021</td>\n",
       "      <td>2022-05-22T15:00:00+00:00</td>\n",
       "      <td>710931</td>\n",
       "      <td>Crystal Palace</td>\n",
       "      <td>52</td>\n",
       "      <td>Manchester United</td>\n",
       "      <td>33</td>\n",
       "      <td>NaN</td>\n",
       "      <td>NaN</td>\n",
       "    </tr>\n",
       "    <tr>\n",
       "      <th>1136</th>\n",
       "      <td>376</td>\n",
       "      <td>2021</td>\n",
       "      <td>2022-05-22T15:00:00+00:00</td>\n",
       "      <td>710932</td>\n",
       "      <td>Leicester</td>\n",
       "      <td>46</td>\n",
       "      <td>Southampton</td>\n",
       "      <td>41</td>\n",
       "      <td>NaN</td>\n",
       "      <td>NaN</td>\n",
       "    </tr>\n",
       "    <tr>\n",
       "      <th>1137</th>\n",
       "      <td>377</td>\n",
       "      <td>2021</td>\n",
       "      <td>2022-05-22T15:00:00+00:00</td>\n",
       "      <td>710933</td>\n",
       "      <td>Liverpool</td>\n",
       "      <td>40</td>\n",
       "      <td>Wolves</td>\n",
       "      <td>39</td>\n",
       "      <td>NaN</td>\n",
       "      <td>NaN</td>\n",
       "    </tr>\n",
       "    <tr>\n",
       "      <th>1138</th>\n",
       "      <td>378</td>\n",
       "      <td>2021</td>\n",
       "      <td>2022-05-22T15:00:00+00:00</td>\n",
       "      <td>710934</td>\n",
       "      <td>Manchester City</td>\n",
       "      <td>50</td>\n",
       "      <td>Aston Villa</td>\n",
       "      <td>66</td>\n",
       "      <td>NaN</td>\n",
       "      <td>NaN</td>\n",
       "    </tr>\n",
       "    <tr>\n",
       "      <th>1139</th>\n",
       "      <td>379</td>\n",
       "      <td>2021</td>\n",
       "      <td>2022-05-22T15:00:00+00:00</td>\n",
       "      <td>710935</td>\n",
       "      <td>Norwich</td>\n",
       "      <td>71</td>\n",
       "      <td>Tottenham</td>\n",
       "      <td>47</td>\n",
       "      <td>NaN</td>\n",
       "      <td>NaN</td>\n",
       "    </tr>\n",
       "  </tbody>\n",
       "</table>\n",
       "<p>92 rows × 10 columns</p>\n",
       "</div>"
      ],
      "text/plain": [
       "      Unnamed: 0  season                 match_date  match_id  \\\n",
       "930          170    2021  2021-12-18T15:00:00+00:00    710726   \n",
       "931          171    2021  2022-04-20T18:45:00+00:00    710727   \n",
       "942          182    2021  2022-04-06T18:30:00+00:00    710738   \n",
       "966          206    2021  2022-01-01T15:00:00+00:00    710762   \n",
       "977          217    2021  2022-01-16T16:30:00+00:00    710773   \n",
       "...          ...     ...                        ...       ...   \n",
       "1135         375    2021  2022-05-22T15:00:00+00:00    710931   \n",
       "1136         376    2021  2022-05-22T15:00:00+00:00    710932   \n",
       "1137         377    2021  2022-05-22T15:00:00+00:00    710933   \n",
       "1138         378    2021  2022-05-22T15:00:00+00:00    710934   \n",
       "1139         379    2021  2022-05-22T15:00:00+00:00    710935   \n",
       "\n",
       "           local_team  local_team_id          away_team  away_team_id  \\\n",
       "930       Aston Villa             66            Burnley            44   \n",
       "931           Everton             45          Leicester            46   \n",
       "942           Burnley             44            Everton            45   \n",
       "966         Leicester             46            Norwich            71   \n",
       "977         Tottenham             47            Arsenal            42   \n",
       "...               ...            ...                ...           ...   \n",
       "1135   Crystal Palace             52  Manchester United            33   \n",
       "1136        Leicester             46        Southampton            41   \n",
       "1137        Liverpool             40             Wolves            39   \n",
       "1138  Manchester City             50        Aston Villa            66   \n",
       "1139          Norwich             71          Tottenham            47   \n",
       "\n",
       "      local_goals  away_goals  \n",
       "930           NaN         NaN  \n",
       "931           NaN         NaN  \n",
       "942           NaN         NaN  \n",
       "966           NaN         NaN  \n",
       "977           NaN         NaN  \n",
       "...           ...         ...  \n",
       "1135          NaN         NaN  \n",
       "1136          NaN         NaN  \n",
       "1137          NaN         NaN  \n",
       "1138          NaN         NaN  \n",
       "1139          NaN         NaN  \n",
       "\n",
       "[92 rows x 10 columns]"
      ]
     },
     "execution_count": 10,
     "metadata": {},
     "output_type": "execute_result"
    }
   ],
   "source": [
    "seasons_df[seasons_df['local_goals'].isnull()]"
   ]
  },
  {
   "cell_type": "markdown",
   "id": "03e92083-3f85-496c-b86e-204c0ac827f9",
   "metadata": {},
   "source": [
    "As you can see, according to the match date the missing values correspond to matches for the rest of the year 2022. We will explore if it is true. "
   ]
  },
  {
   "cell_type": "code",
   "execution_count": 11,
   "id": "9d66c7df-1c74-4c39-9910-1cc93a158a59",
   "metadata": {},
   "outputs": [
    {
     "data": {
      "text/plain": [
       "array([2021, 2022])"
      ]
     },
     "execution_count": 11,
     "metadata": {},
     "output_type": "execute_result"
    }
   ],
   "source": [
    "df_null = seasons_df[seasons_df['local_goals'].isnull()].copy()\n",
    "df_null['anio'] = df_null['match_date'].astype(str).str[0:4]\n",
    "df_null['anio'] = df_null['anio'].astype(int)\n",
    "df_null.anio.unique()"
   ]
  },
  {
   "cell_type": "code",
   "execution_count": 12,
   "id": "7e69b1e4-7bee-4dbc-8d23-2c6e08b9bce8",
   "metadata": {},
   "outputs": [
    {
     "data": {
      "text/html": [
       "<div>\n",
       "<style scoped>\n",
       "    .dataframe tbody tr th:only-of-type {\n",
       "        vertical-align: middle;\n",
       "    }\n",
       "\n",
       "    .dataframe tbody tr th {\n",
       "        vertical-align: top;\n",
       "    }\n",
       "\n",
       "    .dataframe thead th {\n",
       "        text-align: right;\n",
       "    }\n",
       "</style>\n",
       "<table border=\"1\" class=\"dataframe\">\n",
       "  <thead>\n",
       "    <tr style=\"text-align: right;\">\n",
       "      <th></th>\n",
       "      <th>Unnamed: 0</th>\n",
       "      <th>season</th>\n",
       "      <th>match_date</th>\n",
       "      <th>match_id</th>\n",
       "      <th>local_team</th>\n",
       "      <th>local_team_id</th>\n",
       "      <th>away_team</th>\n",
       "      <th>away_team_id</th>\n",
       "      <th>local_goals</th>\n",
       "      <th>away_goals</th>\n",
       "      <th>anio</th>\n",
       "    </tr>\n",
       "  </thead>\n",
       "  <tbody>\n",
       "    <tr>\n",
       "      <th>930</th>\n",
       "      <td>170</td>\n",
       "      <td>2021</td>\n",
       "      <td>2021-12-18T15:00:00+00:00</td>\n",
       "      <td>710726</td>\n",
       "      <td>Aston Villa</td>\n",
       "      <td>66</td>\n",
       "      <td>Burnley</td>\n",
       "      <td>44</td>\n",
       "      <td>NaN</td>\n",
       "      <td>NaN</td>\n",
       "      <td>2021</td>\n",
       "    </tr>\n",
       "  </tbody>\n",
       "</table>\n",
       "</div>"
      ],
      "text/plain": [
       "     Unnamed: 0  season                 match_date  match_id   local_team  \\\n",
       "930         170    2021  2021-12-18T15:00:00+00:00    710726  Aston Villa   \n",
       "\n",
       "     local_team_id away_team  away_team_id  local_goals  away_goals  anio  \n",
       "930             66   Burnley            44          NaN         NaN  2021  "
      ]
     },
     "execution_count": 12,
     "metadata": {},
     "output_type": "execute_result"
    }
   ],
   "source": [
    "df_null[df_null['anio'] == 2021]"
   ]
  },
  {
   "attachments": {
    "6a58c2f4-29ec-43f9-8757-7c5f4ea78333.png": {
     "image/png": "[encoded data removed]"
    }
   },
   "cell_type": "markdown",
   "id": "1941092e-9cd5-4167-9855-3c4e674b27ac",
   "metadata": {},
   "source": [
    "According to the schedule of the competition this match was posposed without results. See the next image:\n",
    "\n",
    "![Captura de Pantalla 2022-03-21 a la(s) 13.58.18.png](attachment:6a58c2f4-29ec-43f9-8757-7c5f4ea78333.png)\n",
    "\n",
    "In conclusion it is possible to us delete the null values of our data set to do the analysis. "
   ]
  },
  {
   "cell_type": "code",
   "execution_count": 13,
   "id": "045b276c-21bf-48c2-b828-aabb0b8e5dfb",
   "metadata": {},
   "outputs": [],
   "source": [
    "seasons_df = seasons_df[seasons_df['away_goals'].notnull()]"
   ]
  },
  {
   "cell_type": "code",
   "execution_count": 14,
   "id": "e388feee-5fe9-4f35-9150-d732c4108676",
   "metadata": {},
   "outputs": [
    {
     "data": {
      "text/plain": [
       "<AxesSubplot:>"
      ]
     },
     "execution_count": 14,
     "metadata": {},
     "output_type": "execute_result"
    },
    {
     "data": {
      "image/png": "[encoded data removed]",
      "text/plain": [
       "<Figure size 432x288 with 1 Axes>"
      ]
     },
     "metadata": {
      "needs_background": "light"
     },
     "output_type": "display_data"
    }
   ],
   "source": [
    "sns.heatmap(seasons_df.isnull(), cbar=False)"
   ]
  },
  {
   "cell_type": "markdown",
   "id": "a5ab5dd3-d6e1-42c0-9dd5-88ec710a30cd",
   "metadata": {},
   "source": [
    "Now, we will reviw the distribution for the local team and away team goals."
   ]
  },
  {
   "cell_type": "code",
   "execution_count": 15,
   "id": "16328d94-9e90-4399-a621-461c62c11b79",
   "metadata": {},
   "outputs": [
    {
     "data": {
      "image/png": "[encoded data removed]",
      "text/plain": [
       "<Figure size 648x288 with 1 Axes>"
      ]
     },
     "metadata": {
      "needs_background": "light"
     },
     "output_type": "display_data"
    }
   ],
   "source": [
    "fig, ax = plt.subplots(figsize=(9,4)) \n",
    "plt.hist(seasons_df[['local_goals', 'away_goals']].values, \n",
    "          label=['Home', 'Away'], color=[\"#FFA07A\", \"#20B2AA\"])\n",
    "plt.legend(['Home', 'Away'])\n",
    "plt.show()"
   ]
  },
  {
   "cell_type": "markdown",
   "id": "20b2d488-7ab6-4103-a01e-0efab7bb8bdb",
   "metadata": {},
   "source": [
    "The histogram show simple, but interesting things. For example, we can see that the away team with zero goals more frequent that the home team with zero goals and this is important for our model because we can think that this condition (home oe away) represent an importan factor for the analysis.\n",
    "\n",
    "On the other hand, we can notice there are teams that in a match perfomred more than six goals, but as you can see this is bit frequently event, under this condition we suggest remove this atypical result because it can represent a bias factor for proposal model.\n",
    "\n",
    "The matches with more than 6 goals form one team are:"
   ]
  },
  {
   "cell_type": "code",
   "execution_count": 16,
   "id": "719328f6-7529-4cb7-9aaf-08817c988228",
   "metadata": {},
   "outputs": [
    {
     "data": {
      "text/html": [
       "<div>\n",
       "<style scoped>\n",
       "    .dataframe tbody tr th:only-of-type {\n",
       "        vertical-align: middle;\n",
       "    }\n",
       "\n",
       "    .dataframe tbody tr th {\n",
       "        vertical-align: top;\n",
       "    }\n",
       "\n",
       "    .dataframe thead th {\n",
       "        text-align: right;\n",
       "    }\n",
       "</style>\n",
       "<table border=\"1\" class=\"dataframe\">\n",
       "  <thead>\n",
       "    <tr style=\"text-align: right;\">\n",
       "      <th></th>\n",
       "      <th>0</th>\n",
       "    </tr>\n",
       "  </thead>\n",
       "  <tbody>\n",
       "    <tr>\n",
       "      <th>2.0</th>\n",
       "      <td>343</td>\n",
       "    </tr>\n",
       "    <tr>\n",
       "      <th>1.0</th>\n",
       "      <td>299</td>\n",
       "    </tr>\n",
       "    <tr>\n",
       "      <th>3.0</th>\n",
       "      <td>219</td>\n",
       "    </tr>\n",
       "    <tr>\n",
       "      <th>4.0</th>\n",
       "      <td>75</td>\n",
       "    </tr>\n",
       "    <tr>\n",
       "      <th>0.0</th>\n",
       "      <td>68</td>\n",
       "    </tr>\n",
       "    <tr>\n",
       "      <th>5.0</th>\n",
       "      <td>32</td>\n",
       "    </tr>\n",
       "    <tr>\n",
       "      <th>6.0</th>\n",
       "      <td>5</td>\n",
       "    </tr>\n",
       "    <tr>\n",
       "      <th>7.0</th>\n",
       "      <td>4</td>\n",
       "    </tr>\n",
       "    <tr>\n",
       "      <th>9.0</th>\n",
       "      <td>2</td>\n",
       "    </tr>\n",
       "    <tr>\n",
       "      <th>8.0</th>\n",
       "      <td>1</td>\n",
       "    </tr>\n",
       "  </tbody>\n",
       "</table>\n",
       "</div>"
      ],
      "text/plain": [
       "       0\n",
       "2.0  343\n",
       "1.0  299\n",
       "3.0  219\n",
       "4.0   75\n",
       "0.0   68\n",
       "5.0   32\n",
       "6.0    5\n",
       "7.0    4\n",
       "9.0    2\n",
       "8.0    1"
      ]
     },
     "execution_count": 16,
     "metadata": {},
     "output_type": "execute_result"
    }
   ],
   "source": [
    "pd.DataFrame(seasons_df[[\"local_goals\", \"away_goals\"]].max(axis=1).value_counts())"
   ]
  },
  {
   "cell_type": "markdown",
   "id": "7d7ee05e-e0ba-46bc-842c-237e20a97245",
   "metadata": {},
   "source": [
    "There are only 12 mathes where one of the teams performed more than 6 goals, 5 matches with 6 goals, 4 with 7, 2 with 9 and 1 with 8 goals, for this reason we will delete of the table in order to ajust our model."
   ]
  },
  {
   "cell_type": "code",
   "execution_count": 17,
   "id": "6cfe5787-f8ec-4425-b975-b6753cf009b5",
   "metadata": {},
   "outputs": [],
   "source": [
    "seasons_df = seasons_df[seasons_df[\"local_goals\"]<6]"
   ]
  },
  {
   "cell_type": "code",
   "execution_count": 18,
   "id": "8048fcf8-adf2-44dd-9320-505304186b5b",
   "metadata": {},
   "outputs": [],
   "source": [
    "seasons_df = seasons_df[seasons_df[\"away_goals\"]<6]"
   ]
  },
  {
   "cell_type": "markdown",
   "id": "b97704ec-4131-4538-bf1c-7618e520729d",
   "metadata": {},
   "source": [
    "Finally, the histogram of goals by away and home condition removing the atypical results is:"
   ]
  },
  {
   "cell_type": "code",
   "execution_count": 19,
   "id": "856aa97c-464a-41bb-ab01-21363d1628a7",
   "metadata": {},
   "outputs": [
    {
     "data": {
      "image/png": "[encoded data removed]",
      "text/plain": [
       "<Figure size 648x288 with 1 Axes>"
      ]
     },
     "metadata": {
      "needs_background": "light"
     },
     "output_type": "display_data"
    }
   ],
   "source": [
    "fig, ax = plt.subplots(figsize=(9,4)) \n",
    "plt.hist(seasons_df[['local_goals', 'away_goals']].values, color=[\"#FFA07A\", \"#20B2AA\"])\n",
    "plt.legend(['Home', 'Away'])\n",
    "plt.show()"
   ]
  },
  {
   "cell_type": "markdown",
   "id": "b20629c6-6dd2-4d28-8e64-f770ce664eaa",
   "metadata": {},
   "source": [
    "## Statistics data frame"
   ]
  },
  {
   "cell_type": "code",
   "execution_count": 42,
   "id": "834638f0-fcc4-4ea4-8830-4ce42f1e8c83",
   "metadata": {},
   "outputs": [
    {
     "name": "stdout",
     "output_type": "stream",
     "text": [
      "<class 'pandas.core.frame.DataFrame'>\n",
      "RangeIndex: 1879 entries, 0 to 1878\n",
      "Data columns (total 19 columns):\n",
      " #   Column           Non-Null Count  Dtype  \n",
      "---  ------           --------------  -----  \n",
      " 0   page             1879 non-null   int64  \n",
      " 1   season           1879 non-null   int64  \n",
      " 2   player_id        1879 non-null   int64  \n",
      " 3   player_name      1879 non-null   object \n",
      " 4   age              1874 non-null   float64\n",
      " 5   height           1622 non-null   object \n",
      " 6   weight           1509 non-null   object \n",
      " 7   injured          1879 non-null   bool   \n",
      " 8   team_id          1879 non-null   int64  \n",
      " 9   appearences      1832 non-null   float64\n",
      " 10  minutes          1832 non-null   float64\n",
      " 11  position         1879 non-null   object \n",
      " 12  rating           1310 non-null   float64\n",
      " 13  shots            1130 non-null   float64\n",
      " 14  goals            1832 non-null   float64\n",
      " 15  assists          651 non-null    float64\n",
      " 16  passes_accuracy  1319 non-null   float64\n",
      " 17  total_duels      1303 non-null   float64\n",
      " 18  won_duels        1281 non-null   float64\n",
      "dtypes: bool(1), float64(10), int64(4), object(4)\n",
      "memory usage: 266.2+ KB\n"
     ]
    }
   ],
   "source": [
    "statistics_df.info()"
   ]
  },
  {
   "cell_type": "markdown",
   "id": "87d15b25-d65e-4bf9-9a42-a075e3b568f4",
   "metadata": {},
   "source": [
    "Exploring NA values by column"
   ]
  },
  {
   "cell_type": "code",
   "execution_count": 43,
   "id": "c760782b-a26c-482a-abbd-2c664de514f1",
   "metadata": {},
   "outputs": [
    {
     "data": {
      "text/plain": [
       "(1879, 19)"
      ]
     },
     "execution_count": 43,
     "metadata": {},
     "output_type": "execute_result"
    }
   ],
   "source": [
    "statistics_df.shape"
   ]
  },
  {
   "cell_type": "code",
   "execution_count": 44,
   "id": "d2fab3c8-b7c1-4383-9728-2b8d65dbbe92",
   "metadata": {},
   "outputs": [
    {
     "data": {
      "text/plain": [
       "<AxesSubplot:>"
      ]
     },
     "execution_count": 44,
     "metadata": {},
     "output_type": "execute_result"
    },
    {
     "data": {
      "image/png": "[encoded data removed]",
      "text/plain": [
       "<Figure size 432x288 with 1 Axes>"
      ]
     },
     "metadata": {
      "needs_background": "light"
     },
     "output_type": "display_data"
    }
   ],
   "source": [
    "sns.heatmap(statistics_df.isnull(), cbar=False)"
   ]
  },
  {
   "cell_type": "markdown",
   "id": "34aa1146-b9d1-41b6-b6ae-9881f22c2667",
   "metadata": {},
   "source": [
    "Argumentar si las asistencias son necesarias porque se ven muchos nulos. Hacer un comparativo por posisción de las asistencias a ver si tiene que ver con eso, adicional considerar el hecho de que el rating puede contener esa información, se puede sacar un promedio diferenciado con o sin asistencias para argumentar. "
   ]
  },
  {
   "cell_type": "markdown",
   "id": "b8245db3-5768-4148-a17d-1bc61fc2ac5d",
   "metadata": {},
   "source": [
    "We have a lot variable with null values. The idea is to inspect eache one to underestand the reason of in that case if the variable is neccesary. So, in the first place we will analize assists variable. If we compare the assist values with the position it is possible to underestan for wath reason a lot of this values are null. "
   ]
  },
  {
   "cell_type": "code",
   "execution_count": 45,
   "id": "6b3325c6-8906-4cee-ae09-3d07dcc226b1",
   "metadata": {},
   "outputs": [
    {
     "data": {
      "text/plain": [
       "position\n",
       "Attacker      179\n",
       "Defender      182\n",
       "Goalkeeper      6\n",
       "Midfielder    284\n",
       "Name: assists, dtype: int64"
      ]
     },
     "execution_count": 45,
     "metadata": {},
     "output_type": "execute_result"
    }
   ],
   "source": [
    "statistics_df.groupby(\"position\")[\"assists\"].count()"
   ]
  },
  {
   "cell_type": "code",
   "execution_count": 46,
   "id": "ce2e4303-efbb-4afd-8102-369614df592c",
   "metadata": {},
   "outputs": [
    {
     "data": {
      "text/plain": [
       "position\n",
       "Attacker      203\n",
       "Defender      434\n",
       "Goalkeeper    207\n",
       "Midfielder    384\n",
       "Name: assists, dtype: int64"
      ]
     },
     "execution_count": 46,
     "metadata": {},
     "output_type": "execute_result"
    }
   ],
   "source": [
    "statistics_df.groupby(\"position\")[\"assists\"].apply(lambda x: x.isnull().sum())"
   ]
  },
  {
   "cell_type": "markdown",
   "id": "8f996c7d-772c-4486-b7cf-3207ab185915",
   "metadata": {},
   "source": [
    "As you can see, the position with more NaN's values is the goalkeeper and it is common in the futbal. We can see that defender is a position with a not assist and this is natural. But to understand if this variable is informative or not we can compre the ratings, and we can assume that if the average rating per player is diferent then this variable will be necessary to consider in our model on the other hand we can remove. "
   ]
  },
  {
   "cell_type": "code",
   "execution_count": 47,
   "id": "00c83cb0-d703-4110-8431-ab146615da67",
   "metadata": {},
   "outputs": [
    {
     "name": "stderr",
     "output_type": "stream",
     "text": [
      "<ipython-input-47-c872696174e4>:1: FutureWarning: Indexing with multiple keys (implicitly converted to a tuple of keys) will be deprecated, use a list instead.\n",
      "  statistics_df[statistics_df['assists'].notnull()].groupby(\"position\")[\"rating\",\"appearences\"].mean()\n"
     ]
    },
    {
     "data": {
      "text/html": [
       "<div>\n",
       "<style scoped>\n",
       "    .dataframe tbody tr th:only-of-type {\n",
       "        vertical-align: middle;\n",
       "    }\n",
       "\n",
       "    .dataframe tbody tr th {\n",
       "        vertical-align: top;\n",
       "    }\n",
       "\n",
       "    .dataframe thead th {\n",
       "        text-align: right;\n",
       "    }\n",
       "</style>\n",
       "<table border=\"1\" class=\"dataframe\">\n",
       "  <thead>\n",
       "    <tr style=\"text-align: right;\">\n",
       "      <th></th>\n",
       "      <th>rating</th>\n",
       "      <th>appearences</th>\n",
       "    </tr>\n",
       "    <tr>\n",
       "      <th>position</th>\n",
       "      <th></th>\n",
       "      <th></th>\n",
       "    </tr>\n",
       "  </thead>\n",
       "  <tbody>\n",
       "    <tr>\n",
       "      <th>Attacker</th>\n",
       "      <td>6.887632</td>\n",
       "      <td>24.452514</td>\n",
       "    </tr>\n",
       "    <tr>\n",
       "      <th>Defender</th>\n",
       "      <td>6.919599</td>\n",
       "      <td>22.818681</td>\n",
       "    </tr>\n",
       "    <tr>\n",
       "      <th>Goalkeeper</th>\n",
       "      <td>6.941024</td>\n",
       "      <td>29.500000</td>\n",
       "    </tr>\n",
       "    <tr>\n",
       "      <th>Midfielder</th>\n",
       "      <td>6.927224</td>\n",
       "      <td>23.887324</td>\n",
       "    </tr>\n",
       "  </tbody>\n",
       "</table>\n",
       "</div>"
      ],
      "text/plain": [
       "              rating  appearences\n",
       "position                         \n",
       "Attacker    6.887632    24.452514\n",
       "Defender    6.919599    22.818681\n",
       "Goalkeeper  6.941024    29.500000\n",
       "Midfielder  6.927224    23.887324"
      ]
     },
     "execution_count": 47,
     "metadata": {},
     "output_type": "execute_result"
    }
   ],
   "source": [
    "statistics_df[statistics_df['assists'].notnull()].groupby(\"position\")[\"rating\",\"appearences\"].mean()"
   ]
  },
  {
   "cell_type": "code",
   "execution_count": 48,
   "id": "9558095c-b031-47c2-be36-8816e139e21f",
   "metadata": {},
   "outputs": [
    {
     "data": {
      "text/plain": [
       "position\n",
       "Attacker      6.558436\n",
       "Defender      6.760574\n",
       "Goalkeeper    6.782360\n",
       "Midfielder    6.624785\n",
       "Name: rating, dtype: float64"
      ]
     },
     "execution_count": 48,
     "metadata": {},
     "output_type": "execute_result"
    }
   ],
   "source": [
    "statistics_df[statistics_df['assists'].isnull()].groupby(\"position\")[\"rating\"].mean()"
   ]
  },
  {
   "cell_type": "markdown",
   "id": "6490b611-b533-4af6-93dd-494e983afe93",
   "metadata": {},
   "source": [
    "We can see that the rating increase when the players have assist, that means that the rating contain the information about assist and we can consider remove of the study. More over, if the rating is very informative that means that we can think on the appearence varaibale and consider: while more rating more appearence. Let's see!"
   ]
  },
  {
   "cell_type": "code",
   "execution_count": 49,
   "id": "455b88e7-37d9-4136-a18b-aafb9f05e2b5",
   "metadata": {},
   "outputs": [
    {
     "name": "stderr",
     "output_type": "stream",
     "text": [
      "<ipython-input-49-c872696174e4>:1: FutureWarning: Indexing with multiple keys (implicitly converted to a tuple of keys) will be deprecated, use a list instead.\n",
      "  statistics_df[statistics_df['assists'].notnull()].groupby(\"position\")[\"rating\",\"appearences\"].mean()\n"
     ]
    },
    {
     "data": {
      "text/html": [
       "<div>\n",
       "<style scoped>\n",
       "    .dataframe tbody tr th:only-of-type {\n",
       "        vertical-align: middle;\n",
       "    }\n",
       "\n",
       "    .dataframe tbody tr th {\n",
       "        vertical-align: top;\n",
       "    }\n",
       "\n",
       "    .dataframe thead th {\n",
       "        text-align: right;\n",
       "    }\n",
       "</style>\n",
       "<table border=\"1\" class=\"dataframe\">\n",
       "  <thead>\n",
       "    <tr style=\"text-align: right;\">\n",
       "      <th></th>\n",
       "      <th>rating</th>\n",
       "      <th>appearences</th>\n",
       "    </tr>\n",
       "    <tr>\n",
       "      <th>position</th>\n",
       "      <th></th>\n",
       "      <th></th>\n",
       "    </tr>\n",
       "  </thead>\n",
       "  <tbody>\n",
       "    <tr>\n",
       "      <th>Attacker</th>\n",
       "      <td>6.887632</td>\n",
       "      <td>24.452514</td>\n",
       "    </tr>\n",
       "    <tr>\n",
       "      <th>Defender</th>\n",
       "      <td>6.919599</td>\n",
       "      <td>22.818681</td>\n",
       "    </tr>\n",
       "    <tr>\n",
       "      <th>Goalkeeper</th>\n",
       "      <td>6.941024</td>\n",
       "      <td>29.500000</td>\n",
       "    </tr>\n",
       "    <tr>\n",
       "      <th>Midfielder</th>\n",
       "      <td>6.927224</td>\n",
       "      <td>23.887324</td>\n",
       "    </tr>\n",
       "  </tbody>\n",
       "</table>\n",
       "</div>"
      ],
      "text/plain": [
       "              rating  appearences\n",
       "position                         \n",
       "Attacker    6.887632    24.452514\n",
       "Defender    6.919599    22.818681\n",
       "Goalkeeper  6.941024    29.500000\n",
       "Midfielder  6.927224    23.887324"
      ]
     },
     "execution_count": 49,
     "metadata": {},
     "output_type": "execute_result"
    }
   ],
   "source": [
    "statistics_df[statistics_df['assists'].notnull()].groupby(\"position\")[\"rating\",\"appearences\"].mean()"
   ]
  },
  {
   "cell_type": "code",
   "execution_count": 50,
   "id": "dcbbb484-5602-4bd8-84f2-11556902bd74",
   "metadata": {},
   "outputs": [
    {
     "name": "stderr",
     "output_type": "stream",
     "text": [
      "<ipython-input-50-61baa7ce6ed0>:1: FutureWarning: Indexing with multiple keys (implicitly converted to a tuple of keys) will be deprecated, use a list instead.\n",
      "  statistics_df[statistics_df['assists'].isnull()].groupby(\"position\")[\"rating\",\"appearences\"].mean()\n"
     ]
    },
    {
     "data": {
      "text/html": [
       "<div>\n",
       "<style scoped>\n",
       "    .dataframe tbody tr th:only-of-type {\n",
       "        vertical-align: middle;\n",
       "    }\n",
       "\n",
       "    .dataframe tbody tr th {\n",
       "        vertical-align: top;\n",
       "    }\n",
       "\n",
       "    .dataframe thead th {\n",
       "        text-align: right;\n",
       "    }\n",
       "</style>\n",
       "<table border=\"1\" class=\"dataframe\">\n",
       "  <thead>\n",
       "    <tr style=\"text-align: right;\">\n",
       "      <th></th>\n",
       "      <th>rating</th>\n",
       "      <th>appearences</th>\n",
       "    </tr>\n",
       "    <tr>\n",
       "      <th>position</th>\n",
       "      <th></th>\n",
       "      <th></th>\n",
       "    </tr>\n",
       "  </thead>\n",
       "  <tbody>\n",
       "    <tr>\n",
       "      <th>Attacker</th>\n",
       "      <td>6.558436</td>\n",
       "      <td>5.045918</td>\n",
       "    </tr>\n",
       "    <tr>\n",
       "      <th>Defender</th>\n",
       "      <td>6.760574</td>\n",
       "      <td>8.448687</td>\n",
       "    </tr>\n",
       "    <tr>\n",
       "      <th>Goalkeeper</th>\n",
       "      <td>6.782360</td>\n",
       "      <td>7.778325</td>\n",
       "    </tr>\n",
       "    <tr>\n",
       "      <th>Midfielder</th>\n",
       "      <td>6.624785</td>\n",
       "      <td>6.159780</td>\n",
       "    </tr>\n",
       "  </tbody>\n",
       "</table>\n",
       "</div>"
      ],
      "text/plain": [
       "              rating  appearences\n",
       "position                         \n",
       "Attacker    6.558436     5.045918\n",
       "Defender    6.760574     8.448687\n",
       "Goalkeeper  6.782360     7.778325\n",
       "Midfielder  6.624785     6.159780"
      ]
     },
     "execution_count": 50,
     "metadata": {},
     "output_type": "execute_result"
    }
   ],
   "source": [
    "statistics_df[statistics_df['assists'].isnull()].groupby(\"position\")[\"rating\",\"appearences\"].mean()"
   ]
  },
  {
   "cell_type": "markdown",
   "id": "cd8ce874-dedf-4506-b714-4a29921992f1",
   "metadata": {},
   "source": [
    "With this last result, we can consider that the rating contains information about the appearence as the assist. Finally, for now shots, total duel and won duels are less informative variables because depends of appearence and in some cases of the assist and therefore we can assume that all this information is in the rating variable. \n",
    "\n",
    "The last \"problem\", the rating variable as a lot of nulls, but depends of the appearence. "
   ]
  },
  {
   "cell_type": "code",
   "execution_count": 51,
   "id": "ef4387f9-2895-4907-83ee-c3e6a1160210",
   "metadata": {},
   "outputs": [
    {
     "data": {
      "text/html": [
       "<div>\n",
       "<style scoped>\n",
       "    .dataframe tbody tr th:only-of-type {\n",
       "        vertical-align: middle;\n",
       "    }\n",
       "\n",
       "    .dataframe tbody tr th {\n",
       "        vertical-align: top;\n",
       "    }\n",
       "\n",
       "    .dataframe thead th {\n",
       "        text-align: right;\n",
       "    }\n",
       "</style>\n",
       "<table border=\"1\" class=\"dataframe\">\n",
       "  <thead>\n",
       "    <tr style=\"text-align: right;\">\n",
       "      <th></th>\n",
       "      <th>page</th>\n",
       "      <th>season</th>\n",
       "      <th>player_id</th>\n",
       "      <th>player_name</th>\n",
       "      <th>age</th>\n",
       "      <th>height</th>\n",
       "      <th>weight</th>\n",
       "      <th>injured</th>\n",
       "      <th>team_id</th>\n",
       "      <th>appearences</th>\n",
       "      <th>minutes</th>\n",
       "      <th>position</th>\n",
       "      <th>rating</th>\n",
       "      <th>shots</th>\n",
       "      <th>goals</th>\n",
       "      <th>assists</th>\n",
       "      <th>passes_accuracy</th>\n",
       "      <th>total_duels</th>\n",
       "      <th>won_duels</th>\n",
       "    </tr>\n",
       "  </thead>\n",
       "  <tbody>\n",
       "    <tr>\n",
       "      <th>0</th>\n",
       "      <td>1</td>\n",
       "      <td>2019</td>\n",
       "      <td>160</td>\n",
       "      <td>M. Vorm</td>\n",
       "      <td>38.0</td>\n",
       "      <td>183 cm</td>\n",
       "      <td>84 kg</td>\n",
       "      <td>False</td>\n",
       "      <td>47</td>\n",
       "      <td>0.0</td>\n",
       "      <td>0.0</td>\n",
       "      <td>Goalkeeper</td>\n",
       "      <td>NaN</td>\n",
       "      <td>NaN</td>\n",
       "      <td>0.0</td>\n",
       "      <td>NaN</td>\n",
       "      <td>NaN</td>\n",
       "      <td>NaN</td>\n",
       "      <td>NaN</td>\n",
       "    </tr>\n",
       "    <tr>\n",
       "      <th>5</th>\n",
       "      <td>1</td>\n",
       "      <td>2019</td>\n",
       "      <td>18789</td>\n",
       "      <td>Gomes</td>\n",
       "      <td>40.0</td>\n",
       "      <td>191 cm</td>\n",
       "      <td>91 kg</td>\n",
       "      <td>False</td>\n",
       "      <td>38</td>\n",
       "      <td>0.0</td>\n",
       "      <td>0.0</td>\n",
       "      <td>Goalkeeper</td>\n",
       "      <td>NaN</td>\n",
       "      <td>NaN</td>\n",
       "      <td>0.0</td>\n",
       "      <td>NaN</td>\n",
       "      <td>NaN</td>\n",
       "      <td>NaN</td>\n",
       "      <td>NaN</td>\n",
       "    </tr>\n",
       "    <tr>\n",
       "      <th>19</th>\n",
       "      <td>1</td>\n",
       "      <td>2019</td>\n",
       "      <td>138936</td>\n",
       "      <td>K. Hayden</td>\n",
       "      <td>18.0</td>\n",
       "      <td>NaN</td>\n",
       "      <td>NaN</td>\n",
       "      <td>False</td>\n",
       "      <td>66</td>\n",
       "      <td>0.0</td>\n",
       "      <td>0.0</td>\n",
       "      <td>Midfielder</td>\n",
       "      <td>NaN</td>\n",
       "      <td>NaN</td>\n",
       "      <td>0.0</td>\n",
       "      <td>NaN</td>\n",
       "      <td>NaN</td>\n",
       "      <td>NaN</td>\n",
       "      <td>NaN</td>\n",
       "    </tr>\n",
       "    <tr>\n",
       "      <th>23</th>\n",
       "      <td>2</td>\n",
       "      <td>2019</td>\n",
       "      <td>2584</td>\n",
       "      <td>L. Campana</td>\n",
       "      <td>22.0</td>\n",
       "      <td>187 cm</td>\n",
       "      <td>79 kg</td>\n",
       "      <td>False</td>\n",
       "      <td>39</td>\n",
       "      <td>0.0</td>\n",
       "      <td>0.0</td>\n",
       "      <td>Attacker</td>\n",
       "      <td>NaN</td>\n",
       "      <td>NaN</td>\n",
       "      <td>0.0</td>\n",
       "      <td>NaN</td>\n",
       "      <td>NaN</td>\n",
       "      <td>NaN</td>\n",
       "      <td>NaN</td>\n",
       "    </tr>\n",
       "    <tr>\n",
       "      <th>31</th>\n",
       "      <td>2</td>\n",
       "      <td>2019</td>\n",
       "      <td>18871</td>\n",
       "      <td>Matthew David Butcher</td>\n",
       "      <td>25.0</td>\n",
       "      <td>188 cm</td>\n",
       "      <td>83 kg</td>\n",
       "      <td>False</td>\n",
       "      <td>35</td>\n",
       "      <td>0.0</td>\n",
       "      <td>0.0</td>\n",
       "      <td>Midfielder</td>\n",
       "      <td>NaN</td>\n",
       "      <td>NaN</td>\n",
       "      <td>0.0</td>\n",
       "      <td>NaN</td>\n",
       "      <td>NaN</td>\n",
       "      <td>NaN</td>\n",
       "      <td>NaN</td>\n",
       "    </tr>\n",
       "    <tr>\n",
       "      <th>1857</th>\n",
       "      <td>33</td>\n",
       "      <td>2020</td>\n",
       "      <td>138777</td>\n",
       "      <td>Faustino Adebola Rasheed Anjorin</td>\n",
       "      <td>21.0</td>\n",
       "      <td>185 cm</td>\n",
       "      <td>73 kg</td>\n",
       "      <td>False</td>\n",
       "      <td>49</td>\n",
       "      <td>0.0</td>\n",
       "      <td>0.0</td>\n",
       "      <td>Midfielder</td>\n",
       "      <td>NaN</td>\n",
       "      <td>NaN</td>\n",
       "      <td>0.0</td>\n",
       "      <td>NaN</td>\n",
       "      <td>NaN</td>\n",
       "      <td>NaN</td>\n",
       "      <td>NaN</td>\n",
       "    </tr>\n",
       "    <tr>\n",
       "      <th>1858</th>\n",
       "      <td>33</td>\n",
       "      <td>2020</td>\n",
       "      <td>277714</td>\n",
       "      <td>Kyron Gordon</td>\n",
       "      <td>20.0</td>\n",
       "      <td>NaN</td>\n",
       "      <td>NaN</td>\n",
       "      <td>False</td>\n",
       "      <td>62</td>\n",
       "      <td>0.0</td>\n",
       "      <td>0.0</td>\n",
       "      <td>Defender</td>\n",
       "      <td>NaN</td>\n",
       "      <td>NaN</td>\n",
       "      <td>0.0</td>\n",
       "      <td>NaN</td>\n",
       "      <td>NaN</td>\n",
       "      <td>NaN</td>\n",
       "      <td>NaN</td>\n",
       "    </tr>\n",
       "    <tr>\n",
       "      <th>1861</th>\n",
       "      <td>34</td>\n",
       "      <td>2020</td>\n",
       "      <td>895</td>\n",
       "      <td>James David Garner</td>\n",
       "      <td>21.0</td>\n",
       "      <td>182 cm</td>\n",
       "      <td>NaN</td>\n",
       "      <td>False</td>\n",
       "      <td>33</td>\n",
       "      <td>0.0</td>\n",
       "      <td>0.0</td>\n",
       "      <td>Midfielder</td>\n",
       "      <td>NaN</td>\n",
       "      <td>NaN</td>\n",
       "      <td>0.0</td>\n",
       "      <td>NaN</td>\n",
       "      <td>NaN</td>\n",
       "      <td>NaN</td>\n",
       "      <td>NaN</td>\n",
       "    </tr>\n",
       "    <tr>\n",
       "      <th>1868</th>\n",
       "      <td>34</td>\n",
       "      <td>2020</td>\n",
       "      <td>19159</td>\n",
       "      <td>S. Johansen</td>\n",
       "      <td>31.0</td>\n",
       "      <td>182 cm</td>\n",
       "      <td>78 kg</td>\n",
       "      <td>False</td>\n",
       "      <td>36</td>\n",
       "      <td>0.0</td>\n",
       "      <td>0.0</td>\n",
       "      <td>Midfielder</td>\n",
       "      <td>NaN</td>\n",
       "      <td>NaN</td>\n",
       "      <td>0.0</td>\n",
       "      <td>NaN</td>\n",
       "      <td>NaN</td>\n",
       "      <td>NaN</td>\n",
       "      <td>NaN</td>\n",
       "    </tr>\n",
       "    <tr>\n",
       "      <th>1878</th>\n",
       "      <td>34</td>\n",
       "      <td>2020</td>\n",
       "      <td>315237</td>\n",
       "      <td>Will Osula</td>\n",
       "      <td>19.0</td>\n",
       "      <td>180 cm</td>\n",
       "      <td>81 kg</td>\n",
       "      <td>False</td>\n",
       "      <td>62</td>\n",
       "      <td>0.0</td>\n",
       "      <td>0.0</td>\n",
       "      <td>Attacker</td>\n",
       "      <td>NaN</td>\n",
       "      <td>NaN</td>\n",
       "      <td>0.0</td>\n",
       "      <td>NaN</td>\n",
       "      <td>NaN</td>\n",
       "      <td>NaN</td>\n",
       "      <td>NaN</td>\n",
       "    </tr>\n",
       "  </tbody>\n",
       "</table>\n",
       "</div>"
      ],
      "text/plain": [
       "      page  season  player_id                       player_name   age  height  \\\n",
       "0        1    2019        160                           M. Vorm  38.0  183 cm   \n",
       "5        1    2019      18789                             Gomes  40.0  191 cm   \n",
       "19       1    2019     138936                         K. Hayden  18.0     NaN   \n",
       "23       2    2019       2584                        L. Campana  22.0  187 cm   \n",
       "31       2    2019      18871             Matthew David Butcher  25.0  188 cm   \n",
       "1857    33    2020     138777  Faustino Adebola Rasheed Anjorin  21.0  185 cm   \n",
       "1858    33    2020     277714                      Kyron Gordon  20.0     NaN   \n",
       "1861    34    2020        895                James David Garner  21.0  182 cm   \n",
       "1868    34    2020      19159                       S. Johansen  31.0  182 cm   \n",
       "1878    34    2020     315237                        Will Osula  19.0  180 cm   \n",
       "\n",
       "     weight  injured  team_id  appearences  minutes    position  rating  \\\n",
       "0     84 kg    False       47          0.0      0.0  Goalkeeper     NaN   \n",
       "5     91 kg    False       38          0.0      0.0  Goalkeeper     NaN   \n",
       "19      NaN    False       66          0.0      0.0  Midfielder     NaN   \n",
       "23    79 kg    False       39          0.0      0.0    Attacker     NaN   \n",
       "31    83 kg    False       35          0.0      0.0  Midfielder     NaN   \n",
       "1857  73 kg    False       49          0.0      0.0  Midfielder     NaN   \n",
       "1858    NaN    False       62          0.0      0.0    Defender     NaN   \n",
       "1861    NaN    False       33          0.0      0.0  Midfielder     NaN   \n",
       "1868  78 kg    False       36          0.0      0.0  Midfielder     NaN   \n",
       "1878  81 kg    False       62          0.0      0.0    Attacker     NaN   \n",
       "\n",
       "      shots  goals  assists  passes_accuracy  total_duels  won_duels  \n",
       "0       NaN    0.0      NaN              NaN          NaN        NaN  \n",
       "5       NaN    0.0      NaN              NaN          NaN        NaN  \n",
       "19      NaN    0.0      NaN              NaN          NaN        NaN  \n",
       "23      NaN    0.0      NaN              NaN          NaN        NaN  \n",
       "31      NaN    0.0      NaN              NaN          NaN        NaN  \n",
       "1857    NaN    0.0      NaN              NaN          NaN        NaN  \n",
       "1858    NaN    0.0      NaN              NaN          NaN        NaN  \n",
       "1861    NaN    0.0      NaN              NaN          NaN        NaN  \n",
       "1868    NaN    0.0      NaN              NaN          NaN        NaN  \n",
       "1878    NaN    0.0      NaN              NaN          NaN        NaN  "
      ]
     },
     "execution_count": 51,
     "metadata": {},
     "output_type": "execute_result"
    }
   ],
   "source": [
    "pd.concat([statistics_df[statistics_df[\"appearences\"] == 0].head(),statistics_df[statistics_df[\"appearences\"] == 0].tail()])"
   ]
  },
  {
   "cell_type": "markdown",
   "id": "75dd4eae-4811-4b35-8799-3e7b111487ad",
   "metadata": {},
   "source": [
    "Note that our ratings are null values when the player has not appearences and this is obvious, becasus we can not mesure a performance of a player without minutes on the pitch. Then, we remove the null values of rating variable because is neccesary and it is the unique variable of study segmented by position. "
   ]
  },
  {
   "cell_type": "code",
   "execution_count": 52,
   "id": "cf3e3960-a2f8-4a43-be63-b63712f49633",
   "metadata": {},
   "outputs": [],
   "source": [
    "statistics_df1 = statistics_df[statistics_df[\"rating\"].notnull()][[\"team_id\",\"season\",\"position\",\"rating\"]]"
   ]
  },
  {
   "cell_type": "code",
   "execution_count": 53,
   "id": "af880b50-bfc9-4fe7-b367-cd73b1afe994",
   "metadata": {},
   "outputs": [
    {
     "data": {
      "text/html": [
       "<div>\n",
       "<style scoped>\n",
       "    .dataframe tbody tr th:only-of-type {\n",
       "        vertical-align: middle;\n",
       "    }\n",
       "\n",
       "    .dataframe tbody tr th {\n",
       "        vertical-align: top;\n",
       "    }\n",
       "\n",
       "    .dataframe thead th {\n",
       "        text-align: right;\n",
       "    }\n",
       "</style>\n",
       "<table border=\"1\" class=\"dataframe\">\n",
       "  <thead>\n",
       "    <tr style=\"text-align: right;\">\n",
       "      <th></th>\n",
       "      <th>team_id</th>\n",
       "      <th>season</th>\n",
       "      <th>position</th>\n",
       "      <th>rating</th>\n",
       "    </tr>\n",
       "  </thead>\n",
       "  <tbody>\n",
       "    <tr>\n",
       "      <th>1</th>\n",
       "      <td>50</td>\n",
       "      <td>2019</td>\n",
       "      <td>Attacker</td>\n",
       "      <td>7.160869</td>\n",
       "    </tr>\n",
       "    <tr>\n",
       "      <th>2</th>\n",
       "      <td>45</td>\n",
       "      <td>2019</td>\n",
       "      <td>Midfielder</td>\n",
       "      <td>6.854285</td>\n",
       "    </tr>\n",
       "    <tr>\n",
       "      <th>3</th>\n",
       "      <td>45</td>\n",
       "      <td>2019</td>\n",
       "      <td>Defender</td>\n",
       "      <td>6.887500</td>\n",
       "    </tr>\n",
       "    <tr>\n",
       "      <th>4</th>\n",
       "      <td>46</td>\n",
       "      <td>2019</td>\n",
       "      <td>Defender</td>\n",
       "      <td>6.680000</td>\n",
       "    </tr>\n",
       "    <tr>\n",
       "      <th>6</th>\n",
       "      <td>38</td>\n",
       "      <td>2019</td>\n",
       "      <td>Defender</td>\n",
       "      <td>6.478571</td>\n",
       "    </tr>\n",
       "  </tbody>\n",
       "</table>\n",
       "</div>"
      ],
      "text/plain": [
       "   team_id  season    position    rating\n",
       "1       50    2019    Attacker  7.160869\n",
       "2       45    2019  Midfielder  6.854285\n",
       "3       45    2019    Defender  6.887500\n",
       "4       46    2019    Defender  6.680000\n",
       "6       38    2019    Defender  6.478571"
      ]
     },
     "execution_count": 53,
     "metadata": {},
     "output_type": "execute_result"
    }
   ],
   "source": [
    "statistics_df1.head()"
   ]
  },
  {
   "cell_type": "code",
   "execution_count": 54,
   "id": "1b31ba1b-2b3b-4403-90ca-3e6449c4a1e1",
   "metadata": {},
   "outputs": [
    {
     "data": {
      "text/plain": [
       "array([[<AxesSubplot:title={'center':'Attacker'}>,\n",
       "        <AxesSubplot:title={'center':'Defender'}>],\n",
       "       [<AxesSubplot:title={'center':'Goalkeeper'}>,\n",
       "        <AxesSubplot:title={'center':'Midfielder'}>]], dtype=object)"
      ]
     },
     "execution_count": 54,
     "metadata": {},
     "output_type": "execute_result"
    },
    {
     "data": {
      "image/png": "[encoded data removed]",
      "text/plain": [
       "<Figure size 432x288 with 4 Axes>"
      ]
     },
     "metadata": {
      "needs_background": "light"
     },
     "output_type": "display_data"
    }
   ],
   "source": [
    "statistics_df['rating'].hist(by=statistics_df['position'])\n",
    "#statistics_df.position.hist(by = statistics_df.rating)"
   ]
  },
  {
   "cell_type": "markdown",
   "id": "49d7117f-49e9-4172-994f-8c6edda4087e",
   "metadata": {},
   "source": [
    "Despite that the mean of each position about rating is near of seven the dispertion of each one suggest that is better to consider for team_id each positon as a explanatory variable. In order to aggregate by team_id and join with the season data frame we consider the average of the ratings."
   ]
  },
  {
   "cell_type": "code",
   "execution_count": 162,
   "id": "eb200636-bde8-4158-9209-9ff887b7422c",
   "metadata": {},
   "outputs": [],
   "source": [
    "rating_df = pd.pivot_table(statistics_df1, values = 'rating', index = ['team_id'],\n",
    "                          columns=['position'], aggfunc = np.mean)\n",
    "\n",
    "#table = pd.pivot_table(df, values='D', index=['A', 'B'],\n",
    "#                    columns=['C'], aggfunc=np.sum)"
   ]
  },
  {
   "cell_type": "code",
   "execution_count": 154,
   "id": "795e45e1-a093-44c3-8c77-6965215f5efc",
   "metadata": {},
   "outputs": [
    {
     "data": {
      "text/html": [
       "<div>\n",
       "<style scoped>\n",
       "    .dataframe tbody tr th:only-of-type {\n",
       "        vertical-align: middle;\n",
       "    }\n",
       "\n",
       "    .dataframe tbody tr th {\n",
       "        vertical-align: top;\n",
       "    }\n",
       "\n",
       "    .dataframe thead th {\n",
       "        text-align: right;\n",
       "    }\n",
       "</style>\n",
       "<table border=\"1\" class=\"dataframe\">\n",
       "  <thead>\n",
       "    <tr style=\"text-align: right;\">\n",
       "      <th>position</th>\n",
       "      <th>Attacker</th>\n",
       "      <th>Defender</th>\n",
       "      <th>Goalkeeper</th>\n",
       "      <th>Midfielder</th>\n",
       "    </tr>\n",
       "    <tr>\n",
       "      <th>team_id</th>\n",
       "      <th></th>\n",
       "      <th></th>\n",
       "      <th></th>\n",
       "      <th></th>\n",
       "    </tr>\n",
       "  </thead>\n",
       "  <tbody>\n",
       "    <tr>\n",
       "      <th>33</th>\n",
       "      <td>6.779548</td>\n",
       "      <td>6.885638</td>\n",
       "      <td>6.889799</td>\n",
       "      <td>6.956651</td>\n",
       "    </tr>\n",
       "    <tr>\n",
       "      <th>34</th>\n",
       "      <td>6.719936</td>\n",
       "      <td>6.736841</td>\n",
       "      <td>6.644696</td>\n",
       "      <td>6.702117</td>\n",
       "    </tr>\n",
       "    <tr>\n",
       "      <th>35</th>\n",
       "      <td>6.542857</td>\n",
       "      <td>6.692007</td>\n",
       "      <td>6.905405</td>\n",
       "      <td>6.450000</td>\n",
       "    </tr>\n",
       "    <tr>\n",
       "      <th>36</th>\n",
       "      <td>6.762350</td>\n",
       "      <td>6.777739</td>\n",
       "      <td>6.648611</td>\n",
       "      <td>6.682085</td>\n",
       "    </tr>\n",
       "    <tr>\n",
       "      <th>38</th>\n",
       "      <td>6.722939</td>\n",
       "      <td>6.698039</td>\n",
       "      <td>6.627778</td>\n",
       "      <td>6.577284</td>\n",
       "    </tr>\n",
       "  </tbody>\n",
       "</table>\n",
       "</div>"
      ],
      "text/plain": [
       "position  Attacker  Defender  Goalkeeper  Midfielder\n",
       "team_id                                             \n",
       "33        6.779548  6.885638    6.889799    6.956651\n",
       "34        6.719936  6.736841    6.644696    6.702117\n",
       "35        6.542857  6.692007    6.905405    6.450000\n",
       "36        6.762350  6.777739    6.648611    6.682085\n",
       "38        6.722939  6.698039    6.627778    6.577284"
      ]
     },
     "execution_count": 154,
     "metadata": {},
     "output_type": "execute_result"
    }
   ],
   "source": [
    "rating_df.head()"
   ]
  },
  {
   "cell_type": "markdown",
   "id": "d0c5957c-804a-430d-a665-afa0320898d0",
   "metadata": {},
   "source": [
    "Finally, we only consider the teams in the actual seasos because we want to inference about them. "
   ]
  },
  {
   "cell_type": "code",
   "execution_count": 104,
   "id": "9e3eda0f-641b-4643-aefb-bdb55aff12f6",
   "metadata": {},
   "outputs": [],
   "source": [
    "current_teams = seasons_df[seasons_df[\"season\"] == 2021][[\"local_team_id\"]].drop_duplicates()"
   ]
  },
  {
   "cell_type": "code",
   "execution_count": 106,
   "id": "ae5f7657-8f4a-4638-97f2-6f19638ee08c",
   "metadata": {},
   "outputs": [],
   "source": [
    "current_teams['flag'] = 1"
   ]
  },
  {
   "cell_type": "code",
   "execution_count": 115,
   "id": "43910e1e-18bf-41b8-afa1-9fef3fcfa489",
   "metadata": {},
   "outputs": [
    {
     "data": {
      "text/html": [
       "<div>\n",
       "<style scoped>\n",
       "    .dataframe tbody tr th:only-of-type {\n",
       "        vertical-align: middle;\n",
       "    }\n",
       "\n",
       "    .dataframe tbody tr th {\n",
       "        vertical-align: top;\n",
       "    }\n",
       "\n",
       "    .dataframe thead th {\n",
       "        text-align: right;\n",
       "    }\n",
       "</style>\n",
       "<table border=\"1\" class=\"dataframe\">\n",
       "  <thead>\n",
       "    <tr style=\"text-align: right;\">\n",
       "      <th></th>\n",
       "      <th>local_team_id</th>\n",
       "      <th>flag</th>\n",
       "    </tr>\n",
       "  </thead>\n",
       "  <tbody>\n",
       "    <tr>\n",
       "      <th>760</th>\n",
       "      <td>55</td>\n",
       "      <td>1</td>\n",
       "    </tr>\n",
       "    <tr>\n",
       "      <th>761</th>\n",
       "      <td>44</td>\n",
       "      <td>1</td>\n",
       "    </tr>\n",
       "    <tr>\n",
       "      <th>762</th>\n",
       "      <td>49</td>\n",
       "      <td>1</td>\n",
       "    </tr>\n",
       "    <tr>\n",
       "      <th>763</th>\n",
       "      <td>45</td>\n",
       "      <td>1</td>\n",
       "    </tr>\n",
       "    <tr>\n",
       "      <th>764</th>\n",
       "      <td>46</td>\n",
       "      <td>1</td>\n",
       "    </tr>\n",
       "    <tr>\n",
       "      <th>765</th>\n",
       "      <td>33</td>\n",
       "      <td>1</td>\n",
       "    </tr>\n",
       "    <tr>\n",
       "      <th>766</th>\n",
       "      <td>34</td>\n",
       "      <td>1</td>\n",
       "    </tr>\n",
       "    <tr>\n",
       "      <th>767</th>\n",
       "      <td>71</td>\n",
       "      <td>1</td>\n",
       "    </tr>\n",
       "    <tr>\n",
       "      <th>768</th>\n",
       "      <td>47</td>\n",
       "      <td>1</td>\n",
       "    </tr>\n",
       "    <tr>\n",
       "      <th>769</th>\n",
       "      <td>38</td>\n",
       "      <td>1</td>\n",
       "    </tr>\n",
       "    <tr>\n",
       "      <th>770</th>\n",
       "      <td>42</td>\n",
       "      <td>1</td>\n",
       "    </tr>\n",
       "    <tr>\n",
       "      <th>771</th>\n",
       "      <td>66</td>\n",
       "      <td>1</td>\n",
       "    </tr>\n",
       "    <tr>\n",
       "      <th>772</th>\n",
       "      <td>51</td>\n",
       "      <td>1</td>\n",
       "    </tr>\n",
       "    <tr>\n",
       "      <th>773</th>\n",
       "      <td>52</td>\n",
       "      <td>1</td>\n",
       "    </tr>\n",
       "    <tr>\n",
       "      <th>774</th>\n",
       "      <td>63</td>\n",
       "      <td>1</td>\n",
       "    </tr>\n",
       "    <tr>\n",
       "      <th>775</th>\n",
       "      <td>40</td>\n",
       "      <td>1</td>\n",
       "    </tr>\n",
       "    <tr>\n",
       "      <th>776</th>\n",
       "      <td>50</td>\n",
       "      <td>1</td>\n",
       "    </tr>\n",
       "    <tr>\n",
       "      <th>777</th>\n",
       "      <td>41</td>\n",
       "      <td>1</td>\n",
       "    </tr>\n",
       "    <tr>\n",
       "      <th>778</th>\n",
       "      <td>48</td>\n",
       "      <td>1</td>\n",
       "    </tr>\n",
       "    <tr>\n",
       "      <th>779</th>\n",
       "      <td>39</td>\n",
       "      <td>1</td>\n",
       "    </tr>\n",
       "  </tbody>\n",
       "</table>\n",
       "</div>"
      ],
      "text/plain": [
       "     local_team_id  flag\n",
       "760             55     1\n",
       "761             44     1\n",
       "762             49     1\n",
       "763             45     1\n",
       "764             46     1\n",
       "765             33     1\n",
       "766             34     1\n",
       "767             71     1\n",
       "768             47     1\n",
       "769             38     1\n",
       "770             42     1\n",
       "771             66     1\n",
       "772             51     1\n",
       "773             52     1\n",
       "774             63     1\n",
       "775             40     1\n",
       "776             50     1\n",
       "777             41     1\n",
       "778             48     1\n",
       "779             39     1"
      ]
     },
     "execution_count": 115,
     "metadata": {},
     "output_type": "execute_result"
    }
   ],
   "source": [
    "current_teams\n",
    "#rating_df"
   ]
  },
  {
   "cell_type": "code",
   "execution_count": 163,
   "id": "7cc4639a-0044-486e-8024-81e38c95c713",
   "metadata": {},
   "outputs": [],
   "source": [
    "rating_df = pd.merge(rating_df,current_teams,how='left',left_on='team_id', right_on='local_team_id',)"
   ]
  },
  {
   "cell_type": "code",
   "execution_count": 164,
   "id": "a150374d-2b8d-4641-8005-f341e1e50c8c",
   "metadata": {},
   "outputs": [
    {
     "data": {
      "text/html": [
       "<div>\n",
       "<style scoped>\n",
       "    .dataframe tbody tr th:only-of-type {\n",
       "        vertical-align: middle;\n",
       "    }\n",
       "\n",
       "    .dataframe tbody tr th {\n",
       "        vertical-align: top;\n",
       "    }\n",
       "\n",
       "    .dataframe thead th {\n",
       "        text-align: right;\n",
       "    }\n",
       "</style>\n",
       "<table border=\"1\" class=\"dataframe\">\n",
       "  <thead>\n",
       "    <tr style=\"text-align: right;\">\n",
       "      <th></th>\n",
       "      <th>Attacker</th>\n",
       "      <th>Defender</th>\n",
       "      <th>Goalkeeper</th>\n",
       "      <th>Midfielder</th>\n",
       "      <th>local_team_id</th>\n",
       "      <th>flag</th>\n",
       "    </tr>\n",
       "  </thead>\n",
       "  <tbody>\n",
       "    <tr>\n",
       "      <th>0</th>\n",
       "      <td>6.779548</td>\n",
       "      <td>6.885638</td>\n",
       "      <td>6.889799</td>\n",
       "      <td>6.956651</td>\n",
       "      <td>33.0</td>\n",
       "      <td>1.0</td>\n",
       "    </tr>\n",
       "    <tr>\n",
       "      <th>1</th>\n",
       "      <td>6.719936</td>\n",
       "      <td>6.736841</td>\n",
       "      <td>6.644696</td>\n",
       "      <td>6.702117</td>\n",
       "      <td>34.0</td>\n",
       "      <td>1.0</td>\n",
       "    </tr>\n",
       "    <tr>\n",
       "      <th>2</th>\n",
       "      <td>6.542857</td>\n",
       "      <td>6.692007</td>\n",
       "      <td>6.905405</td>\n",
       "      <td>6.450000</td>\n",
       "      <td>NaN</td>\n",
       "      <td>NaN</td>\n",
       "    </tr>\n",
       "    <tr>\n",
       "      <th>3</th>\n",
       "      <td>6.762350</td>\n",
       "      <td>6.777739</td>\n",
       "      <td>6.648611</td>\n",
       "      <td>6.682085</td>\n",
       "      <td>NaN</td>\n",
       "      <td>NaN</td>\n",
       "    </tr>\n",
       "    <tr>\n",
       "      <th>4</th>\n",
       "      <td>6.722939</td>\n",
       "      <td>6.698039</td>\n",
       "      <td>6.627778</td>\n",
       "      <td>6.577284</td>\n",
       "      <td>38.0</td>\n",
       "      <td>1.0</td>\n",
       "    </tr>\n",
       "  </tbody>\n",
       "</table>\n",
       "</div>"
      ],
      "text/plain": [
       "   Attacker  Defender  Goalkeeper  Midfielder  local_team_id  flag\n",
       "0  6.779548  6.885638    6.889799    6.956651           33.0   1.0\n",
       "1  6.719936  6.736841    6.644696    6.702117           34.0   1.0\n",
       "2  6.542857  6.692007    6.905405    6.450000            NaN   NaN\n",
       "3  6.762350  6.777739    6.648611    6.682085            NaN   NaN\n",
       "4  6.722939  6.698039    6.627778    6.577284           38.0   1.0"
      ]
     },
     "execution_count": 164,
     "metadata": {},
     "output_type": "execute_result"
    }
   ],
   "source": [
    "rating_df.head()"
   ]
  },
  {
   "cell_type": "code",
   "execution_count": 165,
   "id": "f6611445-9db2-4429-9d00-c2547ef5e2ee",
   "metadata": {},
   "outputs": [],
   "source": [
    "rating_df = rating_df[rating_df['flag'].notnull()]"
   ]
  },
  {
   "cell_type": "markdown",
   "id": "f8235402-ceae-4642-a431-cdbfa4ed523a",
   "metadata": {
    "tags": []
   },
   "source": [
    "## Referencias\n",
    "* <https://cloud.google.com/sdk/gcloud/reference/sql/connect>\n",
    "* <https://docs.sqlalchemy.org/en/14/core/tutorial.html#deletes>\n",
    "* <https://cloud.google.com/sql/docs/postgres/connect-app-engine-standard#private-ip_1>\n",
    "* https://docs.sqlalchemy.org/en/14/core/metadata.html"
   ]
  },
  {
   "cell_type": "code",
   "execution_count": null,
   "id": "fbd38a4a-ab2d-49ed-9375-362bc5612a5a",
   "metadata": {},
   "outputs": [],
   "source": [
    "Feature engineering"
   ]
  }
 ],
 "metadata": {
  "environment": {
   "kernel": "python3",
   "name": "common-cpu.m90",
   "type": "gcloud",
   "uri": "gcr.io/deeplearning-platform-release/base-cpu:m90"
  },
  "kernelspec": {
   "display_name": "Python 3",
   "language": "python",
   "name": "python3"
  },
  "language_info": {
   "codemirror_mode": {
    "name": "ipython",
    "version": 3
   },
   "file_extension": ".py",
   "mimetype": "text/x-python",
   "name": "python",
   "nbconvert_exporter": "python",
   "pygments_lexer": "ipython3",
   "version": "3.8.8"
  }
 },
 "nbformat": 4,
 "nbformat_minor": 5
}
