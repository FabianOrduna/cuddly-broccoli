{
 "cells": [
  {
   "cell_type": "markdown",
   "id": "6fd066b8-8c0c-49ff-a188-e5c7ccd2c656",
   "metadata": {
    "tags": []
   },
   "source": [
    "# EDA and Machine Learning Setup"
   ]
  },
  {
   "cell_type": "code",
   "execution_count": 1,
   "id": "56a0075f-6e07-4e5a-b5ba-0a4dea6dc1fa",
   "metadata": {
    "tags": []
   },
   "outputs": [],
   "source": [
    "import yaml\n",
    "import time\n",
    "import pandas as pd\n",
    "import requests\n",
    "import matplotlib.pyplot as plt\n",
    "import numpy as np\n",
    "import seaborn as sns\n",
    "import pickle\n",
    "import warnings\n",
    "import sqlalchemy\n",
    "from sqlalchemy import Table, Column, Integer, String, MetaData, Date, Boolean, create_engine, Float, and_\n",
    "from sqlalchemy.sql import select, insert\n",
    "\n",
    "# SKLearn\n",
    "from sklearn.compose import ColumnTransformer\n",
    "from sklearn.preprocessing import OneHotEncoder\n",
    "from sklearn.pipeline import Pipeline\n",
    "\n",
    "# Pipeline, Gridsearch, train_test_split\n",
    "from sklearn.model_selection import GridSearchCV\n",
    "\n",
    "# Plot the confusion matrix at the end of the tutorial\n",
    "from sklearn.metrics import plot_confusion_matrix, classification_report\n",
    "\n",
    "# Classification Models\n",
    "from sklearn.linear_model import LogisticRegression\n",
    "from sklearn.neighbors import KNeighborsClassifier\n",
    "from sklearn.ensemble import RandomForestClassifier, GradientBoostingClassifier\n",
    "from sklearn import svm\n",
    "from sklearn.svm import SVC\n",
    "from sklearn.neural_network import MLPClassifier\n",
    "\n",
    "# Hidding warnings\n",
    "warnings.filterwarnings('ignore')"
   ]
  },
  {
   "cell_type": "markdown",
   "id": "4454c6bb-4e2f-476c-8950-9266c3729068",
   "metadata": {},
   "source": [
    "### Importing database connection variables."
   ]
  },
  {
   "cell_type": "code",
   "execution_count": 2,
   "id": "8720eb14-6c0e-4cee-a9c1-19950d431f36",
   "metadata": {},
   "outputs": [],
   "source": [
    "with open('../../../../footballYaml.yml') as f:\n",
    "    config = yaml.load(f, Loader=yaml.FullLoader)\n",
    "\n",
    "football_key = config['football_key']\n",
    "db_user = config[\"db_user\"]\n",
    "db_pass = config[\"db_pass\"]\n",
    "db_name = config[\"db_name\"]\n",
    "db_host = config[\"db_host\"]"
   ]
  },
  {
   "cell_type": "markdown",
   "id": "e6e81157-14db-442c-b3e1-7cc21652e94e",
   "metadata": {},
   "source": [
    "### Establishing the connection to Google SQL"
   ]
  },
  {
   "cell_type": "code",
   "execution_count": 3,
   "id": "18d6a0ca-0aa8-4881-a4db-045eee29f6e2",
   "metadata": {},
   "outputs": [],
   "source": [
    "host_args = db_host.split(\":\")\n",
    "if len(host_args) == 1:\n",
    "    db_hostname = db_host\n",
    "    db_port = 5432\n",
    "elif len(host_args) == 2:\n",
    "    db_hostname, db_port = host_args[0], int(host_args[1])\n",
    "\n",
    "conn = sqlalchemy.create_engine(\n",
    "    # Equivalent URL:\n",
    "    # postgresql+pg8000://<db_user>:<db_pass>@<db_host>:<db_port>/<db_name>\n",
    "    sqlalchemy.engine.url.URL.create(\n",
    "        drivername=\"postgresql+pg8000\",\n",
    "        username=db_user,  # e.g. \"my-database-user\"\n",
    "        password=db_pass,  # e.g. \"my-database-password\"\n",
    "        host=db_hostname,  # e.g. \"127.0.0.1\"\n",
    "        port=db_port,  # e.g. 5432\n",
    "        database=db_name  # e.g. \"my-database-name\"\n",
    "    )\n",
    ")\n"
   ]
  },
  {
   "cell_type": "code",
   "execution_count": 4,
   "id": "817cf5b1-7969-4435-9092-ada5cef5c668",
   "metadata": {},
   "outputs": [
    {
     "data": {
      "text/plain": [
       "<sqlalchemy.engine.base.Connection at 0x7f7c6be33850>"
      ]
     },
     "execution_count": 4,
     "metadata": {},
     "output_type": "execute_result"
    }
   ],
   "source": [
    "conn.connect()"
   ]
  },
  {
   "cell_type": "markdown",
   "id": "f02c5fea-1aee-47ab-bcf2-88ad523dcdde",
   "metadata": {},
   "source": [
    "Since the database tables were previously created, we retrieve the table schemas:"
   ]
  },
  {
   "cell_type": "code",
   "execution_count": 5,
   "id": "b4dfb175-8f84-42be-aec8-9c5c0f421fa3",
   "metadata": {},
   "outputs": [],
   "source": [
    "metadata = MetaData(bind=None)\n",
    "table = Table(\n",
    "    'match_fof', \n",
    "    metadata, \n",
    "    autoload=True, \n",
    "    autoload_with=conn\n",
    ")"
   ]
  },
  {
   "cell_type": "code",
   "execution_count": 6,
   "id": "750321f4-22a0-4b21-906f-0410acaf4e9c",
   "metadata": {},
   "outputs": [],
   "source": [
    "metadata = MetaData(bind=None)\n",
    "table_stats = Table(\n",
    "    'statistics_f1', \n",
    "    metadata, \n",
    "    autoload=True, \n",
    "    autoload_with=conn\n",
    ")"
   ]
  },
  {
   "cell_type": "markdown",
   "id": "7c77a11f-c606-48f6-9d49-bc3caba82dcb",
   "metadata": {},
   "source": [
    "Helper database functions."
   ]
  },
  {
   "cell_type": "code",
   "execution_count": 7,
   "id": "251f89de-fd32-40bc-b646-e238728961cb",
   "metadata": {},
   "outputs": [],
   "source": [
    "def readDataFromSeason(table, connection, season, clean):\n",
    "    if clean == True:\n",
    "        stmt = select(table.columns).where(and_(table.columns.season == season, table.columns.local_goals != None))\n",
    "    else:\n",
    "        stmt = select(table.columns).where(and_(table.columns.season == season))\n",
    "    connectionDB = connection.connect()\n",
    "    return connectionDB.execute(stmt).fetchall()"
   ]
  },
  {
   "cell_type": "code",
   "execution_count": 8,
   "id": "9c5e038c-a31c-4f23-a2ea-7045d11e1ab7",
   "metadata": {},
   "outputs": [],
   "source": [
    "def readStatsFromSeason(table, connection, season, clean):\n",
    "    if clean == True:\n",
    "        stmt = select(table.columns).where(and_(table.columns.season == season, table.columns.appearences != None))\n",
    "    else:\n",
    "        stmt = select(table.columns).where(and_(table.columns.season == season))\n",
    "    connectionDB = connection.connect()\n",
    "    return connectionDB.execute(stmt).fetchall()"
   ]
  },
  {
   "cell_type": "markdown",
   "id": "38c4fa49-c042-4beb-b1d0-fd8e78e884ee",
   "metadata": {},
   "source": [
    "## Exploratory Data Analysis (EDA)"
   ]
  },
  {
   "cell_type": "markdown",
   "id": "e4acb03e-1cb2-49f0-a589-cfa0ed5be3c1",
   "metadata": {},
   "source": [
    "### Seasons data frame"
   ]
  },
  {
   "cell_type": "code",
   "execution_count": 9,
   "id": "b36b3994-768a-46a2-9187-3d6657351958",
   "metadata": {},
   "outputs": [],
   "source": [
    "eda_seasons = [2019,2020,2021]\n",
    "columnas = [\"match_id\", \"season\", \"match_date\", \"local_team\", \"away_team\",\"local_goals\",\"away_goals\"]"
   ]
  },
  {
   "cell_type": "code",
   "execution_count": 10,
   "id": "a85c9913-dddc-475f-bb02-9590358050e3",
   "metadata": {},
   "outputs": [],
   "source": [
    "seasons_df = None\n",
    "\n",
    "for year in eda_seasons:\n",
    "    fe_year = readDataFromSeason(table,conn,year, False)\n",
    "    if(seasons_df == None):\n",
    "        seasons_df = fe_year\n",
    "    else:\n",
    "        seasons_df = seasons_df + fe_year"
   ]
  },
  {
   "cell_type": "code",
   "execution_count": 11,
   "id": "63716a05-8d1e-44e9-9793-9de765c70dfc",
   "metadata": {},
   "outputs": [],
   "source": [
    "seasons_df=pd.DataFrame(seasons_df)\n",
    "seasons_df.columns = columnas"
   ]
  },
  {
   "cell_type": "code",
   "execution_count": 12,
   "id": "6ed87de8-a9d7-4f53-84b9-7f07c545a966",
   "metadata": {
    "tags": []
   },
   "outputs": [
    {
     "name": "stdout",
     "output_type": "stream",
     "text": [
      "<class 'pandas.core.frame.DataFrame'>\n",
      "RangeIndex: 1140 entries, 0 to 1139\n",
      "Data columns (total 7 columns):\n",
      " #   Column       Non-Null Count  Dtype  \n",
      "---  ------       --------------  -----  \n",
      " 0   match_id     1140 non-null   int64  \n",
      " 1   season       1140 non-null   int64  \n",
      " 2   match_date   1140 non-null   object \n",
      " 3   local_team   1140 non-null   object \n",
      " 4   away_team    1140 non-null   object \n",
      " 5   local_goals  1058 non-null   float64\n",
      " 6   away_goals   1058 non-null   float64\n",
      "dtypes: float64(2), int64(2), object(3)\n",
      "memory usage: 62.5+ KB\n"
     ]
    }
   ],
   "source": [
    "seasons_df.info()"
   ]
  },
  {
   "cell_type": "code",
   "execution_count": 13,
   "id": "d46e1c48-62aa-4eed-bc29-d15df8c6822e",
   "metadata": {},
   "outputs": [
    {
     "data": {
      "text/plain": [
       "<AxesSubplot:>"
      ]
     },
     "execution_count": 13,
     "metadata": {},
     "output_type": "execute_result"
    },
    {
     "data": {
      "image/png": "[encoded data removed]",
      "text/plain": [
       "<Figure size 432x288 with 1 Axes>"
      ]
     },
     "metadata": {
      "needs_background": "light"
     },
     "output_type": "display_data"
    }
   ],
   "source": [
    "sns.heatmap(seasons_df.isnull(), cbar=False)"
   ]
  },
  {
   "cell_type": "markdown",
   "id": "7e44b3de-4638-4201-99ab-1768594e9899",
   "metadata": {},
   "source": [
    "As you can see we have a few missing values on the local and away goals. So, we will count the missing values and analyze why they are missing. Depending on this, we will decide whether to drop or fill them. "
   ]
  },
  {
   "cell_type": "code",
   "execution_count": 14,
   "id": "cdd2d8c8-e54e-4771-8c44-b9d2fdd03bba",
   "metadata": {},
   "outputs": [
    {
     "name": "stdout",
     "output_type": "stream",
     "text": [
      "The NA's for local goals are:82\n",
      "The NA's for local goals are:82\n"
     ]
    }
   ],
   "source": [
    "local_na = len(seasons_df[seasons_df['local_goals'].isnull()])\n",
    "away_na = len(seasons_df[seasons_df['away_goals'].isnull()])\n",
    "\n",
    "print(f\"The NA's for local goals are:{local_na}\")\n",
    "print(f\"The NA's for local goals are:{away_na}\")"
   ]
  },
  {
   "cell_type": "code",
   "execution_count": 15,
   "id": "920391fa-17ac-470e-b7cf-6907f9d71b97",
   "metadata": {},
   "outputs": [
    {
     "data": {
      "text/html": [
       "<div>\n",
       "<style scoped>\n",
       "    .dataframe tbody tr th:only-of-type {\n",
       "        vertical-align: middle;\n",
       "    }\n",
       "\n",
       "    .dataframe tbody tr th {\n",
       "        vertical-align: top;\n",
       "    }\n",
       "\n",
       "    .dataframe thead th {\n",
       "        text-align: right;\n",
       "    }\n",
       "</style>\n",
       "<table border=\"1\" class=\"dataframe\">\n",
       "  <thead>\n",
       "    <tr style=\"text-align: right;\">\n",
       "      <th></th>\n",
       "      <th>match_id</th>\n",
       "      <th>season</th>\n",
       "      <th>match_date</th>\n",
       "      <th>local_team</th>\n",
       "      <th>away_team</th>\n",
       "      <th>local_goals</th>\n",
       "      <th>away_goals</th>\n",
       "    </tr>\n",
       "  </thead>\n",
       "  <tbody>\n",
       "    <tr>\n",
       "      <th>930</th>\n",
       "      <td>931</td>\n",
       "      <td>2021</td>\n",
       "      <td>2022-05-19</td>\n",
       "      <td>Aston Villa</td>\n",
       "      <td>Burnley</td>\n",
       "      <td>NaN</td>\n",
       "      <td>NaN</td>\n",
       "    </tr>\n",
       "    <tr>\n",
       "      <th>931</th>\n",
       "      <td>932</td>\n",
       "      <td>2021</td>\n",
       "      <td>2022-04-20</td>\n",
       "      <td>Everton</td>\n",
       "      <td>Leicester</td>\n",
       "      <td>NaN</td>\n",
       "      <td>NaN</td>\n",
       "    </tr>\n",
       "    <tr>\n",
       "      <th>942</th>\n",
       "      <td>943</td>\n",
       "      <td>2021</td>\n",
       "      <td>2022-04-06</td>\n",
       "      <td>Burnley</td>\n",
       "      <td>Everton</td>\n",
       "      <td>NaN</td>\n",
       "      <td>NaN</td>\n",
       "    </tr>\n",
       "    <tr>\n",
       "      <th>966</th>\n",
       "      <td>967</td>\n",
       "      <td>2021</td>\n",
       "      <td>2022-05-11</td>\n",
       "      <td>Leicester</td>\n",
       "      <td>Norwich</td>\n",
       "      <td>NaN</td>\n",
       "      <td>NaN</td>\n",
       "    </tr>\n",
       "    <tr>\n",
       "      <th>977</th>\n",
       "      <td>978</td>\n",
       "      <td>2021</td>\n",
       "      <td>2022-05-12</td>\n",
       "      <td>Tottenham</td>\n",
       "      <td>Arsenal</td>\n",
       "      <td>NaN</td>\n",
       "      <td>NaN</td>\n",
       "    </tr>\n",
       "    <tr>\n",
       "      <th>...</th>\n",
       "      <td>...</td>\n",
       "      <td>...</td>\n",
       "      <td>...</td>\n",
       "      <td>...</td>\n",
       "      <td>...</td>\n",
       "      <td>...</td>\n",
       "      <td>...</td>\n",
       "    </tr>\n",
       "    <tr>\n",
       "      <th>1135</th>\n",
       "      <td>1136</td>\n",
       "      <td>2021</td>\n",
       "      <td>2022-05-22</td>\n",
       "      <td>Crystal Palace</td>\n",
       "      <td>Manchester United</td>\n",
       "      <td>NaN</td>\n",
       "      <td>NaN</td>\n",
       "    </tr>\n",
       "    <tr>\n",
       "      <th>1136</th>\n",
       "      <td>1137</td>\n",
       "      <td>2021</td>\n",
       "      <td>2022-05-22</td>\n",
       "      <td>Leicester</td>\n",
       "      <td>Southampton</td>\n",
       "      <td>NaN</td>\n",
       "      <td>NaN</td>\n",
       "    </tr>\n",
       "    <tr>\n",
       "      <th>1137</th>\n",
       "      <td>1138</td>\n",
       "      <td>2021</td>\n",
       "      <td>2022-05-22</td>\n",
       "      <td>Liverpool</td>\n",
       "      <td>Wolves</td>\n",
       "      <td>NaN</td>\n",
       "      <td>NaN</td>\n",
       "    </tr>\n",
       "    <tr>\n",
       "      <th>1138</th>\n",
       "      <td>1139</td>\n",
       "      <td>2021</td>\n",
       "      <td>2022-05-22</td>\n",
       "      <td>Manchester City</td>\n",
       "      <td>Aston Villa</td>\n",
       "      <td>NaN</td>\n",
       "      <td>NaN</td>\n",
       "    </tr>\n",
       "    <tr>\n",
       "      <th>1139</th>\n",
       "      <td>1140</td>\n",
       "      <td>2021</td>\n",
       "      <td>2022-05-22</td>\n",
       "      <td>Norwich</td>\n",
       "      <td>Tottenham</td>\n",
       "      <td>NaN</td>\n",
       "      <td>NaN</td>\n",
       "    </tr>\n",
       "  </tbody>\n",
       "</table>\n",
       "<p>82 rows × 7 columns</p>\n",
       "</div>"
      ],
      "text/plain": [
       "      match_id  season  match_date       local_team          away_team  \\\n",
       "930        931    2021  2022-05-19      Aston Villa            Burnley   \n",
       "931        932    2021  2022-04-20          Everton          Leicester   \n",
       "942        943    2021  2022-04-06          Burnley            Everton   \n",
       "966        967    2021  2022-05-11        Leicester            Norwich   \n",
       "977        978    2021  2022-05-12        Tottenham            Arsenal   \n",
       "...        ...     ...         ...              ...                ...   \n",
       "1135      1136    2021  2022-05-22   Crystal Palace  Manchester United   \n",
       "1136      1137    2021  2022-05-22        Leicester        Southampton   \n",
       "1137      1138    2021  2022-05-22        Liverpool             Wolves   \n",
       "1138      1139    2021  2022-05-22  Manchester City        Aston Villa   \n",
       "1139      1140    2021  2022-05-22          Norwich          Tottenham   \n",
       "\n",
       "      local_goals  away_goals  \n",
       "930           NaN         NaN  \n",
       "931           NaN         NaN  \n",
       "942           NaN         NaN  \n",
       "966           NaN         NaN  \n",
       "977           NaN         NaN  \n",
       "...           ...         ...  \n",
       "1135          NaN         NaN  \n",
       "1136          NaN         NaN  \n",
       "1137          NaN         NaN  \n",
       "1138          NaN         NaN  \n",
       "1139          NaN         NaN  \n",
       "\n",
       "[82 rows x 7 columns]"
      ]
     },
     "execution_count": 15,
     "metadata": {},
     "output_type": "execute_result"
    }
   ],
   "source": [
    "seasons_df[seasons_df['local_goals'].isnull()]"
   ]
  },
  {
   "cell_type": "markdown",
   "id": "b6ab7bcd-d4fa-4cc1-8559-619cce5e5495",
   "metadata": {},
   "source": [
    "As you can see, according to the match date, the missing values correspond to matches for the rest of the year 2022. We will explore if this is true."
   ]
  },
  {
   "cell_type": "code",
   "execution_count": 16,
   "id": "52097e7b-4461-4e92-a1c9-05d7478da48e",
   "metadata": {},
   "outputs": [
    {
     "data": {
      "text/plain": [
       "array([2022])"
      ]
     },
     "execution_count": 16,
     "metadata": {},
     "output_type": "execute_result"
    }
   ],
   "source": [
    "df_null = seasons_df[seasons_df['local_goals'].isnull()].copy()\n",
    "df_null['year'] = df_null['match_date'].astype(str).str[0:4]\n",
    "df_null['year'] = df_null['year'].astype(int)\n",
    "df_null.year.unique()"
   ]
  },
  {
   "cell_type": "code",
   "execution_count": 17,
   "id": "0bb66a92-b91b-4f8a-bdb2-077a7055d647",
   "metadata": {},
   "outputs": [
    {
     "data": {
      "text/html": [
       "<div>\n",
       "<style scoped>\n",
       "    .dataframe tbody tr th:only-of-type {\n",
       "        vertical-align: middle;\n",
       "    }\n",
       "\n",
       "    .dataframe tbody tr th {\n",
       "        vertical-align: top;\n",
       "    }\n",
       "\n",
       "    .dataframe thead th {\n",
       "        text-align: right;\n",
       "    }\n",
       "</style>\n",
       "<table border=\"1\" class=\"dataframe\">\n",
       "  <thead>\n",
       "    <tr style=\"text-align: right;\">\n",
       "      <th></th>\n",
       "      <th>match_id</th>\n",
       "      <th>season</th>\n",
       "      <th>match_date</th>\n",
       "      <th>local_team</th>\n",
       "      <th>away_team</th>\n",
       "      <th>local_goals</th>\n",
       "      <th>away_goals</th>\n",
       "      <th>year</th>\n",
       "    </tr>\n",
       "  </thead>\n",
       "  <tbody>\n",
       "  </tbody>\n",
       "</table>\n",
       "</div>"
      ],
      "text/plain": [
       "Empty DataFrame\n",
       "Columns: [match_id, season, match_date, local_team, away_team, local_goals, away_goals, year]\n",
       "Index: []"
      ]
     },
     "execution_count": 17,
     "metadata": {},
     "output_type": "execute_result"
    }
   ],
   "source": [
    "df_null[df_null['year'] == 2021]"
   ]
  },
  {
   "cell_type": "markdown",
   "id": "d2ca1252-adcd-4e24-a90f-1c36bf9ec425",
   "metadata": {},
   "source": [
    "We notice that the result of the previous dataframe is empty because all matches were played. But in a previous analysis the matches were scheduled for the end of the year, but were not played.\n",
    "\n",
    "E.g. As of march 2022 this match hasn't been played yet. On april this game was played."
   ]
  },
  {
   "cell_type": "markdown",
   "id": "49e0ff18-7e2c-4254-a879-7f8d28bd2b10",
   "metadata": {},
   "source": [
    "![image](image_nullmatch.png)"
   ]
  },
  {
   "cell_type": "markdown",
   "id": "d71bfcf4-dd3d-4086-a35b-95c94fecc275",
   "metadata": {},
   "source": [
    "We conclude that since the missing data correspond to rescheduled games or games that haven't been played yet, therefore we drop these rows because they don't add value."
   ]
  },
  {
   "cell_type": "code",
   "execution_count": 18,
   "id": "fd80b732-0f45-4b1c-b575-4173a4ec5468",
   "metadata": {},
   "outputs": [],
   "source": [
    "seasons_df = seasons_df[seasons_df['away_goals'].notnull()]"
   ]
  },
  {
   "cell_type": "code",
   "execution_count": 19,
   "id": "e11158dd-87a4-432b-aed0-976680744c7c",
   "metadata": {},
   "outputs": [
    {
     "data": {
      "text/plain": [
       "<AxesSubplot:>"
      ]
     },
     "execution_count": 19,
     "metadata": {},
     "output_type": "execute_result"
    },
    {
     "data": {
      "image/png": "[encoded data removed]",
      "text/plain": [
       "<Figure size 432x288 with 1 Axes>"
      ]
     },
     "metadata": {
      "needs_background": "light"
     },
     "output_type": "display_data"
    }
   ],
   "source": [
    "sns.heatmap(seasons_df.isnull(), cbar=False)"
   ]
  },
  {
   "cell_type": "code",
   "execution_count": 20,
   "id": "b38f22ca-b605-44ac-84bc-3ef2872df598",
   "metadata": {},
   "outputs": [
    {
     "data": {
      "image/png": "[encoded data removed]",
      "text/plain": [
       "<Figure size 648x288 with 1 Axes>"
      ]
     },
     "metadata": {
      "needs_background": "light"
     },
     "output_type": "display_data"
    }
   ],
   "source": [
    "fig, ax = plt.subplots(figsize=(9,4)) \n",
    "plt.hist(seasons_df[['local_goals', 'away_goals']].values, \n",
    "          label=['Home', 'Away'], color=[\"#FFA07A\", \"#20B2AA\"])\n",
    "plt.legend(['Home', 'Away'])\n",
    "plt.show()"
   ]
  },
  {
   "cell_type": "markdown",
   "id": "d5f5f4db-9e8f-452d-8358-53202291c260",
   "metadata": {},
   "source": [
    "The histogram shows an interesting structure. We can see that the frequency of teams scoring zero goals is bigger for away teams than for home teams. In general, away teams tend to score less goals. This shows the importance of considering in our model the home or away condition.\n",
    "\n",
    "On the other hand, we can notice there are teams that in a match performed more than six goals, but as you can see these are uncommon events. Under this condition we removed this atypical results because it could represent a bias factor for the proposed model.\n",
    "\n",
    "The count of games for different number of goals: "
   ]
  },
  {
   "cell_type": "code",
   "execution_count": 21,
   "id": "9330828a-6336-4022-87c4-d4e38748ddd6",
   "metadata": {},
   "outputs": [
    {
     "data": {
      "text/html": [
       "<div>\n",
       "<style scoped>\n",
       "    .dataframe tbody tr th:only-of-type {\n",
       "        vertical-align: middle;\n",
       "    }\n",
       "\n",
       "    .dataframe tbody tr th {\n",
       "        vertical-align: top;\n",
       "    }\n",
       "\n",
       "    .dataframe thead th {\n",
       "        text-align: right;\n",
       "    }\n",
       "</style>\n",
       "<table border=\"1\" class=\"dataframe\">\n",
       "  <thead>\n",
       "    <tr style=\"text-align: right;\">\n",
       "      <th></th>\n",
       "      <th>0</th>\n",
       "    </tr>\n",
       "  </thead>\n",
       "  <tbody>\n",
       "    <tr>\n",
       "      <th>2.0</th>\n",
       "      <td>347</td>\n",
       "    </tr>\n",
       "    <tr>\n",
       "      <th>1.0</th>\n",
       "      <td>301</td>\n",
       "    </tr>\n",
       "    <tr>\n",
       "      <th>3.0</th>\n",
       "      <td>220</td>\n",
       "    </tr>\n",
       "    <tr>\n",
       "      <th>4.0</th>\n",
       "      <td>76</td>\n",
       "    </tr>\n",
       "    <tr>\n",
       "      <th>0.0</th>\n",
       "      <td>69</td>\n",
       "    </tr>\n",
       "    <tr>\n",
       "      <th>5.0</th>\n",
       "      <td>33</td>\n",
       "    </tr>\n",
       "    <tr>\n",
       "      <th>6.0</th>\n",
       "      <td>5</td>\n",
       "    </tr>\n",
       "    <tr>\n",
       "      <th>7.0</th>\n",
       "      <td>4</td>\n",
       "    </tr>\n",
       "    <tr>\n",
       "      <th>9.0</th>\n",
       "      <td>2</td>\n",
       "    </tr>\n",
       "    <tr>\n",
       "      <th>8.0</th>\n",
       "      <td>1</td>\n",
       "    </tr>\n",
       "  </tbody>\n",
       "</table>\n",
       "</div>"
      ],
      "text/plain": [
       "       0\n",
       "2.0  347\n",
       "1.0  301\n",
       "3.0  220\n",
       "4.0   76\n",
       "0.0   69\n",
       "5.0   33\n",
       "6.0    5\n",
       "7.0    4\n",
       "9.0    2\n",
       "8.0    1"
      ]
     },
     "execution_count": 21,
     "metadata": {},
     "output_type": "execute_result"
    }
   ],
   "source": [
    "pd.DataFrame(seasons_df[[\"local_goals\", \"away_goals\"]].max(axis=1).value_counts())"
   ]
  },
  {
   "cell_type": "markdown",
   "id": "9645ceb5-8c98-4787-9b50-ab7738718a89",
   "metadata": {},
   "source": [
    "There are only 12 mathes where one of the teams performed more than 6 goals, 5 matches with 6 goals, 4 with 7, 2 with 9 and 1 with 8 goals, for this reason we will delete of the table in order to ajust our model."
   ]
  },
  {
   "cell_type": "code",
   "execution_count": 22,
   "id": "77e288ee-443c-4a4d-beb0-9339ca168d12",
   "metadata": {},
   "outputs": [],
   "source": [
    "seasons_df = seasons_df[seasons_df[\"local_goals\"]<6]"
   ]
  },
  {
   "cell_type": "code",
   "execution_count": 23,
   "id": "8b6453f1-bb98-4ecd-90d4-53b68e5b31c3",
   "metadata": {},
   "outputs": [],
   "source": [
    "seasons_df = seasons_df[seasons_df[\"away_goals\"]<6]"
   ]
  },
  {
   "cell_type": "markdown",
   "id": "4d3a63ee-284a-427d-8705-ce969783b76c",
   "metadata": {},
   "source": [
    "Finally, the histogram of goals by away and home condition removing the atypical results is:"
   ]
  },
  {
   "cell_type": "code",
   "execution_count": 24,
   "id": "dc11b5f3-ab0d-4b57-bbf1-a674fecb2d29",
   "metadata": {},
   "outputs": [
    {
     "data": {
      "image/png": "[encoded data removed]",
      "text/plain": [
       "<Figure size 648x288 with 1 Axes>"
      ]
     },
     "metadata": {
      "needs_background": "light"
     },
     "output_type": "display_data"
    }
   ],
   "source": [
    "fig, ax = plt.subplots(figsize=(9,4)) \n",
    "plt.hist(seasons_df[['local_goals', 'away_goals']].values, color=[\"#FFA07A\", \"#20B2AA\"])\n",
    "plt.legend(['Home', 'Away'])\n",
    "plt.show()"
   ]
  },
  {
   "cell_type": "markdown",
   "id": "48effc63-477d-4256-9ffe-98e2e4317d20",
   "metadata": {},
   "source": [
    "## Statistics dataframe"
   ]
  },
  {
   "cell_type": "code",
   "execution_count": 25,
   "id": "d81977f2-a1fa-4f93-91dc-a15a9b5154eb",
   "metadata": {},
   "outputs": [],
   "source": [
    "statistics_df = None\n",
    "columns = [\"season\",\"player_id\", \"player_name\",\"age\",\"injured\",\"team_id\",\"appearences\",\"minutes\",\"position\",\"rating\",\"shots\",\"goals\",\"assists\",\"passes_accuracy\",\"total_duels\",\"won_duels\"]"
   ]
  },
  {
   "cell_type": "code",
   "execution_count": 26,
   "id": "3041a5da-0eb9-4cc3-8d07-158ce8707ca2",
   "metadata": {},
   "outputs": [],
   "source": [
    "for year in eda_seasons:\n",
    "    fe_year = readStatsFromSeason(table_stats, conn, year, False)\n",
    "    if(statistics_df == None):\n",
    "        statistics_df = fe_year\n",
    "    else:\n",
    "        statistics_df = statistics_df + fe_year"
   ]
  },
  {
   "cell_type": "code",
   "execution_count": 27,
   "id": "6e796f1c-2057-44fd-9601-8db860b8744a",
   "metadata": {},
   "outputs": [],
   "source": [
    "statistics_df=pd.DataFrame(statistics_df)\n",
    "statistics_df.columns = columns"
   ]
  },
  {
   "cell_type": "code",
   "execution_count": 28,
   "id": "206d445e-009a-422c-a4cf-568205730085",
   "metadata": {},
   "outputs": [
    {
     "name": "stdout",
     "output_type": "stream",
     "text": [
      "<class 'pandas.core.frame.DataFrame'>\n",
      "RangeIndex: 2152 entries, 0 to 2151\n",
      "Data columns (total 16 columns):\n",
      " #   Column           Non-Null Count  Dtype  \n",
      "---  ------           --------------  -----  \n",
      " 0   season           2152 non-null   int64  \n",
      " 1   player_id        2152 non-null   int64  \n",
      " 2   player_name      2152 non-null   object \n",
      " 3   age              2148 non-null   float64\n",
      " 4   injured          2152 non-null   bool   \n",
      " 5   team_id          2152 non-null   int64  \n",
      " 6   appearences      2106 non-null   float64\n",
      " 7   minutes          2106 non-null   float64\n",
      " 8   position         2152 non-null   object \n",
      " 9   rating           1534 non-null   float64\n",
      " 10  shots            1354 non-null   float64\n",
      " 11  goals            2106 non-null   float64\n",
      " 12  assists          763 non-null    float64\n",
      " 13  passes_accuracy  1544 non-null   float64\n",
      " 14  total_duels      1527 non-null   float64\n",
      " 15  won_duels        1505 non-null   float64\n",
      "dtypes: bool(1), float64(10), int64(3), object(2)\n",
      "memory usage: 254.4+ KB\n"
     ]
    }
   ],
   "source": [
    "statistics_df.info()"
   ]
  },
  {
   "cell_type": "code",
   "execution_count": 29,
   "id": "5700b61d-a5fa-4d83-a47d-d3a1f2a9a3df",
   "metadata": {},
   "outputs": [
    {
     "data": {
      "text/plain": [
       "(2152, 16)"
      ]
     },
     "execution_count": 29,
     "metadata": {},
     "output_type": "execute_result"
    }
   ],
   "source": [
    "statistics_df.shape"
   ]
  },
  {
   "cell_type": "code",
   "execution_count": 30,
   "id": "5f387ae9-0bd0-43bc-8987-eb263a0f1f56",
   "metadata": {},
   "outputs": [
    {
     "data": {
      "text/plain": [
       "<AxesSubplot:>"
      ]
     },
     "execution_count": 30,
     "metadata": {},
     "output_type": "execute_result"
    },
    {
     "data": {
      "image/png": "[encoded data removed]",
      "text/plain": [
       "<Figure size 432x288 with 1 Axes>"
      ]
     },
     "metadata": {
      "needs_background": "light"
     },
     "output_type": "display_data"
    }
   ],
   "source": [
    "sns.heatmap(statistics_df.isnull(), cbar=False)"
   ]
  },
  {
   "cell_type": "markdown",
   "id": "4c7840be-1650-490b-a8ba-dc4125fac7cb",
   "metadata": {},
   "source": [
    "We have a lot variables with null values. The idea is to inspect each variable. In the first place we will analize assists variable. If we compare the assist values with the position it is possible to understand the reason why a lot of this values are null."
   ]
  },
  {
   "cell_type": "code",
   "execution_count": 31,
   "id": "31a03780-bd51-4c85-b32d-e5bfd8f4f336",
   "metadata": {},
   "outputs": [
    {
     "data": {
      "text/plain": [
       "position\n",
       "Attacker      214\n",
       "Defender      215\n",
       "Goalkeeper      7\n",
       "Midfielder    327\n",
       "Name: assists, dtype: int64"
      ]
     },
     "execution_count": 31,
     "metadata": {},
     "output_type": "execute_result"
    }
   ],
   "source": [
    "statistics_df.groupby(\"position\")[\"assists\"].count()"
   ]
  },
  {
   "cell_type": "code",
   "execution_count": 32,
   "id": "36b0f058-52a2-4265-8a39-e0d3491ce247",
   "metadata": {},
   "outputs": [
    {
     "data": {
      "text/plain": [
       "position\n",
       "Attacker      228\n",
       "Defender      490\n",
       "Goalkeeper    237\n",
       "Midfielder    434\n",
       "Name: assists, dtype: int64"
      ]
     },
     "execution_count": 32,
     "metadata": {},
     "output_type": "execute_result"
    }
   ],
   "source": [
    "statistics_df.groupby(\"position\")[\"assists\"].apply(lambda x: x.isnull().sum())"
   ]
  },
  {
   "cell_type": "markdown",
   "id": "1e88431b-205c-4e25-b05a-7eaf86d9e55d",
   "metadata": {},
   "source": [
    "As you can see, the position with more NaN's values is the goalkeeper and it is common in the football. We can see that defender is a position with a not assist and this is natural. But to understand if this variable is informative or not we can compare the ratings. We assume that if the average rating per player is different then this variable will be necessary to consider in our model or we can remove it."
   ]
  },
  {
   "cell_type": "code",
   "execution_count": 33,
   "id": "22bc2020-bade-43e8-836c-9fe9e19d8c50",
   "metadata": {},
   "outputs": [
    {
     "data": {
      "text/html": [
       "<div>\n",
       "<style scoped>\n",
       "    .dataframe tbody tr th:only-of-type {\n",
       "        vertical-align: middle;\n",
       "    }\n",
       "\n",
       "    .dataframe tbody tr th {\n",
       "        vertical-align: top;\n",
       "    }\n",
       "\n",
       "    .dataframe thead th {\n",
       "        text-align: right;\n",
       "    }\n",
       "</style>\n",
       "<table border=\"1\" class=\"dataframe\">\n",
       "  <thead>\n",
       "    <tr style=\"text-align: right;\">\n",
       "      <th></th>\n",
       "      <th>rating</th>\n",
       "      <th>appearences</th>\n",
       "    </tr>\n",
       "    <tr>\n",
       "      <th>position</th>\n",
       "      <th></th>\n",
       "      <th></th>\n",
       "    </tr>\n",
       "  </thead>\n",
       "  <tbody>\n",
       "    <tr>\n",
       "      <th>Attacker</th>\n",
       "      <td>6.873266</td>\n",
       "      <td>25.383178</td>\n",
       "    </tr>\n",
       "    <tr>\n",
       "      <th>Defender</th>\n",
       "      <td>6.899280</td>\n",
       "      <td>23.776744</td>\n",
       "    </tr>\n",
       "    <tr>\n",
       "      <th>Goalkeeper</th>\n",
       "      <td>6.947281</td>\n",
       "      <td>31.000000</td>\n",
       "    </tr>\n",
       "    <tr>\n",
       "      <th>Midfielder</th>\n",
       "      <td>6.905998</td>\n",
       "      <td>24.691131</td>\n",
       "    </tr>\n",
       "  </tbody>\n",
       "</table>\n",
       "</div>"
      ],
      "text/plain": [
       "              rating  appearences\n",
       "position                         \n",
       "Attacker    6.873266    25.383178\n",
       "Defender    6.899280    23.776744\n",
       "Goalkeeper  6.947281    31.000000\n",
       "Midfielder  6.905998    24.691131"
      ]
     },
     "execution_count": 33,
     "metadata": {},
     "output_type": "execute_result"
    }
   ],
   "source": [
    "statistics_df[statistics_df['assists'].notnull()].groupby(\"position\")[\"rating\",\"appearences\"].mean()"
   ]
  },
  {
   "cell_type": "code",
   "execution_count": 34,
   "id": "686d5e9c-7da6-4646-ac6c-d2918138413f",
   "metadata": {},
   "outputs": [
    {
     "data": {
      "text/plain": [
       "position\n",
       "Attacker      6.568112\n",
       "Defender      6.752531\n",
       "Goalkeeper    6.752799\n",
       "Midfielder    6.616586\n",
       "Name: rating, dtype: float64"
      ]
     },
     "execution_count": 34,
     "metadata": {},
     "output_type": "execute_result"
    }
   ],
   "source": [
    "statistics_df[statistics_df['assists'].isnull()].groupby(\"position\")[\"rating\"].mean()"
   ]
  },
  {
   "cell_type": "markdown",
   "id": "87e16744-c626-407f-b75b-7bd54083dbb2",
   "metadata": {},
   "source": [
    "We can see that the ratings increase when the players have assist, that means that the ratings contain the information about assist and we can consider remove of the study. More over, if the rating is very informative that means that we can think on the appearence variable and consider: the higher the rating there are more appearence. Let's see!"
   ]
  },
  {
   "cell_type": "code",
   "execution_count": 35,
   "id": "c590ca40-6216-4570-91c5-006bff283be5",
   "metadata": {},
   "outputs": [
    {
     "data": {
      "text/html": [
       "<div>\n",
       "<style scoped>\n",
       "    .dataframe tbody tr th:only-of-type {\n",
       "        vertical-align: middle;\n",
       "    }\n",
       "\n",
       "    .dataframe tbody tr th {\n",
       "        vertical-align: top;\n",
       "    }\n",
       "\n",
       "    .dataframe thead th {\n",
       "        text-align: right;\n",
       "    }\n",
       "</style>\n",
       "<table border=\"1\" class=\"dataframe\">\n",
       "  <thead>\n",
       "    <tr style=\"text-align: right;\">\n",
       "      <th></th>\n",
       "      <th>rating</th>\n",
       "      <th>appearences</th>\n",
       "    </tr>\n",
       "    <tr>\n",
       "      <th>position</th>\n",
       "      <th></th>\n",
       "      <th></th>\n",
       "    </tr>\n",
       "  </thead>\n",
       "  <tbody>\n",
       "    <tr>\n",
       "      <th>Attacker</th>\n",
       "      <td>6.873266</td>\n",
       "      <td>25.383178</td>\n",
       "    </tr>\n",
       "    <tr>\n",
       "      <th>Defender</th>\n",
       "      <td>6.899280</td>\n",
       "      <td>23.776744</td>\n",
       "    </tr>\n",
       "    <tr>\n",
       "      <th>Goalkeeper</th>\n",
       "      <td>6.947281</td>\n",
       "      <td>31.000000</td>\n",
       "    </tr>\n",
       "    <tr>\n",
       "      <th>Midfielder</th>\n",
       "      <td>6.905998</td>\n",
       "      <td>24.691131</td>\n",
       "    </tr>\n",
       "  </tbody>\n",
       "</table>\n",
       "</div>"
      ],
      "text/plain": [
       "              rating  appearences\n",
       "position                         \n",
       "Attacker    6.873266    25.383178\n",
       "Defender    6.899280    23.776744\n",
       "Goalkeeper  6.947281    31.000000\n",
       "Midfielder  6.905998    24.691131"
      ]
     },
     "execution_count": 35,
     "metadata": {},
     "output_type": "execute_result"
    }
   ],
   "source": [
    "statistics_df[statistics_df['assists'].notnull()].groupby(\"position\")[\"rating\",\"appearences\"].mean()"
   ]
  },
  {
   "cell_type": "code",
   "execution_count": 36,
   "id": "fb759b68-5126-40f7-9b30-763a3dc2f439",
   "metadata": {},
   "outputs": [
    {
     "data": {
      "text/html": [
       "<div>\n",
       "<style scoped>\n",
       "    .dataframe tbody tr th:only-of-type {\n",
       "        vertical-align: middle;\n",
       "    }\n",
       "\n",
       "    .dataframe tbody tr th {\n",
       "        vertical-align: top;\n",
       "    }\n",
       "\n",
       "    .dataframe thead th {\n",
       "        text-align: right;\n",
       "    }\n",
       "</style>\n",
       "<table border=\"1\" class=\"dataframe\">\n",
       "  <thead>\n",
       "    <tr style=\"text-align: right;\">\n",
       "      <th></th>\n",
       "      <th>rating</th>\n",
       "      <th>appearences</th>\n",
       "    </tr>\n",
       "    <tr>\n",
       "      <th>position</th>\n",
       "      <th></th>\n",
       "      <th></th>\n",
       "    </tr>\n",
       "  </thead>\n",
       "  <tbody>\n",
       "    <tr>\n",
       "      <th>Attacker</th>\n",
       "      <td>6.568112</td>\n",
       "      <td>5.770270</td>\n",
       "    </tr>\n",
       "    <tr>\n",
       "      <th>Defender</th>\n",
       "      <td>6.752531</td>\n",
       "      <td>8.917895</td>\n",
       "    </tr>\n",
       "    <tr>\n",
       "      <th>Goalkeeper</th>\n",
       "      <td>6.752799</td>\n",
       "      <td>8.133047</td>\n",
       "    </tr>\n",
       "    <tr>\n",
       "      <th>Midfielder</th>\n",
       "      <td>6.616586</td>\n",
       "      <td>6.585956</td>\n",
       "    </tr>\n",
       "  </tbody>\n",
       "</table>\n",
       "</div>"
      ],
      "text/plain": [
       "              rating  appearences\n",
       "position                         \n",
       "Attacker    6.568112     5.770270\n",
       "Defender    6.752531     8.917895\n",
       "Goalkeeper  6.752799     8.133047\n",
       "Midfielder  6.616586     6.585956"
      ]
     },
     "execution_count": 36,
     "metadata": {},
     "output_type": "execute_result"
    }
   ],
   "source": [
    "statistics_df[statistics_df['assists'].isnull()].groupby(\"position\")[\"rating\",\"appearences\"].mean()"
   ]
  },
  {
   "cell_type": "markdown",
   "id": "7022f2d9-79b4-4ec6-95b6-08c32050ac8f",
   "metadata": {},
   "source": [
    "With this last result, we can consider that the rating contains information about the appearence as the assist. Meanwhile, shots, total duels and won duels are less informative variables because depend on appearence and/or assists. Therefore we can assume that all this information is summarized in the rating variable.\n",
    "\n",
    "The last \"problem\", the rating variable as a lot of nulls, but depends of the appearence."
   ]
  },
  {
   "cell_type": "code",
   "execution_count": 37,
   "id": "cf732078-25fd-46c8-8b3a-58b6d6a71bee",
   "metadata": {},
   "outputs": [
    {
     "data": {
      "text/html": [
       "<div>\n",
       "<style scoped>\n",
       "    .dataframe tbody tr th:only-of-type {\n",
       "        vertical-align: middle;\n",
       "    }\n",
       "\n",
       "    .dataframe tbody tr th {\n",
       "        vertical-align: top;\n",
       "    }\n",
       "\n",
       "    .dataframe thead th {\n",
       "        text-align: right;\n",
       "    }\n",
       "</style>\n",
       "<table border=\"1\" class=\"dataframe\">\n",
       "  <thead>\n",
       "    <tr style=\"text-align: right;\">\n",
       "      <th></th>\n",
       "      <th>season</th>\n",
       "      <th>player_id</th>\n",
       "      <th>player_name</th>\n",
       "      <th>age</th>\n",
       "      <th>injured</th>\n",
       "      <th>team_id</th>\n",
       "      <th>appearences</th>\n",
       "      <th>minutes</th>\n",
       "      <th>position</th>\n",
       "      <th>rating</th>\n",
       "      <th>shots</th>\n",
       "      <th>goals</th>\n",
       "      <th>assists</th>\n",
       "      <th>passes_accuracy</th>\n",
       "      <th>total_duels</th>\n",
       "      <th>won_duels</th>\n",
       "    </tr>\n",
       "  </thead>\n",
       "  <tbody>\n",
       "    <tr>\n",
       "      <th>0</th>\n",
       "      <td>2019</td>\n",
       "      <td>160</td>\n",
       "      <td>M. Vorm</td>\n",
       "      <td>38.0</td>\n",
       "      <td>False</td>\n",
       "      <td>47</td>\n",
       "      <td>0.0</td>\n",
       "      <td>0.0</td>\n",
       "      <td>Goalkeeper</td>\n",
       "      <td>NaN</td>\n",
       "      <td>NaN</td>\n",
       "      <td>0.0</td>\n",
       "      <td>NaN</td>\n",
       "      <td>NaN</td>\n",
       "      <td>NaN</td>\n",
       "      <td>NaN</td>\n",
       "    </tr>\n",
       "    <tr>\n",
       "      <th>5</th>\n",
       "      <td>2019</td>\n",
       "      <td>18789</td>\n",
       "      <td>Gomes</td>\n",
       "      <td>40.0</td>\n",
       "      <td>False</td>\n",
       "      <td>38</td>\n",
       "      <td>0.0</td>\n",
       "      <td>0.0</td>\n",
       "      <td>Goalkeeper</td>\n",
       "      <td>NaN</td>\n",
       "      <td>NaN</td>\n",
       "      <td>0.0</td>\n",
       "      <td>NaN</td>\n",
       "      <td>NaN</td>\n",
       "      <td>NaN</td>\n",
       "      <td>NaN</td>\n",
       "    </tr>\n",
       "    <tr>\n",
       "      <th>18</th>\n",
       "      <td>2019</td>\n",
       "      <td>138936</td>\n",
       "      <td>K. Hayden</td>\n",
       "      <td>18.0</td>\n",
       "      <td>False</td>\n",
       "      <td>66</td>\n",
       "      <td>0.0</td>\n",
       "      <td>0.0</td>\n",
       "      <td>Midfielder</td>\n",
       "      <td>NaN</td>\n",
       "      <td>NaN</td>\n",
       "      <td>0.0</td>\n",
       "      <td>NaN</td>\n",
       "      <td>NaN</td>\n",
       "      <td>NaN</td>\n",
       "      <td>NaN</td>\n",
       "    </tr>\n",
       "    <tr>\n",
       "      <th>19</th>\n",
       "      <td>2019</td>\n",
       "      <td>144715</td>\n",
       "      <td>Bernardo Rusa</td>\n",
       "      <td>22.0</td>\n",
       "      <td>False</td>\n",
       "      <td>48</td>\n",
       "      <td>0.0</td>\n",
       "      <td>0.0</td>\n",
       "      <td>Midfielder</td>\n",
       "      <td>NaN</td>\n",
       "      <td>NaN</td>\n",
       "      <td>0.0</td>\n",
       "      <td>NaN</td>\n",
       "      <td>NaN</td>\n",
       "      <td>NaN</td>\n",
       "      <td>NaN</td>\n",
       "    </tr>\n",
       "    <tr>\n",
       "      <th>20</th>\n",
       "      <td>2019</td>\n",
       "      <td>161</td>\n",
       "      <td>A. Whiteman</td>\n",
       "      <td>24.0</td>\n",
       "      <td>False</td>\n",
       "      <td>47</td>\n",
       "      <td>0.0</td>\n",
       "      <td>0.0</td>\n",
       "      <td>Goalkeeper</td>\n",
       "      <td>NaN</td>\n",
       "      <td>NaN</td>\n",
       "      <td>0.0</td>\n",
       "      <td>NaN</td>\n",
       "      <td>NaN</td>\n",
       "      <td>NaN</td>\n",
       "      <td>NaN</td>\n",
       "    </tr>\n",
       "    <tr>\n",
       "      <th>2135</th>\n",
       "      <td>2021</td>\n",
       "      <td>899</td>\n",
       "      <td>Andreas Pereira</td>\n",
       "      <td>26.0</td>\n",
       "      <td>False</td>\n",
       "      <td>33</td>\n",
       "      <td>0.0</td>\n",
       "      <td>0.0</td>\n",
       "      <td>Midfielder</td>\n",
       "      <td>NaN</td>\n",
       "      <td>NaN</td>\n",
       "      <td>0.0</td>\n",
       "      <td>NaN</td>\n",
       "      <td>NaN</td>\n",
       "      <td>NaN</td>\n",
       "      <td>NaN</td>\n",
       "    </tr>\n",
       "    <tr>\n",
       "      <th>2137</th>\n",
       "      <td>2021</td>\n",
       "      <td>2294</td>\n",
       "      <td>Willian</td>\n",
       "      <td>34.0</td>\n",
       "      <td>False</td>\n",
       "      <td>42</td>\n",
       "      <td>0.0</td>\n",
       "      <td>0.0</td>\n",
       "      <td>Attacker</td>\n",
       "      <td>NaN</td>\n",
       "      <td>NaN</td>\n",
       "      <td>0.0</td>\n",
       "      <td>NaN</td>\n",
       "      <td>NaN</td>\n",
       "      <td>NaN</td>\n",
       "      <td>NaN</td>\n",
       "    </tr>\n",
       "    <tr>\n",
       "      <th>2149</th>\n",
       "      <td>2021</td>\n",
       "      <td>181420</td>\n",
       "      <td>Jaime Alberto Alvarado Hoyos</td>\n",
       "      <td>23.0</td>\n",
       "      <td>False</td>\n",
       "      <td>38</td>\n",
       "      <td>0.0</td>\n",
       "      <td>0.0</td>\n",
       "      <td>Midfielder</td>\n",
       "      <td>NaN</td>\n",
       "      <td>NaN</td>\n",
       "      <td>0.0</td>\n",
       "      <td>NaN</td>\n",
       "      <td>NaN</td>\n",
       "      <td>NaN</td>\n",
       "      <td>NaN</td>\n",
       "    </tr>\n",
       "    <tr>\n",
       "      <th>2150</th>\n",
       "      <td>2021</td>\n",
       "      <td>284185</td>\n",
       "      <td>C. Whitaker</td>\n",
       "      <td>19.0</td>\n",
       "      <td>False</td>\n",
       "      <td>45</td>\n",
       "      <td>0.0</td>\n",
       "      <td>0.0</td>\n",
       "      <td>Midfielder</td>\n",
       "      <td>NaN</td>\n",
       "      <td>NaN</td>\n",
       "      <td>0.0</td>\n",
       "      <td>NaN</td>\n",
       "      <td>NaN</td>\n",
       "      <td>NaN</td>\n",
       "      <td>NaN</td>\n",
       "    </tr>\n",
       "    <tr>\n",
       "      <th>2151</th>\n",
       "      <td>2021</td>\n",
       "      <td>284267</td>\n",
       "      <td>I. Price</td>\n",
       "      <td>19.0</td>\n",
       "      <td>False</td>\n",
       "      <td>45</td>\n",
       "      <td>0.0</td>\n",
       "      <td>0.0</td>\n",
       "      <td>Midfielder</td>\n",
       "      <td>NaN</td>\n",
       "      <td>NaN</td>\n",
       "      <td>0.0</td>\n",
       "      <td>NaN</td>\n",
       "      <td>NaN</td>\n",
       "      <td>NaN</td>\n",
       "      <td>NaN</td>\n",
       "    </tr>\n",
       "  </tbody>\n",
       "</table>\n",
       "</div>"
      ],
      "text/plain": [
       "      season  player_id                   player_name   age  injured  team_id  \\\n",
       "0       2019        160                       M. Vorm  38.0    False       47   \n",
       "5       2019      18789                         Gomes  40.0    False       38   \n",
       "18      2019     138936                     K. Hayden  18.0    False       66   \n",
       "19      2019     144715                 Bernardo Rusa  22.0    False       48   \n",
       "20      2019        161                   A. Whiteman  24.0    False       47   \n",
       "2135    2021        899               Andreas Pereira  26.0    False       33   \n",
       "2137    2021       2294                       Willian  34.0    False       42   \n",
       "2149    2021     181420  Jaime Alberto Alvarado Hoyos  23.0    False       38   \n",
       "2150    2021     284185                   C. Whitaker  19.0    False       45   \n",
       "2151    2021     284267                      I. Price  19.0    False       45   \n",
       "\n",
       "      appearences  minutes    position  rating  shots  goals  assists  \\\n",
       "0             0.0      0.0  Goalkeeper     NaN    NaN    0.0      NaN   \n",
       "5             0.0      0.0  Goalkeeper     NaN    NaN    0.0      NaN   \n",
       "18            0.0      0.0  Midfielder     NaN    NaN    0.0      NaN   \n",
       "19            0.0      0.0  Midfielder     NaN    NaN    0.0      NaN   \n",
       "20            0.0      0.0  Goalkeeper     NaN    NaN    0.0      NaN   \n",
       "2135          0.0      0.0  Midfielder     NaN    NaN    0.0      NaN   \n",
       "2137          0.0      0.0    Attacker     NaN    NaN    0.0      NaN   \n",
       "2149          0.0      0.0  Midfielder     NaN    NaN    0.0      NaN   \n",
       "2150          0.0      0.0  Midfielder     NaN    NaN    0.0      NaN   \n",
       "2151          0.0      0.0  Midfielder     NaN    NaN    0.0      NaN   \n",
       "\n",
       "      passes_accuracy  total_duels  won_duels  \n",
       "0                 NaN          NaN        NaN  \n",
       "5                 NaN          NaN        NaN  \n",
       "18                NaN          NaN        NaN  \n",
       "19                NaN          NaN        NaN  \n",
       "20                NaN          NaN        NaN  \n",
       "2135              NaN          NaN        NaN  \n",
       "2137              NaN          NaN        NaN  \n",
       "2149              NaN          NaN        NaN  \n",
       "2150              NaN          NaN        NaN  \n",
       "2151              NaN          NaN        NaN  "
      ]
     },
     "execution_count": 37,
     "metadata": {},
     "output_type": "execute_result"
    }
   ],
   "source": [
    "pd.concat([statistics_df[statistics_df[\"appearences\"] == 0].head(),statistics_df[statistics_df[\"appearences\"] == 0].tail()])"
   ]
  },
  {
   "cell_type": "markdown",
   "id": "7dc9b216-f605-4fb6-82d2-4387791881b5",
   "metadata": {},
   "source": [
    "Note that our ratings have null values when the player has no appearences and this is obvious, because we can't measure the performance of a player without minutes on the pitch. Then, we remove the null values of rating."
   ]
  },
  {
   "cell_type": "code",
   "execution_count": 38,
   "id": "438ec3e1-0ec5-45ff-9825-d160765ed606",
   "metadata": {},
   "outputs": [],
   "source": [
    "statistics_df1 = statistics_df[statistics_df[\"rating\"].notnull()][[\"team_id\",\"season\",\"position\",\"rating\"]]"
   ]
  },
  {
   "cell_type": "code",
   "execution_count": 39,
   "id": "41d1935f-8b0e-42df-a209-ec891dfdc4d5",
   "metadata": {},
   "outputs": [
    {
     "data": {
      "text/html": [
       "<div>\n",
       "<style scoped>\n",
       "    .dataframe tbody tr th:only-of-type {\n",
       "        vertical-align: middle;\n",
       "    }\n",
       "\n",
       "    .dataframe tbody tr th {\n",
       "        vertical-align: top;\n",
       "    }\n",
       "\n",
       "    .dataframe thead th {\n",
       "        text-align: right;\n",
       "    }\n",
       "</style>\n",
       "<table border=\"1\" class=\"dataframe\">\n",
       "  <thead>\n",
       "    <tr style=\"text-align: right;\">\n",
       "      <th></th>\n",
       "      <th>team_id</th>\n",
       "      <th>season</th>\n",
       "      <th>position</th>\n",
       "      <th>rating</th>\n",
       "    </tr>\n",
       "  </thead>\n",
       "  <tbody>\n",
       "    <tr>\n",
       "      <th>1</th>\n",
       "      <td>50</td>\n",
       "      <td>2019</td>\n",
       "      <td>Attacker</td>\n",
       "      <td>7.160869</td>\n",
       "    </tr>\n",
       "    <tr>\n",
       "      <th>2</th>\n",
       "      <td>45</td>\n",
       "      <td>2019</td>\n",
       "      <td>Midfielder</td>\n",
       "      <td>6.854285</td>\n",
       "    </tr>\n",
       "    <tr>\n",
       "      <th>3</th>\n",
       "      <td>45</td>\n",
       "      <td>2019</td>\n",
       "      <td>Defender</td>\n",
       "      <td>6.887500</td>\n",
       "    </tr>\n",
       "    <tr>\n",
       "      <th>4</th>\n",
       "      <td>46</td>\n",
       "      <td>2019</td>\n",
       "      <td>Defender</td>\n",
       "      <td>6.680000</td>\n",
       "    </tr>\n",
       "    <tr>\n",
       "      <th>6</th>\n",
       "      <td>38</td>\n",
       "      <td>2019</td>\n",
       "      <td>Defender</td>\n",
       "      <td>6.478571</td>\n",
       "    </tr>\n",
       "  </tbody>\n",
       "</table>\n",
       "</div>"
      ],
      "text/plain": [
       "   team_id  season    position    rating\n",
       "1       50    2019    Attacker  7.160869\n",
       "2       45    2019  Midfielder  6.854285\n",
       "3       45    2019    Defender  6.887500\n",
       "4       46    2019    Defender  6.680000\n",
       "6       38    2019    Defender  6.478571"
      ]
     },
     "execution_count": 39,
     "metadata": {},
     "output_type": "execute_result"
    }
   ],
   "source": [
    "statistics_df1.head()"
   ]
  },
  {
   "cell_type": "markdown",
   "id": "cdf69be0-2deb-4f60-99f9-8234caf4324a",
   "metadata": {},
   "source": [
    "Despite that the mean of each position about rating is near of seven, the dispertion of each one suggests that is better to consider for team_id each positon as a explanatory variable. "
   ]
  },
  {
   "cell_type": "markdown",
   "id": "f377ae31-2394-4a56-925b-77b8df5f0f76",
   "metadata": {},
   "source": [
    "## Feature Engineering"
   ]
  },
  {
   "cell_type": "markdown",
   "id": "4c2c3fea-1cb1-49f3-8eb6-271eeea11902",
   "metadata": {},
   "source": [
    "Here we make the dataframe to train our machine learning model. The steps for this will be: \n",
    "\n",
    "* Compute the difference between scored and received goals for each team \n",
    "\n",
    "* Create the result variable: win, lose or odd.\n",
    "\n",
    "* Compute the cummulative goals scored, received and the difference between these, for each team."
   ]
  },
  {
   "cell_type": "code",
   "execution_count": 40,
   "id": "3d23bfcd-6271-4183-89ea-39e4665b3ccd",
   "metadata": {},
   "outputs": [],
   "source": [
    "def sumaGoles(golesEquipo, totalPartidos):\n",
    "    favor = 0\n",
    "    contra = 0\n",
    "    diferencia = 0\n",
    "    for i in range(totalPartidos):\n",
    "        #print(\"sumando el partido \"+str(i))\n",
    "        favor+=golesEquipo[i][0]\n",
    "        contra+=golesEquipo[i][1]\n",
    "        diferencia+=golesEquipo[i][2]\n",
    "    return [favor, contra, diferencia]\n",
    "\n",
    "def FeatureEngineer(anio,partialRes):\n",
    "    equipos = {} # para contar los partidos jugados por equipo\n",
    "    totalGoals = {} # primero a favor, luego en contra, luego diferencia\n",
    "    for res in partialRes:\n",
    "        if(res[1]==anio and res[5] != None): # != None validdation required for non played matches\n",
    "            #datos de equipos\n",
    "            local = res[3]\n",
    "            visita = res[4]\n",
    "\n",
    "            #datos de goles\n",
    "            goles_local = res[5]\n",
    "            goles_visita = res[6]\n",
    "\n",
    "            if(not (local in equipos)):\n",
    "                equipos[local] = 0\n",
    "\n",
    "            if(not (visita in equipos)):\n",
    "                equipos[visita] = 0\n",
    "\n",
    "            #logica para guardar los goles por equipo y el acumulado\n",
    "            if(local in totalGoals):\n",
    "                totalGoals[local].append([goles_local,goles_visita, goles_local-goles_visita])\n",
    "            else:\n",
    "                totalGoals[local] = [[goles_local,goles_visita, goles_local-goles_visita]]\n",
    "\n",
    "            if(visita in totalGoals):\n",
    "                totalGoals[visita].append([goles_visita, goles_local, goles_visita-goles_local])\n",
    "            else:\n",
    "                totalGoals[visita] = [[goles_visita, goles_local, goles_visita-goles_local]]\n",
    "\n",
    "\n",
    "    featureEng = []\n",
    "\n",
    "    for partido in partialRes:\n",
    "        if (partido[1]==anio and partido[5] != None): # != None validdation required for non played matches\n",
    "            #print(partido)\n",
    "            local = partido[3]\n",
    "            visita = partido[4]\n",
    "            goles_acumulados_local = sumaGoles(totalGoals[local], equipos[local])\n",
    "            goles_acumulados_visita = sumaGoles(totalGoals[visita], equipos[visita])\n",
    "            \n",
    "            #ahora se define si gana el local, el visita o empate\n",
    "            resPredictor = 'empate'\n",
    "            if(partido[5]>partido[6]):\n",
    "                resPredictor = 'local'\n",
    "            else:\n",
    "                if(partido[5]<partido[6]):\n",
    "                    resPredictor = 'visita'\n",
    "            \n",
    "            featureEng.append([partido[1],\n",
    "                        local,\n",
    "                        goles_acumulados_local[0],\n",
    "                        goles_acumulados_local[1],\n",
    "                        goles_acumulados_local[2],\n",
    "                        equipos[local],#partidos jugados hasta el momento              \n",
    "                        visita,\n",
    "                        goles_acumulados_visita[0],\n",
    "                        goles_acumulados_visita[1],\n",
    "                        goles_acumulados_visita[2],\n",
    "                        equipos[visita],#partidos jugados hasta el momento  \n",
    "                        resPredictor]\n",
    "                             )\n",
    "            equipos[local] = equipos[local]+1\n",
    "            equipos[visita] = equipos[visita]+1\n",
    "\n",
    "\n",
    "    return featureEng"
   ]
  },
  {
   "cell_type": "markdown",
   "id": "b8d0b90f-f8e6-4dcd-b9f4-b6c264a8db20",
   "metadata": {},
   "source": [
    "We obtain the training dataset"
   ]
  },
  {
   "cell_type": "code",
   "execution_count": 41,
   "id": "f4906790-476d-4901-8986-533b39efe590",
   "metadata": {},
   "outputs": [],
   "source": [
    "todos_features = None\n",
    "\n",
    "seasons_TRAIN = [2016,2017,2018,2019]"
   ]
  },
  {
   "cell_type": "code",
   "execution_count": 42,
   "id": "1ae556cf-b75b-4546-87c4-632ba8205507",
   "metadata": {},
   "outputs": [],
   "source": [
    "for year in seasons_TRAIN:\n",
    "    fe_year = FeatureEngineer(year,readDataFromSeason(table,conn,year,True))\n",
    "    if(todos_features == None):\n",
    "        todos_features = fe_year\n",
    "    else:\n",
    "        todos_features = todos_features + fe_year"
   ]
  },
  {
   "cell_type": "markdown",
   "id": "28e3ae0a-ae0b-43e3-9af6-0c72c858ec8f",
   "metadata": {},
   "source": [
    "We obtain the test dataset"
   ]
  },
  {
   "cell_type": "code",
   "execution_count": 43,
   "id": "c417c422-3e4b-4370-bafc-075fc679d436",
   "metadata": {},
   "outputs": [],
   "source": [
    "test_features = None\n",
    "\n",
    "season_TEST = [2020,2021]"
   ]
  },
  {
   "cell_type": "code",
   "execution_count": 44,
   "id": "1167ab1e-7ff7-422e-9a59-e94a9845ca8a",
   "metadata": {},
   "outputs": [],
   "source": [
    "for year in season_TEST:\n",
    "    fe_year = FeatureEngineer(year,readDataFromSeason(table,conn,year,True))\n",
    "    if(test_features == None):\n",
    "        test_features = fe_year\n",
    "    else:\n",
    "        test_features = test_features + fe_year"
   ]
  },
  {
   "cell_type": "code",
   "execution_count": 45,
   "id": "e57fb423-c6f6-46b7-b187-985d73523fac",
   "metadata": {},
   "outputs": [],
   "source": [
    "def printmodelresult(mensaje, modelo,tiempo, X_t, y_t):\n",
    "    print(\"====================================\")\n",
    "    print(mensaje)\n",
    "    print(\"====================================\")\n",
    "    accuracy = modelo.score(X_t, y_t)\n",
    "    print(\"tiempo estimado [segundos]\")\n",
    "    print(tiempo)\n",
    "    print(\"Accuracy\")\n",
    "    print(accuracy)\n",
    "    # creating a confusion matrix\n",
    "    # plot_confusion_matrix(modelo, X_t, y_t)\n",
    "    y_predict = modelo.predict(X_t)\n",
    "    print(classification_report(y_t, y_predict))"
   ]
  },
  {
   "cell_type": "code",
   "execution_count": 46,
   "id": "1cabe614-479e-422e-af62-e85b5f340a4f",
   "metadata": {},
   "outputs": [],
   "source": [
    "columnas = [\"temporada\",\"local\",\"local_goles\",\"local_goles_recibidos\",\"locaL_dif_goles\", \"local_jornadas_jugadas\", \"visita\",\"visita_goles\",\"visita_goles_recibidos\",\"visita_dif_goles\", \"visita_jornadas_jugadas\", \"ganador\"]"
   ]
  },
  {
   "cell_type": "markdown",
   "id": "bd6326af-9446-4a5a-9ec7-6f1fe04279f8",
   "metadata": {},
   "source": [
    "We split target and predictive features for train and test datasets. "
   ]
  },
  {
   "cell_type": "markdown",
   "id": "663e32a9-6900-4169-b55e-4f4ac97aafe4",
   "metadata": {},
   "source": [
    "Train"
   ]
  },
  {
   "cell_type": "code",
   "execution_count": 47,
   "id": "614a1b27-979f-4f2f-b9e8-b4c8b6533a96",
   "metadata": {},
   "outputs": [],
   "source": [
    "datos_fe = pd.DataFrame(todos_features)\n",
    "datos_fe.columns = columnas\n",
    "X_train = datos_fe.iloc[: , 1:-1]\n",
    "y_train = datos_fe.iloc[: , -1]"
   ]
  },
  {
   "cell_type": "markdown",
   "id": "6038c3fd-7514-4c8d-9ac5-8191770b4f56",
   "metadata": {},
   "source": [
    "Test"
   ]
  },
  {
   "cell_type": "code",
   "execution_count": 48,
   "id": "b358bc04-dcc4-460c-8bbc-f78958516cd2",
   "metadata": {},
   "outputs": [],
   "source": [
    "datos_test = pd.DataFrame(test_features)\n",
    "datos_test.columns = columnas\n",
    "X_test = datos_test.iloc[: , 1:-1]\n",
    "y_test = datos_test.iloc[: , -1]"
   ]
  },
  {
   "cell_type": "code",
   "execution_count": 49,
   "id": "064cbfd1-d473-4847-9554-1e512b3b18fb",
   "metadata": {},
   "outputs": [
    {
     "data": {
      "text/html": [
       "<div>\n",
       "<style scoped>\n",
       "    .dataframe tbody tr th:only-of-type {\n",
       "        vertical-align: middle;\n",
       "    }\n",
       "\n",
       "    .dataframe tbody tr th {\n",
       "        vertical-align: top;\n",
       "    }\n",
       "\n",
       "    .dataframe thead th {\n",
       "        text-align: right;\n",
       "    }\n",
       "</style>\n",
       "<table border=\"1\" class=\"dataframe\">\n",
       "  <thead>\n",
       "    <tr style=\"text-align: right;\">\n",
       "      <th></th>\n",
       "      <th>local_goles</th>\n",
       "      <th>local_goles_recibidos</th>\n",
       "      <th>locaL_dif_goles</th>\n",
       "      <th>local_jornadas_jugadas</th>\n",
       "      <th>visita_goles</th>\n",
       "      <th>visita_goles_recibidos</th>\n",
       "      <th>visita_dif_goles</th>\n",
       "      <th>visita_jornadas_jugadas</th>\n",
       "    </tr>\n",
       "  </thead>\n",
       "  <tbody>\n",
       "    <tr>\n",
       "      <th>count</th>\n",
       "      <td>678.000000</td>\n",
       "      <td>678.000000</td>\n",
       "      <td>678.000000</td>\n",
       "      <td>678.000000</td>\n",
       "      <td>678.000000</td>\n",
       "      <td>678.000000</td>\n",
       "      <td>678.000000</td>\n",
       "      <td>678.000000</td>\n",
       "    </tr>\n",
       "    <tr>\n",
       "      <th>mean</th>\n",
       "      <td>22.958702</td>\n",
       "      <td>23.013274</td>\n",
       "      <td>-0.054572</td>\n",
       "      <td>16.706490</td>\n",
       "      <td>23.016224</td>\n",
       "      <td>23.004425</td>\n",
       "      <td>0.011799</td>\n",
       "      <td>16.702065</td>\n",
       "    </tr>\n",
       "    <tr>\n",
       "      <th>std</th>\n",
       "      <td>16.287885</td>\n",
       "      <td>15.299998</td>\n",
       "      <td>14.634543</td>\n",
       "      <td>10.217472</td>\n",
       "      <td>16.349887</td>\n",
       "      <td>15.403628</td>\n",
       "      <td>14.977674</td>\n",
       "      <td>10.211777</td>\n",
       "    </tr>\n",
       "    <tr>\n",
       "      <th>min</th>\n",
       "      <td>0.000000</td>\n",
       "      <td>0.000000</td>\n",
       "      <td>-44.000000</td>\n",
       "      <td>0.000000</td>\n",
       "      <td>0.000000</td>\n",
       "      <td>0.000000</td>\n",
       "      <td>-45.000000</td>\n",
       "      <td>0.000000</td>\n",
       "    </tr>\n",
       "    <tr>\n",
       "      <th>25%</th>\n",
       "      <td>10.000000</td>\n",
       "      <td>11.000000</td>\n",
       "      <td>-7.000000</td>\n",
       "      <td>8.000000</td>\n",
       "      <td>10.000000</td>\n",
       "      <td>11.000000</td>\n",
       "      <td>-7.000000</td>\n",
       "      <td>8.000000</td>\n",
       "    </tr>\n",
       "    <tr>\n",
       "      <th>50%</th>\n",
       "      <td>20.000000</td>\n",
       "      <td>21.000000</td>\n",
       "      <td>0.000000</td>\n",
       "      <td>16.000000</td>\n",
       "      <td>21.000000</td>\n",
       "      <td>20.500000</td>\n",
       "      <td>0.000000</td>\n",
       "      <td>16.000000</td>\n",
       "    </tr>\n",
       "    <tr>\n",
       "      <th>75%</th>\n",
       "      <td>33.000000</td>\n",
       "      <td>33.000000</td>\n",
       "      <td>8.000000</td>\n",
       "      <td>25.000000</td>\n",
       "      <td>33.000000</td>\n",
       "      <td>33.750000</td>\n",
       "      <td>7.000000</td>\n",
       "      <td>25.000000</td>\n",
       "    </tr>\n",
       "    <tr>\n",
       "      <th>max</th>\n",
       "      <td>78.000000</td>\n",
       "      <td>70.000000</td>\n",
       "      <td>55.000000</td>\n",
       "      <td>37.000000</td>\n",
       "      <td>76.000000</td>\n",
       "      <td>73.000000</td>\n",
       "      <td>53.000000</td>\n",
       "      <td>37.000000</td>\n",
       "    </tr>\n",
       "  </tbody>\n",
       "</table>\n",
       "</div>"
      ],
      "text/plain": [
       "       local_goles  local_goles_recibidos  locaL_dif_goles  \\\n",
       "count   678.000000             678.000000       678.000000   \n",
       "mean     22.958702              23.013274        -0.054572   \n",
       "std      16.287885              15.299998        14.634543   \n",
       "min       0.000000               0.000000       -44.000000   \n",
       "25%      10.000000              11.000000        -7.000000   \n",
       "50%      20.000000              21.000000         0.000000   \n",
       "75%      33.000000              33.000000         8.000000   \n",
       "max      78.000000              70.000000        55.000000   \n",
       "\n",
       "       local_jornadas_jugadas  visita_goles  visita_goles_recibidos  \\\n",
       "count              678.000000    678.000000              678.000000   \n",
       "mean                16.706490     23.016224               23.004425   \n",
       "std                 10.217472     16.349887               15.403628   \n",
       "min                  0.000000      0.000000                0.000000   \n",
       "25%                  8.000000     10.000000               11.000000   \n",
       "50%                 16.000000     21.000000               20.500000   \n",
       "75%                 25.000000     33.000000               33.750000   \n",
       "max                 37.000000     76.000000               73.000000   \n",
       "\n",
       "       visita_dif_goles  visita_jornadas_jugadas  \n",
       "count        678.000000               678.000000  \n",
       "mean           0.011799                16.702065  \n",
       "std           14.977674                10.211777  \n",
       "min          -45.000000                 0.000000  \n",
       "25%           -7.000000                 8.000000  \n",
       "50%            0.000000                16.000000  \n",
       "75%            7.000000                25.000000  \n",
       "max           53.000000                37.000000  "
      ]
     },
     "execution_count": 49,
     "metadata": {},
     "output_type": "execute_result"
    }
   ],
   "source": [
    "X_test.describe()"
   ]
  },
  {
   "cell_type": "code",
   "execution_count": 50,
   "id": "cab1ebe3-55b0-4942-ab01-0e798749a92c",
   "metadata": {},
   "outputs": [
    {
     "data": {
      "text/plain": [
       "count       678\n",
       "unique        3\n",
       "top       local\n",
       "freq        268\n",
       "Name: ganador, dtype: object"
      ]
     },
     "execution_count": 50,
     "metadata": {},
     "output_type": "execute_result"
    }
   ],
   "source": [
    "y_test.describe()"
   ]
  },
  {
   "cell_type": "markdown",
   "id": "9c989466-b729-4708-bfb7-e260beee2cd6",
   "metadata": {},
   "source": [
    "## Modeling"
   ]
  },
  {
   "cell_type": "markdown",
   "id": "d72651db-91b9-4e95-9695-f60cf10ed813",
   "metadata": {},
   "source": [
    "The function *ajustaPipeline* creates a pipeline with the transformation of variables, trains a model according to the parameter algorithm and selects the best hyperparametes."
   ]
  },
  {
   "cell_type": "code",
   "execution_count": 51,
   "id": "4448c2d6-cac2-4709-b773-33357a63cc9e",
   "metadata": {},
   "outputs": [],
   "source": [
    "def ajustaPipeline(grid_param_in, X_train_in,y_train_in):\n",
    "    #transformador de columnas\n",
    "    \n",
    "    col_transformer = ColumnTransformer(\n",
    "                    transformers=[\n",
    "                        ('onehot', OneHotEncoder(handle_unknown = 'ignore'), [\"local\",\"visita\"] )],\n",
    "                    remainder='drop',\n",
    "                    n_jobs=-1\n",
    "                    )   \n",
    "    \n",
    "    pipe = Pipeline([('encoder', col_transformer), (\"classifier\", RandomForestClassifier())])\n",
    "    # se crea gridsearch sobre pipeline\n",
    "    gridsearch = GridSearchCV(pipe, param_grid=grid_param_in, cv=5, verbose=0,n_jobs=-1, scoring='accuracy') # Fit grid search\n",
    "\n",
    "    start_time = time.time()\n",
    "    best_model = gridsearch.fit(X_train_in,y_train_in)\n",
    "    total_time = time.time() - start_time\n",
    "    return best_model, total_time"
   ]
  },
  {
   "cell_type": "markdown",
   "id": "81c4e05b-d1db-4a66-a8ee-207864f6349d",
   "metadata": {},
   "source": [
    "### Logistic regresion"
   ]
  },
  {
   "cell_type": "code",
   "execution_count": 52,
   "id": "8cacb094-0dc7-47ab-98b3-0d8f3c6bddf6",
   "metadata": {},
   "outputs": [],
   "source": [
    "grid_param_lr = [{\"classifier\": [LogisticRegression()],\n",
    "               \"classifier__penalty\": ['l2'],\n",
    "               \"classifier__C\": np.logspace(0, 4, 10),\n",
    "               \"classifier__solver\":['newton-cg','saga','sag','liblinear'], ##This solvers don't allow L1 penalty\n",
    "               \"classifier__max_iter\":[20000]\n",
    "                }\n",
    "             ] "
   ]
  },
  {
   "cell_type": "code",
   "execution_count": 53,
   "id": "d7ad1b95-ccba-4d97-b791-a01346dea62c",
   "metadata": {},
   "outputs": [],
   "source": [
    "regresion_model, tiempo_regresion = ajustaPipeline(grid_param_lr, X_train,y_train)"
   ]
  },
  {
   "cell_type": "code",
   "execution_count": 54,
   "id": "c516e34f-d126-47fb-a168-c82603990dd7",
   "metadata": {},
   "outputs": [
    {
     "name": "stdout",
     "output_type": "stream",
     "text": [
      "====================================\n",
      "Modelo de regresion logistica\n",
      "====================================\n",
      "tiempo estimado [segundos]\n",
      "15.977553367614746\n",
      "Accuracy\n",
      "0.49852507374631266\n",
      "              precision    recall  f1-score   support\n",
      "\n",
      "      empate       0.31      0.08      0.13       154\n",
      "       local       0.49      0.78      0.60       268\n",
      "      visita       0.55      0.46      0.50       256\n",
      "\n",
      "    accuracy                           0.50       678\n",
      "   macro avg       0.45      0.44      0.41       678\n",
      "weighted avg       0.47      0.50      0.46       678\n",
      "\n"
     ]
    }
   ],
   "source": [
    "printmodelresult(\"Modelo de regresion logistica\",regresion_model,tiempo_regresion,X_test, y_test)"
   ]
  },
  {
   "cell_type": "markdown",
   "id": "d20430ac-8dee-4b46-875d-aa9414ffc614",
   "metadata": {},
   "source": [
    "### KNN"
   ]
  },
  {
   "cell_type": "code",
   "execution_count": 55,
   "id": "332d68de-6a13-453f-86dc-acec06b535be",
   "metadata": {},
   "outputs": [],
   "source": [
    "grid_param_knn = [{\"classifier\": [KNeighborsClassifier()],\n",
    "                 \"classifier__n_neighbors\": [1,3,5,7,10,15,20,25,50,100],\n",
    "                 \"classifier__weights\":['uniform','distance'],\n",
    "                 \"classifier__algorithm\":['auto','ball_tree','kd_tree']\n",
    "              }]"
   ]
  },
  {
   "cell_type": "code",
   "execution_count": 56,
   "id": "3612adf3-3bb4-4e2e-ad63-e55a50c61c31",
   "metadata": {
    "tags": []
   },
   "outputs": [],
   "source": [
    "knn_model, tiempo_knn = ajustaPipeline(grid_param_knn, X_train,y_train)"
   ]
  },
  {
   "cell_type": "code",
   "execution_count": 57,
   "id": "af0eca0e-890a-470b-8957-baeac1ad0496",
   "metadata": {},
   "outputs": [
    {
     "name": "stdout",
     "output_type": "stream",
     "text": [
      "====================================\n",
      "Modelo de Knn\n",
      "====================================\n",
      "tiempo estimado [segundos]\n",
      "9.278641700744629\n",
      "Accuracy\n",
      "0.4808259587020649\n",
      "              precision    recall  f1-score   support\n",
      "\n",
      "      empate       0.00      0.00      0.00       154\n",
      "       local       0.45      0.92      0.60       268\n",
      "      visita       0.61      0.31      0.41       256\n",
      "\n",
      "    accuracy                           0.48       678\n",
      "   macro avg       0.35      0.41      0.34       678\n",
      "weighted avg       0.41      0.48      0.39       678\n",
      "\n"
     ]
    }
   ],
   "source": [
    "printmodelresult(\"Modelo de Knn\",knn_model,tiempo_knn,X_test, y_test)"
   ]
  },
  {
   "cell_type": "markdown",
   "id": "7ee7a281-ba36-4260-94b2-0d0441daf8a3",
   "metadata": {},
   "source": [
    "### SVM"
   ]
  },
  {
   "cell_type": "code",
   "execution_count": 58,
   "id": "1d84128c-b5c4-4d87-adf4-7357171101b1",
   "metadata": {},
   "outputs": [],
   "source": [
    "grid_param_svm = [{\"classifier\": [SVC(kernel='linear', probability=True, random_state=0)],\n",
    "                 \"classifier__C\": [0.00001,0.0001,0.001,0.01,0.1,1,10],\n",
    "                 \"classifier__kernel\":['linear', 'rbf']}]"
   ]
  },
  {
   "cell_type": "code",
   "execution_count": 59,
   "id": "568dea08-5866-4601-bb86-6da39e1d57b2",
   "metadata": {},
   "outputs": [],
   "source": [
    "svm_model, tiempo_svm = ajustaPipeline(grid_param_svm, X_train,y_train)"
   ]
  },
  {
   "cell_type": "code",
   "execution_count": 60,
   "id": "a6c6977e-2ec2-405a-aa80-e455575f7f26",
   "metadata": {},
   "outputs": [
    {
     "name": "stdout",
     "output_type": "stream",
     "text": [
      "====================================\n",
      "Modelo de SVM\n",
      "====================================\n",
      "tiempo estimado [segundos]\n",
      "26.612210035324097\n",
      "Accuracy\n",
      "0.5\n",
      "              precision    recall  f1-score   support\n",
      "\n",
      "      empate       0.43      0.02      0.04       154\n",
      "       local       0.47      0.91      0.62       268\n",
      "      visita       0.61      0.36      0.45       256\n",
      "\n",
      "    accuracy                           0.50       678\n",
      "   macro avg       0.50      0.43      0.37       678\n",
      "weighted avg       0.51      0.50      0.42       678\n",
      "\n"
     ]
    }
   ],
   "source": [
    "printmodelresult(\"Modelo de SVM\",svm_model,tiempo_svm,X_test, y_test)"
   ]
  },
  {
   "cell_type": "markdown",
   "id": "5cfc720e-5f6e-4055-a903-8edc0e65ccc2",
   "metadata": {},
   "source": [
    "### Random Forest"
   ]
  },
  {
   "cell_type": "code",
   "execution_count": 61,
   "id": "181c7b85-9c34-436e-89ff-093233a5c698",
   "metadata": {},
   "outputs": [],
   "source": [
    "grid_param_rfc = [{\"classifier\": [RandomForestClassifier()],\n",
    "                 \"classifier__n_estimators\": [10, 100, 1000],\n",
    "                 \"classifier__max_depth\":[5,8,15,25,30,None],\n",
    "                 \"classifier__min_samples_leaf\":[1,2,5,10,15,100],\n",
    "                 \"classifier__max_leaf_nodes\": [2, 5,10]}]"
   ]
  },
  {
   "cell_type": "code",
   "execution_count": 62,
   "id": "a294209a-4d11-459a-acb3-d51d95c5876a",
   "metadata": {},
   "outputs": [],
   "source": [
    "random_forest_model, tiempo_random_forest = ajustaPipeline(grid_param_rfc,X_train,y_train)"
   ]
  },
  {
   "cell_type": "code",
   "execution_count": 63,
   "id": "ecdd26da-a098-429e-b3a2-2355a3052328",
   "metadata": {},
   "outputs": [
    {
     "name": "stdout",
     "output_type": "stream",
     "text": [
      "====================================\n",
      "Modelo de Random Forest\n",
      "====================================\n",
      "tiempo estimado [segundos]\n",
      "1070.971183538437\n",
      "Accuracy\n",
      "0.47640117994100295\n",
      "              precision    recall  f1-score   support\n",
      "\n",
      "      empate       0.00      0.00      0.00       154\n",
      "       local       0.45      0.94      0.61       268\n",
      "      visita       0.62      0.28      0.38       256\n",
      "\n",
      "    accuracy                           0.48       678\n",
      "   macro avg       0.36      0.41      0.33       678\n",
      "weighted avg       0.41      0.48      0.38       678\n",
      "\n"
     ]
    }
   ],
   "source": [
    "printmodelresult(\"Modelo de Random Forest\",random_forest_model,tiempo_random_forest,X_test, y_test)"
   ]
  },
  {
   "cell_type": "markdown",
   "id": "b620da6a-a25a-40ed-81d7-aa043a22dbe3",
   "metadata": {},
   "source": [
    "### Gradient Boosting"
   ]
  },
  {
   "cell_type": "code",
   "execution_count": 64,
   "id": "8ce620a0-20ef-4453-9aff-aca63ac52ef2",
   "metadata": {},
   "outputs": [],
   "source": [
    "grid_param_gbc = [{\"classifier\": [GradientBoostingClassifier(subsample=0.5)],\n",
    "                 \"classifier__n_estimators\": [50,100,150],\n",
    "                 \"classifier__learning_rate\":[0.001,0.01,0.05,0.1,0.5,1,2,3],\n",
    "                 \"classifier__max_depth\":[3,5,10]\n",
    "              }]"
   ]
  },
  {
   "cell_type": "code",
   "execution_count": 65,
   "id": "abc88009-ba97-49f4-add8-8a9baed57e56",
   "metadata": {},
   "outputs": [],
   "source": [
    "gbc_model, tiempo_gbc = ajustaPipeline(grid_param_gbc,X_train,y_train)"
   ]
  },
  {
   "cell_type": "code",
   "execution_count": 66,
   "id": "86d5b131-f986-4001-a467-622ffca97cca",
   "metadata": {},
   "outputs": [
    {
     "name": "stdout",
     "output_type": "stream",
     "text": [
      "====================================\n",
      "Modelo de Gradient Boosting\n",
      "====================================\n",
      "tiempo estimado [segundos]\n",
      "292.2509672641754\n",
      "Accuracy\n",
      "0.471976401179941\n",
      "              precision    recall  f1-score   support\n",
      "\n",
      "      empate       0.11      0.01      0.01       154\n",
      "       local       0.45      0.91      0.60       268\n",
      "      visita       0.60      0.29      0.39       256\n",
      "\n",
      "    accuracy                           0.47       678\n",
      "   macro avg       0.39      0.40      0.34       678\n",
      "weighted avg       0.43      0.47      0.39       678\n",
      "\n"
     ]
    }
   ],
   "source": [
    "printmodelresult(\"Modelo de Gradient Boosting\",gbc_model,tiempo_gbc,X_test, y_test)"
   ]
  },
  {
   "cell_type": "markdown",
   "id": "1bba4157-ba56-4a7e-abb6-607853cd897e",
   "metadata": {},
   "source": [
    "### Perceptron"
   ]
  },
  {
   "cell_type": "code",
   "execution_count": 67,
   "id": "0dbf71ba-3692-4493-894a-86b640164f73",
   "metadata": {},
   "outputs": [],
   "source": [
    "grid_param_perc = [{\"classifier\": [MLPClassifier()],\n",
    "                 \"classifier__max_iter\": [150,200,300,450],\n",
    "                 \"classifier__learning_rate\":['constant', 'invscaling', 'adaptive'],\n",
    "                 \"classifier__solver\":['lbfgs', 'sgd', 'adam']\n",
    "              }]"
   ]
  },
  {
   "cell_type": "code",
   "execution_count": null,
   "id": "1beefd54-0ea8-4329-99d2-01ce7bfff51e",
   "metadata": {},
   "outputs": [],
   "source": [
    "perc_model, tiempo_perc = ajustaPipeline(grid_param_perc,X_train,y_train)"
   ]
  },
  {
   "cell_type": "code",
   "execution_count": null,
   "id": "825911de-9842-4cf4-9b54-a617828f627e",
   "metadata": {},
   "outputs": [],
   "source": [
    "printmodelresult(\"Modelo de Perceptron\",perc_model,tiempo_perc,X_test, y_test)"
   ]
  },
  {
   "cell_type": "markdown",
   "id": "afe936cf-39b3-4c84-bf4b-64fade9a0756",
   "metadata": {},
   "source": [
    "## Selected model "
   ]
  },
  {
   "cell_type": "markdown",
   "id": "d1081860-a38f-49a2-9529-ec76c63cf085",
   "metadata": {},
   "source": [
    "According to the result based on the precision, the best performing model is SVM.  "
   ]
  },
  {
   "cell_type": "markdown",
   "id": "ece7fc1b-5f56-48b7-82d5-29a2a9ca57a8",
   "metadata": {},
   "source": [
    "### References: \n",
    "\n",
    "* [Football API.](https://www.api-football.com/)\n",
    "* [Scikit-Learn User guide.](https://scikit-learn.org/stable/user_guide.html)"
   ]
  }
 ],
 "metadata": {
  "environment": {
   "kernel": "python3",
   "name": "common-cpu.m90",
   "type": "gcloud",
   "uri": "gcr.io/deeplearning-platform-release/base-cpu:m90"
  },
  "kernelspec": {
   "display_name": "Python 3",
   "language": "python",
   "name": "python3"
  },
  "language_info": {
   "codemirror_mode": {
    "name": "ipython",
    "version": 3
   },
   "file_extension": ".py",
   "mimetype": "text/x-python",
   "name": "python",
   "nbconvert_exporter": "python",
   "pygments_lexer": "ipython3",
   "version": "3.7.12"
  }
 },
 "nbformat": 4,
 "nbformat_minor": 5
}
