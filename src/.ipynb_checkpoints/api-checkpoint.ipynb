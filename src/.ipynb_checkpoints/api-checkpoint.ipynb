{
 "cells": [
  {
   "cell_type": "code",
   "execution_count": 1,
   "id": "566f0f02",
   "metadata": {},
   "outputs": [],
   "source": [
    "import yaml\n",
    "import requests\n",
    "import pandas as pd\n",
    "import json\n",
    "import sqlalchemy\n",
    "import pg8000\n",
    "from sqlalchemy import Table, Column, Integer, String, MetaData, Date, Boolean, Float\n",
    "from sqlalchemy.sql import select, insert\n",
    "import time\n",
    "import os\n",
    "import time\n",
    "from collections import ChainMap\n"
   ]
  },
  {
   "cell_type": "code",
   "execution_count": 2,
   "id": "caeac9de",
   "metadata": {},
   "outputs": [],
   "source": [
    "\n",
    "with open('../../footballYaml.yml') as f:\n",
    "    config = yaml.load(f, Loader=yaml.FullLoader)\n",
    "football_key = config['football_key']\n",
    "db_user = config[\"db_user\"]\n",
    "db_pass = config[\"db_pass\"]\n",
    "db_name = config[\"db_name\"]\n",
    "db_host = config[\"db_host\"]"
   ]
  },
  {
   "cell_type": "markdown",
   "id": "df8bba90-8126-4e09-9c8b-c6abf4de4fde",
   "metadata": {},
   "source": [
    "# Functions\n",
    "\n",
    "### Function to get the results by seasons.\n",
    "\n",
    "* The function needs two parameters: season (yearly) and league id.\n",
    "* Premier League's id is 39."
   ]
  },
  {
   "cell_type": "code",
   "execution_count": 3,
   "id": "9227020b-d417-42f4-a88e-b8318ee0ac69",
   "metadata": {},
   "outputs": [],
   "source": [
    "# Funcion creada Nelson \n",
    "def compare_result(a,b):\n",
    "    if None not in (a, b):\n",
    "        if b > a:\n",
    "          c =\"lose\"\n",
    "        elif a == b:\n",
    "          c = \"draw\"\n",
    "        else:\n",
    "          c = \"win\"\n",
    "    else: \n",
    "        c = None\n",
    "    return c\n",
    "compare_result(2,None)"
   ]
  },
  {
   "cell_type": "code",
   "execution_count": 4,
   "id": "59efdc5f-e51c-45a7-87a1-44bc9bb0ea9c",
   "metadata": {},
   "outputs": [],
   "source": [
    "# Funcion modificada Nelson \n",
    "def season_data(year):\n",
    "    url = \"https://v3.football.api-sports.io/fixtures\"\n",
    "    querystring = {\"league\":\"39\",\"season\":year}\n",
    "    payload={}\n",
    "    headers = {\n",
    "        'x-rapidapi-key': football_key,\n",
    "        'x-rapidapi-host': 'v3.football.api-sports.io'\n",
    "    }\n",
    "    response = requests.request(\"GET\", url, headers=headers, params=querystring,  data=payload).json()\n",
    "    season_data = []\n",
    "    for row in response[\"response\"]:\n",
    "        season_data.append({\"season\":row[\"league\"][\"season\"],\n",
    "                               \"match_date\":row[\"fixture\"][\"date\"],\n",
    "                               \"match_id\":row[\"fixture\"][\"id\"],\n",
    "                               \"local_team\":row[\"teams\"][\"home\"][\"name\"],\n",
    "                                \"local_team_id\":row[\"teams\"][\"home\"][\"id\"],\n",
    "                               \"away_team\":row[\"teams\"][\"away\"][\"name\"],\n",
    "                                \"away_team_id\":row[\"teams\"][\"away\"][\"id\"],\n",
    "                               \"local_goals\":row[\"goals\"][\"home\"],\n",
    "                               \"away_goals\":row[\"goals\"][\"away\"],\n",
    "                               \"local_result\":compare_result(row[\"goals\"][\"home\"],row[\"goals\"][\"away\"])})\n",
    "    return season_data\n"
   ]
  },
  {
   "cell_type": "code",
   "execution_count": 5,
   "id": "07abaac3",
   "metadata": {},
   "outputs": [],
   "source": [
    "def season_data(year):\n",
    "    url = \"https://v3.football.api-sports.io/fixtures\"\n",
    "    querystring = {\"league\":\"39\",\"season\":year}\n",
    "    payload={}\n",
    "    headers = {\n",
    "        'x-rapidapi-key': football_key,\n",
    "        'x-rapidapi-host': 'v3.football.api-sports.io'\n",
    "    }\n",
    "    response = requests.request(\"GET\", url, headers=headers, params=querystring,  data=payload).json()\n",
    "    season_data = []\n",
    "    for row in response[\"response\"]:\n",
    "        season_data.append({\"season\":row[\"league\"][\"season\"],\n",
    "                               \"match_date\":row[\"fixture\"][\"date\"],\n",
    "                               \"match_id\":row[\"fixture\"][\"id\"],\n",
    "                               \"local_team\":row[\"teams\"][\"home\"][\"name\"],\n",
    "                                \"local_team_id\":row[\"teams\"][\"home\"][\"id\"],\n",
    "                               \"away_team\":row[\"teams\"][\"away\"][\"name\"],\n",
    "                                \"away_team_id\":row[\"teams\"][\"away\"][\"id\"],\n",
    "                               \"local_goals\":row[\"goals\"][\"home\"],\n",
    "                               \"away_goals\":row[\"goals\"][\"away\"]})\n",
    "    return season_data\n"
   ]
  },
  {
   "cell_type": "markdown",
   "id": "704a184d",
   "metadata": {},
   "source": [
    "### Function to get relevant statistic by player, team and seasons. \n",
    "\n",
    "\n",
    "* This endpoint returns a player's data and statistics available. Note that it is possible that a player has statistics for two teams in the same season. In that case the key is a combination of team id and player id\n",
    "* The statistics are calculated according to the team id, league id and season.\n",
    "* The player's id are unique in the API.\n",
    "* This endpoint uses a pagination system, you can navigate between the different pages thanks to the page parameter.\n",
    "* The season 2019 has 33 pages, season 2020 has 37 pages and season 2021 has 39 pages.\n",
    "* One request per page is allowed with the free plan "
   ]
  },
  {
   "cell_type": "code",
   "execution_count": 13,
   "id": "0cd0811c",
   "metadata": {
    "tags": []
   },
   "outputs": [],
   "source": [
    "def player_stats(year):\n",
    "    url = \"https://v3.football.api-sports.io/players\"\n",
    "    querystring = {\"league\":\"39\",\"season\":year}\n",
    "    \n",
    "    headers = {\n",
    "        'x-rapidapi-host': \"v3.football.api-sports.io\",\n",
    "        'x-rapidapi-key': football_key\n",
    "    }\n",
    "    \n",
    "    response = requests.request(\"GET\", url, headers=headers, params=querystring).json()\n",
    "    statistic_data = []\n",
    "    for row in response[\"response\"]:\n",
    "        statistic_data.append({\"season\":row[\"statistics\"][0][\"league\"][\"season\"],\n",
    "                               \"player_id\":row[\"player\"][\"id\"],\n",
    "                               \"player_name\":row[\"player\"][\"name\"],\n",
    "                               \"age\":row[\"player\"][\"age\"],\n",
    "                               \"height\":row[\"player\"][\"height\"],\n",
    "                               \"weight\":row[\"player\"][\"weight\"],\n",
    "                               \"injured\":row[\"player\"][\"injured\"],\n",
    "                               \"team_id\":row[\"statistics\"][0][\"team\"][\"id\"],\n",
    "                               \"appearences\":row[\"statistics\"][0][\"games\"][\"appearences\"],\n",
    "                               \"minutes\":row[\"statistics\"][0][\"games\"][\"minutes\"],\n",
    "                               \"position\":row[\"statistics\"][0][\"games\"][\"position\"],\n",
    "                               \"rating\":row[\"statistics\"][0][\"games\"][\"rating\"],\n",
    "                               \"shots\":row[\"statistics\"][0][\"shots\"][\"total\"],\n",
    "                               \"goals\":row[\"statistics\"][0][\"goals\"][\"total\"],\n",
    "                               \"assists\":row[\"statistics\"][0][\"goals\"][\"assists\"],\n",
    "                               \"passes_accuracy\":row[\"statistics\"][0][\"passes\"][\"accuracy\"],\n",
    "                               \"total_duels\":row[\"statistics\"][0][\"duels\"][\"total\"],\n",
    "                               \"won_duels\":row[\"statistics\"][0][\"duels\"][\"won\"]\n",
    "                              })\n",
    "        \n",
    "    return statistic_data"
   ]
  },
  {
   "cell_type": "code",
   "execution_count": 7,
   "id": "9ae34745-de9f-4a49-8c53-2c69891fb083",
   "metadata": {
    "tags": []
   },
   "outputs": [],
   "source": [
    "def floatsy(string):\n",
    "    if string=='–' or isinstance(string, type(None)):\n",
    "       return 5\n",
    "    else:\n",
    "       return float(string)"
   ]
  },
  {
   "cell_type": "code",
   "execution_count": 8,
   "id": "3ed51906-2541-46b4-885a-d3e88590489a",
   "metadata": {
    "tags": []
   },
   "outputs": [],
   "source": [
    "def statistics(match_id):\n",
    "    url = \"https://v3.football.api-sports.io/fixtures/players\"\n",
    "\n",
    "    querystring = {\"fixture\":match_id}\n",
    "    payload={}\n",
    "\n",
    "    headers = {\n",
    "                'x-rapidapi-host': 'v3.football.api-sports.io',\n",
    "                'x-rapidapi-key': football_key\n",
    "                }\n",
    "    \n",
    "    response = requests.request(\"GET\", url, headers=headers, params=querystring,  data=payload).json()\n",
    "    local_players_data=[]\n",
    "    \n",
    "    row = response[\"response\"][0]\n",
    "\n",
    "    local_players_data.append({\"match_id\":response[\"parameters\"][\"fixture\"],\n",
    "                                 \"team_id\":row[\"team\"][\"id\"],\n",
    "                                    \"local_player_0_id\":row[\"players\"][0][\"player\"][\"id\"],\n",
    "                                    \"local_player_0_rating\":floatsy(row[\"players\"][0][\"statistics\"][0][\"games\"][\"rating\"]),\n",
    "                                    \"local_player_1_id\":row[\"players\"][1][\"player\"][\"id\"],\n",
    "                                    \"local_player_1_rating\":floatsy(row[\"players\"][1][\"statistics\"][0][\"games\"][\"rating\"]),\n",
    "                                    \"local_player_2_id\":row[\"players\"][2][\"player\"][\"id\"],\n",
    "                                    \"local_player_2_rating\":floatsy(row[\"players\"][2][\"statistics\"][0][\"games\"][\"rating\"]),\n",
    "                                    \"local_player_3_id\":row[\"players\"][3][\"player\"][\"id\"],\n",
    "                                    \"local_player_3_rating\":floatsy(row[\"players\"][3][\"statistics\"][0][\"games\"][\"rating\"]),\n",
    "                                    \"local_player_4_id\":row[\"players\"][4][\"player\"][\"id\"],\n",
    "                                    \"local_player_4_rating\":floatsy(row[\"players\"][4][\"statistics\"][0][\"games\"][\"rating\"]),\n",
    "                                    \"local_player_5_id\":row[\"players\"][5][\"player\"][\"id\"],\n",
    "                                    \"local_player_5_rating\":floatsy(row[\"players\"][5][\"statistics\"][0][\"games\"][\"rating\"]),\n",
    "                                    \"local_player_6_id\":row[\"players\"][6][\"player\"][\"id\"],\n",
    "                                    \"local_player_6_rating\":floatsy(row[\"players\"][6][\"statistics\"][0][\"games\"][\"rating\"]),\n",
    "                                    \"local_player_7_id\":row[\"players\"][7][\"player\"][\"id\"],\n",
    "                                    \"local_player_7_rating\":floatsy(row[\"players\"][7][\"statistics\"][0][\"games\"][\"rating\"]),\n",
    "                                    \"local_player_8_id\":row[\"players\"][8][\"player\"][\"id\"],\n",
    "                                    \"local_player_8_rating\":floatsy(row[\"players\"][8][\"statistics\"][0][\"games\"][\"rating\"]),\n",
    "                                    \"local_player_9_id\":row[\"players\"][9][\"player\"][\"id\"],\n",
    "                                    \"local_player_9_rating\":floatsy(row[\"players\"][9][\"statistics\"][0][\"games\"][\"rating\"]),\n",
    "                                    \"local_player_10_id\":row[\"players\"][10][\"player\"][\"id\"],\n",
    "                                    \"local_player_10_rating\":floatsy(row[\"players\"][10][\"statistics\"][0][\"games\"][\"rating\"])})\n",
    "    \n",
    "    away_players_data=[]\n",
    "    row = response[\"response\"][1]\n",
    "\n",
    "    away_players_data.append({\"match_id\":response[\"parameters\"][\"fixture\"],\n",
    "                                 \"team_id\":row[\"team\"][\"id\"],\n",
    "                                    \"away_player_0_id\":row[\"players\"][0][\"player\"][\"id\"],\n",
    "                                    \"away_player_0_rating\":floatsy(row[\"players\"][0][\"statistics\"][0][\"games\"][\"rating\"]),\n",
    "                                    \"away_player_1_id\":row[\"players\"][1][\"player\"][\"id\"],\n",
    "                                    \"away_player_1_rating\":floatsy(row[\"players\"][1][\"statistics\"][0][\"games\"][\"rating\"]),\n",
    "                                    \"away_player_2_id\":row[\"players\"][2][\"player\"][\"id\"],\n",
    "                                    \"away_player_2_rating\":floatsy(row[\"players\"][2][\"statistics\"][0][\"games\"][\"rating\"]),\n",
    "                                    \"away_player_3_id\":row[\"players\"][3][\"player\"][\"id\"],\n",
    "                                    \"away_player_3_rating\":floatsy(row[\"players\"][3][\"statistics\"][0][\"games\"][\"rating\"]),\n",
    "                                    \"away_player_4_id\":row[\"players\"][4][\"player\"][\"id\"],\n",
    "                                    \"away_player_4_rating\":floatsy(row[\"players\"][4][\"statistics\"][0][\"games\"][\"rating\"]),\n",
    "                                    \"away_player_5_id\":row[\"players\"][5][\"player\"][\"id\"],\n",
    "                                    \"away_player_5_rating\":floatsy(row[\"players\"][5][\"statistics\"][0][\"games\"][\"rating\"]),\n",
    "                                    \"away_player_6_id\":row[\"players\"][6][\"player\"][\"id\"],\n",
    "                                    \"away_player_6_rating\":floatsy(row[\"players\"][6][\"statistics\"][0][\"games\"][\"rating\"]),\n",
    "                                    \"away_player_7_id\":row[\"players\"][7][\"player\"][\"id\"],\n",
    "                                    \"away_player_7_rating\":floatsy(row[\"players\"][7][\"statistics\"][0][\"games\"][\"rating\"]),\n",
    "                                    \"away_player_8_id\":row[\"players\"][8][\"player\"][\"id\"],\n",
    "                                    \"away_player_8_rating\":floatsy(row[\"players\"][8][\"statistics\"][0][\"games\"][\"rating\"]),\n",
    "                                    \"away_player_9_id\":row[\"players\"][9][\"player\"][\"id\"],\n",
    "                                    \"away_player_9_rating\":floatsy(row[\"players\"][9][\"statistics\"][0][\"games\"][\"rating\"]),\n",
    "                                    \"away_player_10_id\":row[\"players\"][10][\"player\"][\"id\"],\n",
    "                                    \"away_player_10_rating\":floatsy(row[\"players\"][10][\"statistics\"][0][\"games\"][\"rating\"])})\n",
    "    \n",
    "    \n",
    "    return local_players_data,away_players_data\n",
    "    "
   ]
  },
  {
   "cell_type": "markdown",
   "id": "843e3d5d",
   "metadata": {},
   "source": [
    "# Request to get information"
   ]
  },
  {
   "cell_type": "markdown",
   "id": "ecc2161d",
   "metadata": {},
   "source": [
    "We use the next code to get the information for the last 3 season of the Premier League"
   ]
  },
  {
   "cell_type": "code",
   "execution_count": 9,
   "id": "fefc238d",
   "metadata": {
    "tags": []
   },
   "outputs": [],
   "source": [
    "seasons =[2016,2017,2018,2019, 2020]\n",
    "all_season_data = {}\n",
    "\n",
    "\n",
    "for year in seasons:\n",
    "    all_season_data[year]= season_data(year)"
   ]
  },
  {
   "cell_type": "code",
   "execution_count": 14,
   "id": "c5320dbc-fc32-428d-b788-43562e28b5af",
   "metadata": {
    "tags": []
   },
   "outputs": [],
   "source": [
    "seasons =[2016,2017,2018,2019, 2020]\n",
    "players_data = {}\n",
    "\n",
    "\n",
    "for year in seasons:\n",
    "    players_data[year]= player_stats(year)"
   ]
  },
  {
   "cell_type": "code",
   "execution_count": 10,
   "id": "87639afd-63c3-41ed-a0c2-b52e0d0f90c3",
   "metadata": {
    "tags": []
   },
   "outputs": [],
   "source": [
    "\n",
    "local = []\n",
    "away = []\n",
    "for year in seasons:\n",
    "    matches=[]\n",
    "    for match in range(0,len(all_season_data[year])):\n",
    "        matches.append(all_season_data[year][match][\"match_id\"])\n",
    "     \n",
    "    i=0\n",
    "    for match in matches:\n",
    "        loc, aw = statistics(match)       \n",
    "        local.append({match:loc})\n",
    "        away.append({match:aw})\n",
    "        # 300 requests per minute so we need to stop it every once in a while\n",
    "        i+=1\n",
    "        if (i % 298 == 0):\n",
    "            time.sleep(61)\n",
    "            \n",
    "with open(\"local\", \"w\") as fp:\n",
    "     json.dump(local, fp)\n",
    "        \n",
    "with open(\"away\", \"w\") as fp:\n",
    "     json.dump(away, fp)\n",
    "\n",
    "        "
   ]
  },
  {
   "cell_type": "markdown",
   "id": "8a3119de",
   "metadata": {},
   "source": [
    "# Set up data base\n",
    "\n",
    "As we specify on the readme the idea is to use a postgres data base to manage and upload the data. So, we create a postreges instance on GCP and define the conextion as follow:"
   ]
  },
  {
   "cell_type": "code",
   "execution_count": 39,
   "id": "c790a7b9",
   "metadata": {},
   "outputs": [],
   "source": [
    "host_args = db_host.split(\":\")\n",
    "if len(host_args) == 1:\n",
    "    db_hostname = db_host\n",
    "    db_port = 5432\n",
    "elif len(host_args) == 2:\n",
    "    db_hostname, db_port = host_args[0], int(host_args[1])\n",
    "\n",
    "conn = sqlalchemy.create_engine(\n",
    "    # Equivalent URL:\n",
    "    # postgresql+pg8000://<db_user>:<db_pass>@<db_host>:<db_port>/<db_name>\n",
    "    sqlalchemy.engine.url.URL.create(\n",
    "        drivername=\"postgresql+pg8000\",\n",
    "        username=db_user,  # e.g. \"my-database-user\"\n",
    "        password=db_pass,  # e.g. \"my-database-password\"\n",
    "        host=db_hostname,  # e.g. \"127.0.0.1\"\n",
    "        port=db_port,  # e.g. 5432\n",
    "        database=db_name  # e.g. \"my-database-name\"\n",
    "    )\n",
    ")"
   ]
  },
  {
   "cell_type": "markdown",
   "id": "8b297689",
   "metadata": {},
   "source": [
    "**Test the connection**"
   ]
  },
  {
   "cell_type": "code",
   "execution_count": 40,
   "id": "dff698b8-5272-4940-869b-225a760fffbd",
   "metadata": {
    "tags": []
   },
   "outputs": [
    {
     "data": {
      "text/plain": [
       "<sqlalchemy.engine.base.Connection at 0x7fa9bc68a5d0>"
      ]
     },
     "execution_count": 40,
     "metadata": {},
     "output_type": "execute_result"
    }
   ],
   "source": [
    "conn.connect()"
   ]
  },
  {
   "cell_type": "markdown",
   "id": "1469ef34-26ad-489d-a614-5bbd0f980760",
   "metadata": {},
   "source": [
    "Define function to insert table on GCP"
   ]
  },
  {
   "cell_type": "code",
   "execution_count": 41,
   "id": "5ea4ed19-f228-44ce-b504-371b74357ef1",
   "metadata": {
    "tags": []
   },
   "outputs": [],
   "source": [
    "def insert_data(conn, table, data):\n",
    " ins = table.insert()\n",
    " conn.execute(ins, data)"
   ]
  },
  {
   "cell_type": "markdown",
   "id": "a9ac39e2-7b21-468f-baa8-668d74e7fb58",
   "metadata": {},
   "source": [
    "We create two tables _match_ table and _statistic_ table."
   ]
  },
  {
   "cell_type": "code",
   "execution_count": 42,
   "id": "60b41295-2805-4941-9ba1-cfde908325b5",
   "metadata": {},
   "outputs": [],
   "source": [
    "meta = MetaData()"
   ]
  },
  {
   "cell_type": "code",
   "execution_count": 43,
   "id": "b2f60258-730e-496c-9cbd-7cb5fedf3f1a",
   "metadata": {
    "tags": []
   },
   "outputs": [],
   "source": [
    "match = Table(\n",
    "    'match', meta, \n",
    "    Column('season', Integer), \n",
    "    Column('match_date', Date),\n",
    "    Column('match_id', Integer, primary_key = True), \n",
    "    Column('local_team', String),\n",
    "    Column('local_team_id', Integer),\n",
    "    Column('away_team', String),\n",
    "    Column('away_team_id', Integer),\n",
    "    Column('local_goals', Integer),\n",
    "    Column('away_goals', Integer),\n",
    "    Column('local_result', String)\n",
    ")"
   ]
  },
  {
   "cell_type": "code",
   "execution_count": 44,
   "id": "ac34f06a-592a-41eb-8d60-d439801bb2bf",
   "metadata": {
    "tags": []
   },
   "outputs": [],
   "source": [
    "# Nelson \n",
    "match2 = Table(\n",
    "    'match2', meta, \n",
    "    Column('season', Integer), \n",
    "    Column('match_date', Date),\n",
    "    Column('match_id', Integer, primary_key = True), \n",
    "    Column('local_team', String),\n",
    "    Column('local_team_id', Integer),\n",
    "    Column('away_team', String),\n",
    "    Column('away_team_id', Integer),\n",
    "    Column('local_goals', Integer),\n",
    "    Column('away_goals', Integer),\n",
    "    Column('local_result', String)\n",
    ")"
   ]
  },
  {
   "cell_type": "code",
   "execution_count": 45,
   "id": "93ea1642-0ad0-491f-b31d-6cdc1debc8ec",
   "metadata": {},
   "outputs": [],
   "source": [
    "statistics = Table(\n",
    "    'statistics', meta, \n",
    "    Column('season', Integer, primary_key = True), \n",
    "    Column('player_id', Integer, primary_key = True),\n",
    "    Column('player_name', String),\n",
    "    Column('age', Integer),\n",
    "    Column('injured', Boolean, nullable=True),\n",
    "    Column('team_id', Integer),\n",
    "    Column('appearences', Integer, nullable=True),\n",
    "    Column('minutes', Integer, nullable=True),\n",
    "    Column('position', String, nullable=True),\n",
    "    Column('rating', Float, nullable=True),\n",
    "    Column('shots', Integer, nullable=True),\n",
    "    Column('goals', Integer, nullable=True),\n",
    "    Column('assists', Integer, nullable=True),\n",
    "    Column('passes_accuracy', Float, nullable=True),\n",
    "    Column('total_duels', Integer, nullable=True),\n",
    "    Column('won_duels', Integer, nullable=True) \n",
    ")"
   ]
  },
  {
   "cell_type": "code",
   "execution_count": 46,
   "id": "2ea0f43a-2aa4-44da-ad26-9724c64e4d46",
   "metadata": {
    "tags": []
   },
   "outputs": [],
   "source": [
    "#import json\n",
    "\n",
    "#local = json.loads(open(\"local\",\"r\").read())\n",
    "#away = json.loads(open(\"away\",\"r\").read())"
   ]
  },
  {
   "cell_type": "code",
   "execution_count": 47,
   "id": "48f6a597-a0e5-4220-92af-ae1e56232f02",
   "metadata": {},
   "outputs": [],
   "source": [
    " \n",
    "    \n",
    "statistics_by_match_local = Table(\n",
    "    'statistics_by_match_local', meta, \n",
    "    Column('match_id', Integer, primary_key = True), \n",
    "    Column('team_id', Integer),    \n",
    "    Column('local_player_0_id', Integer), \n",
    "    Column('local_player_0_rating', Float),    \n",
    "    Column('local_player_1_id', Integer), \n",
    "    Column('local_player_1_rating', Float),    \n",
    "    Column('local_player_2_id', Integer), \n",
    "    Column('local_player_3_rating', Float),    \n",
    "    Column('local_player_4_id', Integer), \n",
    "    Column('local_player_4_rating', Float),    \n",
    "    Column('local_player_5_id', Integer), \n",
    "    Column('local_player_5_rating', Float),    \n",
    "    Column('local_player_6_id', Integer), \n",
    "    Column('local_player_6_rating', Float),    \n",
    "    Column('local_player_7_id', Integer), \n",
    "    Column('local_player_7_rating', Float),    \n",
    "    Column('local_player_8_id', Integer), \n",
    "    Column('local_player_8_rating', Float),    \n",
    "    Column('local_player_9_id', Integer), \n",
    "    Column('local_player_9_rating', Float),    \n",
    "    Column('local_player_10_id', Integer), \n",
    "    Column('local_player_10_rating', Float),    \n",
    ")\n",
    "\n",
    "\n",
    "statistics_by_match_away = Table(\n",
    "    'statistics_by_match_away', meta, \n",
    "    Column('match_id', Integer, primary_key = True), \n",
    "    Column('team_id', Integer),    \n",
    "    Column('away_player_0_id', Integer), \n",
    "    Column('away_player_0_rating', Float),    \n",
    "    Column('away_player_1_id', Integer), \n",
    "    Column('away_player_1_rating', Float),    \n",
    "    Column('away_player_2_id', Integer), \n",
    "    Column('away_player_3_rating', Float),    \n",
    "    Column('away_player_4_id', Integer), \n",
    "    Column('away_player_4_rating', Float),    \n",
    "    Column('away_player_5_id', Integer), \n",
    "    Column('away_player_5_rating', Float),    \n",
    "    Column('away_player_6_id', Integer), \n",
    "    Column('away_player_6_rating', Float),    \n",
    "    Column('away_player_7_id', Integer), \n",
    "    Column('away_player_7_rating', Float),    \n",
    "    Column('away_player_8_id', Integer), \n",
    "    Column('away_player_8_rating', Float),    \n",
    "    Column('away_player_9_id', Integer), \n",
    "    Column('away_player_9_rating', Float),    \n",
    "    Column('away_player_10_id', Integer), \n",
    "    Column('away_player_10_rating', Float),    \n",
    ")\n"
   ]
  },
  {
   "cell_type": "code",
   "execution_count": 48,
   "id": "c9efad82-b25b-4e6a-b0d8-19737487f149",
   "metadata": {},
   "outputs": [],
   "source": [
    "meta.drop_all(conn)"
   ]
  },
  {
   "cell_type": "code",
   "execution_count": 49,
   "id": "3521b8c8-3028-4313-9b59-3541406f160a",
   "metadata": {},
   "outputs": [],
   "source": [
    "meta.create_all(conn)"
   ]
  },
  {
   "cell_type": "code",
   "execution_count": 50,
   "id": "d8a0fb3b-3b39-4e86-ba1d-11bd91835ecc",
   "metadata": {
    "tags": []
   },
   "outputs": [],
   "source": [
    "#Insert match data\n",
    "for season in all_season_data:\n",
    "    insert_data(conn,match2,all_season_data[season])"
   ]
  },
  {
   "cell_type": "code",
   "execution_count": 51,
   "id": "26cc8341-b12b-48cc-9351-6d73f3688922",
   "metadata": {
    "tags": []
   },
   "outputs": [],
   "source": [
    "#Insert players data\n",
    "for season in all_season_data:\n",
    "    insert_data(conn,statistics,players_data[season])"
   ]
  },
  {
   "cell_type": "code",
   "execution_count": 52,
   "id": "7c96bffb-a054-4990-b6f5-400b803e9ee5",
   "metadata": {
    "tags": []
   },
   "outputs": [],
   "source": [
    "\n",
    "\n",
    "#Insert ratings data\n",
    "for year in seasons:\n",
    "    matches=[]\n",
    "    for match in range(0,len(all_season_data[year])):\n",
    "        matches.append(all_season_data[year][match][\"match_id\"])\n",
    "     \n",
    "    for match in matches:\n",
    "        auxLocal = ChainMap(*local)[match]\n",
    "        auxAway = ChainMap(*away)[match]\n",
    "\n",
    "        insert_data(conn, statistics_by_match_local,auxLocal[0])\n",
    "        insert_data(conn, statistics_by_match_away,auxAway[0])\n"
   ]
  },
  {
   "cell_type": "markdown",
   "id": "f8235402-ceae-4642-a431-cdbfa4ed523a",
   "metadata": {
    "tags": []
   },
   "source": [
    "## Documentation\n",
    "* <https://cloud.google.com/sdk/gcloud/reference/sql/connect>\n",
    "* <https://docs.sqlalchemy.org/en/14/core/tutorial.html#deletes>\n",
    "* <https://cloud.google.com/sql/docs/postgres/connect-app-engine-standard#private-ip_1>\n",
    "* https://docs.sqlalchemy.org/en/14/core/metadata.html"
   ]
  }
 ],
 "metadata": {
  "environment": {
   "kernel": "python3",
   "name": "common-cpu.m90",
   "type": "gcloud",
   "uri": "gcr.io/deeplearning-platform-release/base-cpu:m90"
  },
  "kernelspec": {
   "display_name": "Python 3",
   "language": "python",
   "name": "python3"
  },
  "language_info": {
   "codemirror_mode": {
    "name": "ipython",
    "version": 3
   },
   "file_extension": ".py",
   "mimetype": "text/x-python",
   "name": "python",
   "nbconvert_exporter": "python",
   "pygments_lexer": "ipython3",
   "version": "3.7.12"
  }
 },
 "nbformat": 4,
 "nbformat_minor": 5
}
