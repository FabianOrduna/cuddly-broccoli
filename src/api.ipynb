{
 "cells": [
  {
   "cell_type": "code",
   "execution_count": null,
   "metadata": {},
   "outputs": [],
   "source": [
    "import yaml\n",
    "import requests\n",
    "import pandas as pd\n",
    "import json\n",
    "import sqlalchemy\n",
    "import pg8000\n",
    "import pymysql \n",
    "from sqlalchemy import Table, Column, Integer, String, MetaData, Date\n",
    "from sqlalchemy.sql import select, insert"
   ]
  },
  {
   "cell_type": "code",
   "execution_count": null,
   "metadata": {},
   "outputs": [],
   "source": [
    "with open('footballYaml.yaml') as f:\n",
    "    config = yaml.load(f, Loader=yaml.FullLoader)\n",
    "football_key = config['football_key']\n",
    "db_user = config[\"db_user\"]\n",
    "db_pass = config[\"db_pass\"]\n",
    "db_name = config[\"db_name\"]\n",
    "db_host = config[\"db_host\"]"
   ]
  },
  {
   "cell_type": "markdown",
   "metadata": {},
   "source": [
    "# Functions\n",
    "\n",
    "### Function to get the results by seasons.\n",
    "\n",
    "For this function we need to consider:\n",
    "\n",
    "* The function need two parameters season that refers the year of we want to get the information and league_id.\n",
    "* The premier league has the id 39.\n",
    "* One request by year. "
   ]
  },
  {
   "cell_type": "code",
   "execution_count": null,
   "metadata": {},
   "outputs": [],
   "source": [
    "def season_data(year):\n",
    "    url = \"https://v3.football.api-sports.io/fixtures\"\n",
    "    querystring = {\"league\":\"39\",\"season\":year}\n",
    "    payload={}\n",
    "    headers = {\n",
    "        'x-rapidapi-key': football_key,\n",
    "        'x-rapidapi-host': 'v3.football.api-sports.io'\n",
    "    }\n",
    "    response = requests.request(\"GET\", url, headers=headers, params=querystring,  data=payload).json()\n",
    "    season_data = []\n",
    "    for row in response[\"response\"]:\n",
    "        season_data.append({\"season\":row[\"league\"][\"season\"],\n",
    "                               \"match_date\":row[\"fixture\"][\"date\"],\n",
    "                               \"match_id\":row[\"fixture\"][\"id\"],\n",
    "                               \"local_team\":row[\"teams\"][\"home\"][\"name\"],\n",
    "                                \"local_team_id\":row[\"teams\"][\"home\"][\"id\"],\n",
    "                               \"away_team\":row[\"teams\"][\"away\"][\"name\"],\n",
    "                                \"away_team_id\":row[\"teams\"][\"away\"][\"id\"],\n",
    "                               \"local_goals\":row[\"goals\"][\"home\"],\n",
    "                               \"away_goals\":row[\"goals\"][\"away\"]})\n",
    "    return season_data\n"
   ]
  },
  {
   "cell_type": "markdown",
   "metadata": {},
   "source": [
    "### Function to get relevant statistic by player, team and seasons. \n",
    "\n",
    "Get players statistics. In order to get the information we need to consider:\n",
    "\n",
    "* This endpoint returns the players for whom the profile and statistics data are available. Note that it is possible that a player has statistics for 2 teams in the same season in case of transfers. In that case the key is team_id and player_id\n",
    "* The statistics are calculated according to the team id, league id and season.\n",
    "* The players id are unique in the API.\n",
    "* This endpoint uses a pagination system, you can navigate between the different pages thanks to the page parameter.\n",
    "* The season 2019 has 33 pages, season 2020 has 37 pages and season 2021 has 39 pages.\n",
    "* One request per page, each of one has 20 different player's statistics. "
   ]
  },
  {
   "cell_type": "code",
   "execution_count": null,
   "metadata": {},
   "outputs": [],
   "source": [
    "def statistics(year, page):\n",
    "    url = \"https://v3.football.api-sports.io/players\"\n",
    "    querystring = {\"league\":\"39\",\"season\":year, \"page\":page}\n",
    "    \n",
    "    headers = {\n",
    "        'x-rapidapi-host': \"v3.football.api-sports.io\",\n",
    "        'x-rapidapi-key': football_key\n",
    "    }\n",
    "    \n",
    "    response = requests.request(\"GET\", url, headers=headers, params=querystring).json()\n",
    "    statistic_data = []\n",
    "    for row in response[\"response\"]:\n",
    "        statistic_data.append({\"page\":response['paging'][\"current\"],\n",
    "                               \"season\":row[\"statistics\"][0][\"league\"][\"season\"],\n",
    "                               \"player_id\":row[\"player\"][\"id\"],\n",
    "                               \"player_name\":row[\"player\"][\"name\"],\n",
    "                               \"age\":row[\"player\"][\"age\"],\n",
    "                               \"height\":row[\"player\"][\"height\"],\n",
    "                               \"weight\":row[\"player\"][\"weight\"],\n",
    "                               \"injured\":row[\"player\"][\"injured\"],\n",
    "                               \"team_id\":row[\"statistics\"][0][\"team\"][\"id\"],\n",
    "                               \"appearences\":row[\"statistics\"][0][\"games\"][\"appearences\"],\n",
    "                               \"minutes\":row[\"statistics\"][0][\"games\"][\"minutes\"],\n",
    "                               \"position\":row[\"statistics\"][0][\"games\"][\"position\"],\n",
    "                               \"rating\":row[\"statistics\"][0][\"games\"][\"rating\"],\n",
    "                               \"shots\":row[\"statistics\"][0][\"shots\"][\"total\"],\n",
    "                               \"goals\":row[\"statistics\"][0][\"goals\"][\"total\"],\n",
    "                               \"assists\":row[\"statistics\"][0][\"goals\"][\"assists\"],\n",
    "                               \"passes_accuracy\":row[\"statistics\"][0][\"passes\"][\"accuracy\"],\n",
    "                               \"total_duels\":row[\"statistics\"][0][\"duels\"][\"total\"],\n",
    "                               \"won_duels\":row[\"statistics\"][0][\"duels\"][\"won\"]\n",
    "                              })\n",
    "        \n",
    "    return statistic_data"
   ]
  },
  {
   "cell_type": "markdown",
   "metadata": {},
   "source": [
    "# Request to get information"
   ]
  },
  {
   "cell_type": "markdown",
   "metadata": {},
   "source": [
    "We use the next code to get the information for the last 3 season on the premier league"
   ]
  },
  {
   "cell_type": "code",
   "execution_count": null,
   "metadata": {
    "tags": []
   },
   "outputs": [],
   "source": [
    "seasons =[2019, 2020, 2021]\n",
    "all_season_data = {}\n",
    "\n",
    "\n",
    "for year in seasons:\n",
    "    all_season_data[year]= season_data(year)"
   ]
  },
  {
   "cell_type": "markdown",
   "metadata": {},
   "source": [
    "**Statistics for 2019**"
   ]
  },
  {
   "cell_type": "code",
   "execution_count": null,
   "metadata": {},
   "outputs": [],
   "source": [
    "#season 2019. Fisrt 3 request pages for season 2019\n",
    "statistic_2019 = []\n",
    "for page in range(1,4):\n",
    "    data = []\n",
    "    data = statistics(2019, page)\n",
    "    statistic_2019 = statistic_2019 + data\n",
    "    print(page)"
   ]
  },
  {
   "cell_type": "code",
   "execution_count": null,
   "metadata": {},
   "outputs": [],
   "source": [
    "#Next 30 request peages for season 2019\n",
    "for page in range(4,34):\n",
    "    data = []\n",
    "    data = statistics(2019, page)\n",
    "    statistic_2019 = statistic_2019 + data\n",
    "    print(page)"
   ]
  },
  {
   "cell_type": "markdown",
   "metadata": {},
   "source": [
    "**Statistics for 2020**"
   ]
  },
  {
   "cell_type": "code",
   "execution_count": null,
   "metadata": {},
   "outputs": [],
   "source": [
    "#Season 2020. Fisrt 7 request pages for season 2020\n",
    "statistic_2020 = []\n",
    "for page in range(1,8):\n",
    "    data = []\n",
    "    data = statistics(2020, page)\n",
    "    statistic_2020 = statistic_2020 + data\n",
    "    print(page)"
   ]
  },
  {
   "cell_type": "code",
   "execution_count": null,
   "metadata": {},
   "outputs": [],
   "source": [
    "#Next 30 request peages for season 2020\n",
    "for page in range(7,38):\n",
    "    data = []\n",
    "    data = statistics(2020, page)\n",
    "    statistic_2020 = statistic_2020 + data\n",
    "    print(page)"
   ]
  },
  {
   "cell_type": "markdown",
   "metadata": {},
   "source": [
    "**Statistics for 2021**"
   ]
  },
  {
   "cell_type": "code",
   "execution_count": null,
   "metadata": {},
   "outputs": [],
   "source": [
    "#Season 2021. Fisrt 9 request pages for season 2021\n",
    "statistic_2020 = []\n",
    "for page in range(1,10):\n",
    "    data = []\n",
    "    data = statistics(2021, page)\n",
    "    statistic_2021 = statistic_2021 + data\n",
    "    print(page)"
   ]
  },
  {
   "cell_type": "code",
   "execution_count": null,
   "metadata": {},
   "outputs": [],
   "source": [
    "#Next 30 request peages for season 2021\n",
    "for page in range(9,40):\n",
    "    data = []\n",
    "    data = statistics(2021, page)\n",
    "    statistic_2021 = statistic_2021 + data\n",
    "    print(page)"
   ]
  },
  {
   "cell_type": "code",
   "execution_count": null,
   "metadata": {},
   "outputs": [],
   "source": [
    "total_statistics = statistic_2019 + statistic_2020 + statistic_2021"
   ]
  },
  {
   "cell_type": "markdown",
   "metadata": {},
   "source": [
    "# Set up data base\n",
    "\n",
    "As we specify on the readme the idea is to usea a postgres data base to manage and upload the data. So, we create a postreges instance on GCP and define the conextion as follow:"
   ]
  },
  {
   "cell_type": "code",
   "execution_count": null,
   "metadata": {},
   "outputs": [],
   "source": [
    "host_args = db_host.split(\":\")\n",
    "if len(host_args) == 1:\n",
    "    db_hostname = db_host\n",
    "    db_port = 5432\n",
    "elif len(host_args) == 2:\n",
    "    db_hostname, db_port = host_args[0], int(host_args[1])\n",
    "\n",
    "conn = sqlalchemy.create_engine(\n",
    "    # Equivalent URL:\n",
    "    # postgresql+pg8000://<db_user>:<db_pass>@<db_host>:<db_port>/<db_name>\n",
    "    sqlalchemy.engine.url.URL.create(\n",
    "        drivername=\"postgresql+pg8000\",\n",
    "        username=db_user,  # e.g. \"my-database-user\"\n",
    "        password=db_pass,  # e.g. \"my-database-password\"\n",
    "        host=db_hostname,  # e.g. \"127.0.0.1\"\n",
    "        port=db_port,  # e.g. 5432\n",
    "        database=db_name  # e.g. \"my-database-name\"\n",
    "    )\n",
    ")"
   ]
  },
  {
   "cell_type": "markdown",
   "metadata": {},
   "source": [
    "**Test the connection**"
   ]
  },
  {
   "cell_type": "code",
   "execution_count": null,
   "metadata": {},
   "outputs": [],
   "source": [
    "conn.connect()"
   ]
  },
  {
   "cell_type": "markdown",
   "metadata": {},
   "source": [
    "We create two tables. _match_ table and _statistic_ table."
   ]
  },
  {
   "cell_type": "code",
   "execution_count": null,
   "metadata": {},
   "outputs": [],
   "source": [
    "meta = MetaData()\n",
    "\n",
    "match = Table(\n",
    "    'match', meta, \n",
    "    Column('id', Integer, primary_key = True), \n",
    "    Column('season', Integer), \n",
    "    Column('match_date', Date),\n",
    "    Column('local_team', String),\n",
    "    Column('away_team', String),\n",
    "    Column('local_goals', Integer),\n",
    "    Column('away_goals', Integer)\n",
    ")"
   ]
  },
  {
   "cell_type": "code",
   "execution_count": null,
   "metadata": {},
   "outputs": [],
   "source": [
    "meta.create_all(conn)"
   ]
  },
  {
   "cell_type": "markdown",
   "metadata": {},
   "source": [
    "# Insert data to a database\n",
    "\n",
    "If we want to use the data from the database is required to insert that data into it. On this case, we created a generic function to insert the data."
   ]
  },
  {
   "cell_type": "code",
   "execution_count": null,
   "metadata": {},
   "outputs": [],
   "source": [
    "def insert_data(conn, table, data):\n",
    "    ins = table.insert()\n",
    "    conn.execute(ins, data)"
   ]
  },
  {
   "cell_type": "markdown",
   "metadata": {},
   "source": [
    "Now, with the helper function insert_data we insert all the season information into the required table"
   ]
  },
  {
   "cell_type": "code",
   "execution_count": null,
   "metadata": {},
   "outputs": [],
   "source": [
    "for season in all_season_data:\n",
    "    insert_data(conn,match,all_season_data[season])"
   ]
  },
  {
   "cell_type": "code",
   "execution_count": null,
   "metadata": {},
   "outputs": [],
   "source": [
    "s = select(match)\n",
    "result = conn.execute(s)"
   ]
  },
  {
   "cell_type": "code",
   "execution_count": null,
   "metadata": {},
   "outputs": [],
   "source": [
    "for row in result:\n",
    "    print(row)"
   ]
  },
  {
   "cell_type": "code",
   "execution_count": null,
   "metadata": {},
   "outputs": [],
   "source": [
    "match = Table(\n",
    "    'match', meta, \n",
    "    Column('id', Integer, primary_key = True), \n",
    "    Column('season', Integer), \n",
    "    Column('match_date', Date),\n",
    "    Column('local_team', String),\n",
    "    Column('away_team', String),\n",
    "    Column('local_goals', Integer),\n",
    "    Column('away_goals', Integer)\n",
    ")"
   ]
  },
  {
   "cell_type": "code",
   "execution_count": null,
   "metadata": {},
   "outputs": [],
   "source": [
    "statistic = Table()"
   ]
  },
  {
   "cell_type": "code",
   "execution_count": null,
   "metadata": {},
   "outputs": [],
   "source": []
  },
  {
   "cell_type": "code",
   "execution_count": null,
   "metadata": {},
   "outputs": [],
   "source": []
  },
  {
   "cell_type": "code",
   "execution_count": null,
   "metadata": {},
   "outputs": [],
   "source": [
    "#Referencias\n",
    "#https://cloud.google.com/sdk/gcloud/reference/sql/connect\n",
    "#https://docs.sqlalchemy.org/en/14/core/tutorial.html#deletes\n",
    "#https://cloud.google.com/sql/docs/postgres/connect-app-engine-standard#private-ip_1"
   ]
  }
 ],
 "metadata": {
  "environment": {
   "kernel": "python3",
   "name": "common-cpu.m90",
   "type": "gcloud",
   "uri": "gcr.io/deeplearning-platform-release/base-cpu:m90"
  },
  "kernelspec": {
   "display_name": "Python 3",
   "language": "python",
   "name": "python3"
  },
  "language_info": {
   "codemirror_mode": {
    "name": "ipython",
    "version": 3
   },
   "file_extension": ".py",
   "mimetype": "text/x-python",
   "name": "python",
   "nbconvert_exporter": "python",
   "pygments_lexer": "ipython3",
   "version": "3.7.4"
  }
 },
 "nbformat": 4,
 "nbformat_minor": 5
}
