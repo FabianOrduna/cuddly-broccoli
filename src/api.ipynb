{
 "cells": [
  {
   "cell_type": "code",
   "execution_count": 3,
   "metadata": {},
   "outputs": [],
   "source": [
    "import yaml\n",
    "import requests\n",
    "import pandas as pd\n",
    "import json\n",
    "import sqlalchemy\n",
    "import pg8000\n",
    "import pymysql \n",
    "from sqlalchemy import Table, Column, Integer, String, MetaData, Date\n",
    "from sqlalchemy.sql import select, insert"
   ]
  },
  {
   "cell_type": "code",
   "execution_count": 1,
   "metadata": {},
   "outputs": [],
   "source": [
    "key_file = open('footballYaml.yaml', 'r')\n",
    "football_key = yaml.safe_load(key_file)['football_key']\n",
    "db_user = yaml.safe_load(key_file)['db_user']\n",
    "db_pass = yaml.safe_load(key_file)['db_pass']\n",
    "db_name = yaml.safe_load(key_file)['db_name']\n",
    "db_host = yaml.safe_load(key_file)['db_host']\n"
   ]
  },
  {
   "cell_type": "code",
   "execution_count": 5,
   "metadata": {},
   "outputs": [],
   "source": [
    "def get_data(year):\n",
    "    url = \"https://v3.football.api-sports.io/fixtures\"\n",
    "    querystring = {\"league\":\"39\",\"season\":year}\n",
    "    payload={}\n",
    "    headers = {\n",
    "        'x-rapidapi-key': football_key,\n",
    "        'x-rapidapi-host': 'v3.football.api-sports.io'\n",
    "    }\n",
    "    response = requests.request(\"GET\", url, headers=headers, params=querystring,  data=payload).json()\n",
    "    season_data = []\n",
    "    for row in response[\"response\"]:\n",
    "        season_data.append({\"season\":row[\"league\"][\"season\"],\n",
    "                               \"match_date\":row[\"fixture\"][\"date\"],\n",
    "                               \"local_team\":row[\"teams\"][\"home\"][\"name\"],\n",
    "                               \"away_team\":row[\"teams\"][\"away\"][\"name\"],\n",
    "                               \"local_goals\":row[\"goals\"][\"home\"],\n",
    "                               \"away_goals\":row[\"goals\"][\"away\"]})\n",
    "    return season_data\n"
   ]
  },
  {
   "cell_type": "code",
   "execution_count": 6,
   "metadata": {},
   "outputs": [],
   "source": [
    "def insert_data(conn, table, data):\n",
    "    ins = table.insert()\n",
    "    conn.execute(ins, data)"
   ]
  },
  {
   "cell_type": "code",
   "execution_count": 7,
   "metadata": {},
   "outputs": [],
   "source": [
    "seasons =[2019, 2020, 2021]\n",
    "all_season_data = {}\n",
    "\n",
    "for year in seasons:\n",
    "    all_season_data[year]= get_data(year)"
   ]
  }
 ],
 "metadata": {
  "environment": {
   "kernel": "python3",
   "name": "common-cpu.m90",
   "type": "gcloud",
   "uri": "gcr.io/deeplearning-platform-release/base-cpu:m90"
  },
  "kernelspec": {
   "display_name": "Python 3",
   "language": "python",
   "name": "python3"
  },
  "language_info": {
   "codemirror_mode": {
    "name": "ipython",
    "version": 3
   },
   "file_extension": ".py",
   "mimetype": "text/x-python",
   "name": "python",
   "nbconvert_exporter": "python",
   "pygments_lexer": "ipython3",
   "version": "3.7.4"
  }
 },
 "nbformat": 4,
 "nbformat_minor": 5
}
