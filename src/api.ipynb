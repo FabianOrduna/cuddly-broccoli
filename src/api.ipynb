{
 "cells": [
  {
   "cell_type": "code",
   "execution_count": 27,
   "id": "cf3f93f0-4fec-4dfd-94de-30520e9eb223",
   "metadata": {},
   "outputs": [],
   "source": [
    "import yaml\n",
    "import requests\n",
    "import pandas as pd\n",
    "import json\n",
    "import sqlalchemy\n",
    "import pg8000\n",
    "import pymysql \n",
    "from sqlalchemy import Table, Column, Integer, String, MetaData, Date, Boolean, Float\n",
    "from sqlalchemy.sql import select, insert\n",
    "import time"
   ]
  },
  {
   "cell_type": "code",
   "execution_count": 2,
   "id": "539f0b76-31a4-4c46-9d41-fd171237f1c8",
   "metadata": {},
   "outputs": [],
   "source": [
    "with open('footballYaml.yaml') as f:\n",
    "    config = yaml.load(f, Loader=yaml.FullLoader)\n",
    "football_key = config['football_key']\n",
    "db_user = config[\"db_user\"]\n",
    "db_pass = config[\"db_pass\"]\n",
    "db_name = config[\"db_name\"]\n",
    "db_host = config[\"db_host\"]"
   ]
  },
  {
   "cell_type": "markdown",
   "id": "df8bba90-8126-4e09-9c8b-c6abf4de4fde",
   "metadata": {},
   "source": [
    "# Functions\n",
    "\n",
    "### Function to get the results by seasons.\n",
    "\n",
    "* The function needs two parameters: season (yearly) and league id.\n",
    "* Premier League's id is 39."
   ]
  },
  {
   "cell_type": "code",
   "execution_count": 3,
   "id": "e99932f0-e832-4893-8aa5-0e3c1a322328",
   "metadata": {},
   "outputs": [],
   "source": [
    "def season_data(year):\n",
    "    url = \"https://v3.football.api-sports.io/fixtures\"\n",
    "    querystring = {\"league\":\"39\",\"season\":year}\n",
    "    payload={}\n",
    "    headers = {\n",
    "        'x-rapidapi-key': football_key,\n",
    "        'x-rapidapi-host': 'v3.football.api-sports.io'\n",
    "    }\n",
    "    response = requests.request(\"GET\", url, headers=headers, params=querystring,  data=payload).json()\n",
    "    season_data = []\n",
    "    for row in response[\"response\"]:\n",
    "        season_data.append({\"season\":row[\"league\"][\"season\"],\n",
    "                               \"match_date\":row[\"fixture\"][\"date\"],\n",
    "                               \"match_id\":row[\"fixture\"][\"id\"],\n",
    "                               \"local_team\":row[\"teams\"][\"home\"][\"name\"],\n",
    "                                \"local_team_id\":row[\"teams\"][\"home\"][\"id\"],\n",
    "                               \"away_team\":row[\"teams\"][\"away\"][\"name\"],\n",
    "                                \"away_team_id\":row[\"teams\"][\"away\"][\"id\"],\n",
    "                               \"local_goals\":row[\"goals\"][\"home\"],\n",
    "                               \"away_goals\":row[\"goals\"][\"away\"]})\n",
    "    return season_data\n"
   ]
  },
  {
   "cell_type": "markdown",
   "id": "db9a8132-84b1-472f-88fe-331e9410a008",
   "metadata": {},
   "source": [
    "### Function to get relevant statistic by player, team and seasons. \n",
    "\n",
    "\n",
    "* This endpoint returns a player's data and statistics available. Note that it is possible that a player has statistics for two teams in the same season. In that case the key is a combination of team id and player id\n",
    "* The statistics are calculated according to the team id, league id and season.\n",
    "* The player's id are unique in the API.\n",
    "* This endpoint uses a pagination system, you can navigate between the different pages thanks to the page parameter.\n",
    "* The season 2019 has 33 pages, season 2020 has 37 pages and season 2021 has 39 pages.\n",
    "* One request per page is allowed with the free plan "
   ]
  },
  {
   "cell_type": "code",
   "execution_count": 51,
   "id": "ad7de531-5ffb-417a-997c-291dcc1ce18a",
   "metadata": {},
   "outputs": [],
   "source": [
    "def statistics(year, page):\n",
    "    url = \"https://v3.football.api-sports.io/players\"\n",
    "    querystring = {\"league\":\"39\",\"season\":year, \"page\":page}\n",
    "    \n",
    "    headers = {\n",
    "        'x-rapidapi-host': \"v3.football.api-sports.io\",\n",
    "        'x-rapidapi-key': football_key\n",
    "    }\n",
    "    \n",
    "    response = requests.request(\"GET\", url, headers=headers, params=querystring).json()\n",
    "    statistic_data = []\n",
    "    for row in response[\"response\"]:\n",
    "        statistic_data.append({\"page\":response['paging'][\"current\"],\n",
    "                               \"season\":row[\"statistics\"][0][\"league\"][\"season\"],\n",
    "                               \"player_id\":row[\"player\"][\"id\"],\n",
    "                               \"player_name\":row[\"player\"][\"name\"],\n",
    "                               \"age\":row[\"player\"][\"age\"],\n",
    "                               \"height\":row[\"player\"][\"height\"],\n",
    "                               \"weight\":row[\"player\"][\"weight\"],\n",
    "                               \"injured\":row[\"player\"][\"injured\"],\n",
    "                               \"team_id\":row[\"statistics\"][0][\"team\"][\"id\"],\n",
    "                               \"appearences\":row[\"statistics\"][0][\"games\"][\"appearences\"],\n",
    "                               \"minutes\":row[\"statistics\"][0][\"games\"][\"minutes\"],\n",
    "                               \"position\":row[\"statistics\"][0][\"games\"][\"position\"],\n",
    "                               \"rating\":row[\"statistics\"][0][\"games\"][\"rating\"],\n",
    "                               \"shots\":row[\"statistics\"][0][\"shots\"][\"total\"],\n",
    "                               \"goals\":row[\"statistics\"][0][\"goals\"][\"total\"],\n",
    "                               \"assists\":row[\"statistics\"][0][\"goals\"][\"assists\"],\n",
    "                               \"passes_accuracy\":row[\"statistics\"][0][\"passes\"][\"accuracy\"],\n",
    "                               \"total_duels\":row[\"statistics\"][0][\"duels\"][\"total\"],\n",
    "                               \"won_duels\":row[\"statistics\"][0][\"duels\"][\"won\"]\n",
    "                              })\n",
    "        \n",
    "    return statistic_data"
   ]
  },
  {
   "cell_type": "markdown",
   "id": "d2619cc4-d49c-444a-95ad-8e18beb93980",
   "metadata": {},
   "source": [
    "# Request to get information"
   ]
  },
  {
   "cell_type": "markdown",
   "id": "06c09b20-1467-4e54-bafa-e06488453069",
   "metadata": {},
   "source": [
    "We use the next code to get the information for the last 3 season of the Premier League"
   ]
  },
  {
   "cell_type": "code",
   "execution_count": 5,
   "id": "454f460b-588e-4336-8c95-c2452cc3a48e",
   "metadata": {
    "tags": []
   },
   "outputs": [],
   "source": [
    "seasons =[2019, 2020, 2021]\n",
    "all_season_data = {}\n",
    "\n",
    "\n",
    "for year in seasons:\n",
    "    all_season_data[year]= season_data(year)"
   ]
  },
  {
   "cell_type": "markdown",
   "id": "493b006b-70a5-41d6-af84-7414966a1001",
   "metadata": {},
   "source": [
    "**Statistics for 2019**"
   ]
  },
  {
   "cell_type": "code",
   "execution_count": 6,
   "id": "ef8c0808-9800-4728-b79b-4d797e53dd9a",
   "metadata": {},
   "outputs": [
    {
     "name": "stdout",
     "output_type": "stream",
     "text": [
      "1\n",
      "2\n",
      "3\n"
     ]
    }
   ],
   "source": [
    "#season 2019. Fisrt 3 request pages for season 2019\n",
    "statistic_2019 = []\n",
    "for page in range(1,4):\n",
    "    data = []\n",
    "    data = statistics(2019, page)\n",
    "    statistic_2019 = statistic_2019 + data\n",
    "    print(page)\n",
    "    \n",
    "time.sleep(61)"
   ]
  },
  {
   "cell_type": "code",
   "execution_count": 7,
   "id": "e970a840-ef69-4817-95b9-db095b403b57",
   "metadata": {},
   "outputs": [
    {
     "name": "stdout",
     "output_type": "stream",
     "text": [
      "4\n",
      "5\n",
      "6\n",
      "7\n",
      "8\n",
      "9\n",
      "10\n",
      "11\n",
      "12\n",
      "13\n",
      "14\n",
      "15\n",
      "16\n",
      "17\n",
      "18\n",
      "19\n",
      "20\n",
      "21\n",
      "22\n",
      "23\n",
      "24\n",
      "25\n",
      "26\n",
      "27\n",
      "28\n",
      "29\n",
      "30\n",
      "31\n",
      "32\n",
      "33\n"
     ]
    }
   ],
   "source": [
    "#Next 30 request peages for season 2019\n",
    "for page in range(4,34):\n",
    "    data = []\n",
    "    data = statistics(2019, page)\n",
    "    statistic_2019 = statistic_2019 + data\n",
    "    print(page)\n",
    "    \n",
    "time.sleep(61)"
   ]
  },
  {
   "cell_type": "markdown",
   "id": "6022c2c7-0d23-4458-a08a-a0f7f002d40c",
   "metadata": {},
   "source": [
    "**Statistics for 2020**"
   ]
  },
  {
   "cell_type": "code",
   "execution_count": 52,
   "id": "029932dd-0407-4096-90bd-50d26ea8c627",
   "metadata": {},
   "outputs": [
    {
     "name": "stdout",
     "output_type": "stream",
     "text": [
      "1\n",
      "2\n",
      "3\n",
      "4\n",
      "5\n",
      "6\n",
      "7\n"
     ]
    }
   ],
   "source": [
    "#Season 2020. Fisrt 7 request pages for season 2020\n",
    "statistic_2020 = []\n",
    "for page in range(1,8):\n",
    "    data = []\n",
    "    data = statistics(2020, page)\n",
    "    statistic_2020 = statistic_2020 + data\n",
    "    print(page)\n",
    "    \n",
    "time.sleep(61)"
   ]
  },
  {
   "cell_type": "code",
   "execution_count": 54,
   "id": "5f0196a5-daf5-4e27-a1b9-65669b669a54",
   "metadata": {},
   "outputs": [
    {
     "name": "stdout",
     "output_type": "stream",
     "text": [
      "7\n",
      "8\n",
      "9\n",
      "10\n",
      "11\n",
      "12\n",
      "13\n",
      "14\n",
      "15\n",
      "16\n",
      "17\n",
      "18\n",
      "19\n",
      "20\n",
      "21\n",
      "22\n",
      "23\n",
      "24\n",
      "25\n",
      "26\n",
      "27\n",
      "28\n",
      "29\n",
      "30\n",
      "31\n",
      "32\n",
      "33\n",
      "34\n",
      "35\n",
      "36\n",
      "37\n"
     ]
    }
   ],
   "source": [
    "#Next 30 request peages for season 2020\n",
    "for page in range(7,38):\n",
    "    data = []\n",
    "    data = statistics(2020, page)\n",
    "    statistic_2020 = statistic_2020 + data\n",
    "    print(page)\n",
    "    \n",
    "time.sleep(61)"
   ]
  },
  {
   "cell_type": "markdown",
   "id": "9586a137-02ab-4085-a136-493e01fd46a4",
   "metadata": {},
   "source": [
    "**Statistics for 2021**"
   ]
  },
  {
   "cell_type": "code",
   "execution_count": 55,
   "id": "775d6a5f-5fcb-47a8-9eea-387a0b437879",
   "metadata": {},
   "outputs": [
    {
     "name": "stdout",
     "output_type": "stream",
     "text": [
      "1\n",
      "2\n",
      "3\n",
      "4\n",
      "5\n",
      "6\n",
      "7\n",
      "8\n",
      "9\n"
     ]
    }
   ],
   "source": [
    "#Season 2021. Fisrt 9 request pages for season 2021\n",
    "statistic_2021 = []\n",
    "for page in range(1,10):\n",
    "    data = []\n",
    "    data = statistics(2021, page)\n",
    "    statistic_2021 = statistic_2021 + data\n",
    "    print(page)\n",
    "    \n",
    "time.sleep(61)"
   ]
  },
  {
   "cell_type": "code",
   "execution_count": 56,
   "id": "68709c70-7c45-463c-9492-e9a12f4d9f9f",
   "metadata": {},
   "outputs": [
    {
     "name": "stdout",
     "output_type": "stream",
     "text": [
      "9\n",
      "10\n",
      "11\n",
      "12\n",
      "13\n",
      "14\n",
      "15\n",
      "16\n",
      "17\n",
      "18\n",
      "19\n",
      "20\n",
      "21\n",
      "22\n",
      "23\n",
      "24\n",
      "25\n",
      "26\n",
      "27\n",
      "28\n",
      "29\n",
      "30\n",
      "31\n",
      "32\n",
      "33\n",
      "34\n",
      "35\n",
      "36\n",
      "37\n",
      "38\n",
      "39\n"
     ]
    }
   ],
   "source": [
    "#Next 30 request peages for season 2021\n",
    "for page in range(9,40):\n",
    "    data = []\n",
    "    data = statistics(2021, page)\n",
    "    statistic_2021 = statistic_2021 + data\n",
    "    print(page)\n",
    "    \n",
    "time.sleep(61)"
   ]
  },
  {
   "cell_type": "code",
   "execution_count": 57,
   "id": "0c659fc2-52ab-47e9-8b73-e018e36f9dbc",
   "metadata": {},
   "outputs": [],
   "source": [
    "total_statistics = statistic_2019 + statistic_2020 + statistic_2021"
   ]
  },
  {
   "cell_type": "markdown",
   "id": "22277b3b-44e3-47a5-ac9a-585970523d8b",
   "metadata": {},
   "source": [
    "# Set up data base\n",
    "\n",
    "As we specify on the readme the idea is to use a postgres data base to manage and upload the data. So, we create a postreges instance on GCP and define the conextion as follow:"
   ]
  },
  {
   "cell_type": "code",
   "execution_count": 14,
   "id": "3331e226-f48d-4164-9151-ec24b25f84b1",
   "metadata": {},
   "outputs": [],
   "source": [
    "host_args = db_host.split(\":\")\n",
    "if len(host_args) == 1:\n",
    "    db_hostname = db_host\n",
    "    db_port = 5432\n",
    "elif len(host_args) == 2:\n",
    "    db_hostname, db_port = host_args[0], int(host_args[1])\n",
    "\n",
    "conn = sqlalchemy.create_engine(\n",
    "    # Equivalent URL:\n",
    "    # postgresql+pg8000://<db_user>:<db_pass>@<db_host>:<db_port>/<db_name>\n",
    "    sqlalchemy.engine.url.URL.create(\n",
    "        drivername=\"postgresql+pg8000\",\n",
    "        username=db_user,  # e.g. \"my-database-user\"\n",
    "        password=db_pass,  # e.g. \"my-database-password\"\n",
    "        host=db_hostname,  # e.g. \"127.0.0.1\"\n",
    "        port=db_port,  # e.g. 5432\n",
    "        database=db_name  # e.g. \"my-database-name\"\n",
    "    )\n",
    ")"
   ]
  },
  {
   "cell_type": "markdown",
   "id": "424cdff1-86e4-4189-906a-3f37979beca7",
   "metadata": {},
   "source": [
    "**Test the connection**"
   ]
  },
  {
   "cell_type": "code",
   "execution_count": 15,
   "id": "dff698b8-5272-4940-869b-225a760fffbd",
   "metadata": {},
   "outputs": [
    {
     "data": {
      "text/plain": [
       "<sqlalchemy.engine.base.Connection at 0x7fbc2a0b0310>"
      ]
     },
     "execution_count": 15,
     "metadata": {},
     "output_type": "execute_result"
    }
   ],
   "source": [
    "conn.connect()"
   ]
  },
  {
   "cell_type": "markdown",
   "id": "1469ef34-26ad-489d-a614-5bbd0f980760",
   "metadata": {},
   "source": [
    "Define function to insert table on GCP"
   ]
  },
  {
   "cell_type": "code",
   "execution_count": 20,
   "id": "5ea4ed19-f228-44ce-b504-371b74357ef1",
   "metadata": {
    "tags": []
   },
   "outputs": [],
   "source": [
    "def insert_data(conn, table, data):\n",
    " ins = table.insert()\n",
    " conn.execute(ins, data)"
   ]
  },
  {
   "cell_type": "markdown",
   "id": "a9ac39e2-7b21-468f-baa8-668d74e7fb58",
   "metadata": {},
   "source": [
    "We create two tables _match_ table and _statistic_ table."
   ]
  },
  {
   "cell_type": "code",
   "execution_count": 100,
   "id": "60b41295-2805-4941-9ba1-cfde908325b5",
   "metadata": {},
   "outputs": [],
   "source": [
    "meta = MetaData()"
   ]
  },
  {
   "cell_type": "code",
   "execution_count": 16,
   "id": "ac34f06a-592a-41eb-8d60-d439801bb2bf",
   "metadata": {},
   "outputs": [],
   "source": [
    "match = Table(\n",
    "    'match', meta, \n",
    "    Column('id', Integer, primary_key = True), \n",
    "    Column('season', Integer), \n",
    "    Column('match_date', Date),\n",
    "    Column('local_team', String),\n",
    "    Column('away_team', String),\n",
    "    Column('local_goals', Integer),\n",
    "    Column('away_goals', Integer)\n",
    ")"
   ]
  },
  {
   "cell_type": "code",
   "execution_count": null,
   "id": "93ea1642-0ad0-491f-b31d-6cdc1debc8ec",
   "metadata": {},
   "outputs": [],
   "source": [
    "statistics = Table(\n",
    "    'statistics', meta, \n",
    "    Column('id', Integer, primary_key = True), \n",
    "    Column('season', Integer), \n",
    "    Column('player_id', Integer),\n",
    "    Column('player_name', String),\n",
    "    Column('age', Integer),\n",
    "    Column('injured', Boolean, nullable=True),\n",
    "    Column('team_id', Integer),\n",
    "    Column('appearences', Integer, nullable=True),\n",
    "    Column('minutes', Integer, nullable=True),\n",
    "    Column('position', String, nullable=True),\n",
    "    Column('rating', Float, nullable=True),\n",
    "    Column('shots', Integer, nullable=True),\n",
    "    Column('goals', Integer, nullable=True),\n",
    "    Column('assists', Integer, nullable=True),\n",
    "    Column('passes_accuracy', Float, nullable=True),\n",
    "    Column('total_duels', Integer, nullable=True),\n",
    "    Column('won_duels', Integer, nullable=True) \n",
    ")"
   ]
  },
  {
   "cell_type": "code",
   "execution_count": null,
   "id": "3521b8c8-3028-4313-9b59-3541406f160a",
   "metadata": {},
   "outputs": [],
   "source": [
    "meta.create_all(conn)"
   ]
  },
  {
   "cell_type": "code",
   "execution_count": null,
   "id": "d8a0fb3b-3b39-4e86-ba1d-11bd91835ecc",
   "metadata": {
    "tags": []
   },
   "outputs": [],
   "source": [
    "#Insert match data\n",
    "for season in all_season_data:\n",
    "    insert_data(conn,match,all_season_data[season])"
   ]
  },
  {
   "cell_type": "code",
   "execution_count": null,
   "id": "ccc571a5-2a60-4929-adc5-5463d8cac7fa",
   "metadata": {},
   "outputs": [],
   "source": [
    "#Inset statistics data\n",
    "for element in total_statistics:\n",
    "    del element['page']\n",
    "    \n",
    "insert_data(conn, statistics, total_statistics)"
   ]
  },
  {
   "cell_type": "code",
   "execution_count": null,
   "id": "a0eea594-bd78-4084-8feb-054d29d3f9e0",
   "metadata": {
    "tags": []
   },
   "outputs": [],
   "source": [
    "s = select(match)\n",
    "result = conn.execute(s)"
   ]
  },
  {
   "cell_type": "code",
   "execution_count": null,
   "id": "16c1facf-fbb2-40e8-b0d8-8539b5911508",
   "metadata": {
    "tags": []
   },
   "outputs": [],
   "source": [
    "for row in result:\n",
    "    print(row)"
   ]
  },
  {
   "cell_type": "code",
   "execution_count": 107,
   "id": "c2c17946-21b6-4e08-a0d9-072ca9b2d686",
   "metadata": {},
   "outputs": [],
   "source": [
    "s = select(statistics)\n",
    "result = conn.execute(s)"
   ]
  },
  {
   "cell_type": "code",
   "execution_count": null,
   "id": "e5873dbc-e166-4265-aef9-34c07cbf1df6",
   "metadata": {
    "tags": []
   },
   "outputs": [],
   "source": [
    "for row in result:\n",
    "    print(row)"
   ]
  },
  {
   "cell_type": "markdown",
   "id": "f8235402-ceae-4642-a431-cdbfa4ed523a",
   "metadata": {
    "tags": []
   },
   "source": [
    "## Documentation\n",
    "* <https://cloud.google.com/sdk/gcloud/reference/sql/connect>\n",
    "* <https://docs.sqlalchemy.org/en/14/core/tutorial.html#deletes>\n",
    "* <https://cloud.google.com/sql/docs/postgres/connect-app-engine-standard#private-ip_1>\n",
    "* https://docs.sqlalchemy.org/en/14/core/metadata.html"
   ]
  }
 ],
 "metadata": {
  "environment": {
   "kernel": "python3",
   "name": "common-cpu.m90",
   "type": "gcloud",
   "uri": "gcr.io/deeplearning-platform-release/base-cpu:m90"
  },
  "kernelspec": {
   "display_name": "Python 3",
   "language": "python",
   "name": "python3"
  },
  "language_info": {
   "codemirror_mode": {
    "name": "ipython",
    "version": 3
   },
   "file_extension": ".py",
   "mimetype": "text/x-python",
   "name": "python",
   "nbconvert_exporter": "python",
   "pygments_lexer": "ipython3",
   "version": "3.7.12"
  }
 },
 "nbformat": 4,
 "nbformat_minor": 5
}
